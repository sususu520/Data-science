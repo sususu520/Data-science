{
 "cells": [
  {
   "cell_type": "markdown",
   "metadata": {
    "id": "HV_Q5TwezWDc"
   },
   "source": [
    "## Imports and Setup"
   ]
  },
  {
   "cell_type": "code",
   "execution_count": 1,
   "metadata": {
    "executionInfo": {
     "elapsed": 2,
     "status": "ok",
     "timestamp": 1654539099246,
     "user": {
      "displayName": "Darian Shane Martos",
      "userId": "04419166853444755059"
     },
     "user_tz": 420
    },
    "id": "piqlZYGlx8i2"
   },
   "outputs": [],
   "source": [
    "## Project Imports\n",
    "import gspread\n",
    "import os\n",
    "import datetime as dt\n",
    "import numpy as np\n",
    "import pandas as pd\n",
    "import matplotlib.pyplot as plt\n",
    "\n",
    "from sklearn.preprocessing import StandardScaler\n",
    "from sklearn.pipeline import Pipeline\n",
    "from sklearn.preprocessing import LabelEncoder\n",
    "from sklearn.model_selection import train_test_split\n",
    "from sklearn.linear_model import LogisticRegression\n",
    "from sklearn.ensemble import RandomForestClassifier\n",
    "import xgboost as xgb"
   ]
  },
  {
   "cell_type": "code",
   "execution_count": 2,
   "metadata": {
    "executionInfo": {
     "elapsed": 4870,
     "status": "ok",
     "timestamp": 1654539104114,
     "user": {
      "displayName": "Darian Shane Martos",
      "userId": "04419166853444755059"
     },
     "user_tz": 420
    },
    "id": "vWxiH4wQzZDT"
   },
   "outputs": [],
   "source": [
    "pres_data = pd.read_excel(r\"C:\\Users\\gr0581vr\\Desktop\\homework\\2022-2024-elections-main\\full-data.xlsx\", sheet_name=0)\n",
    "sen_data = pd.read_excel(r\"C:\\Users\\gr0581vr\\Desktop\\homework\\2022-2024-elections-main\\full-data.xlsx\", sheet_name=1)"
   ]
  },
  {
   "cell_type": "code",
   "execution_count": 3,
   "metadata": {
    "colab": {
     "base_uri": "https://localhost:8080/"
    },
    "executionInfo": {
     "elapsed": 5,
     "status": "ok",
     "timestamp": 1654539104114,
     "user": {
      "displayName": "Darian Shane Martos",
      "userId": "04419166853444755059"
     },
     "user_tz": 420
    },
    "id": "VCD2ASprOwAF",
    "outputId": "5112c675-8abb-4f76-9e7f-d11d7c9a0900"
   },
   "outputs": [
    {
     "name": "stdout",
     "output_type": "stream",
     "text": [
      "C:\\Users\\gr0581vr\\Desktop\\homework\\2022-2024-elections-main\n"
     ]
    }
   ],
   "source": [
    "cwd = os.getcwd() ## Needed for writing csvs \n",
    "print(cwd)"
   ]
  },
  {
   "cell_type": "code",
   "execution_count": 4,
   "metadata": {
    "executionInfo": {
     "elapsed": 3,
     "status": "ok",
     "timestamp": 1654539104114,
     "user": {
      "displayName": "Darian Shane Martos",
      "userId": "04419166853444755059"
     },
     "user_tz": 420
    },
    "id": "JL_NZJN70YlY"
   },
   "outputs": [],
   "source": [
    "## First we form predictions for presidential data\n",
    "## We will use 2016 results as a training set, this will involve using all \n",
    "## features above except for 2020 population and 2020 polling info columns \n",
    "\n",
    "le = LabelEncoder()\n",
    "region_enc = le.fit_transform(pres_data['Region'])\n",
    "pres_data[\"Region\"] = region_enc\n",
    "sen_data[\"Region\"] = region_enc"
   ]
  },
  {
   "cell_type": "code",
   "execution_count": 5,
   "metadata": {
    "executionInfo": {
     "elapsed": 2,
     "status": "ok",
     "timestamp": 1654539104114,
     "user": {
      "displayName": "Darian Shane Martos",
      "userId": "04419166853444755059"
     },
     "user_tz": 420
    },
    "id": "TIj0_1MSzgvu"
   },
   "outputs": [],
   "source": [
    "noninc_cols_train = ['State','2020 Population','recent-five-polling-avg-20','polling-party-lead-20','pres2016','pres2020']\n",
    "pres_train_X = pres_data.drop(noninc_cols_train, axis=1)\n",
    "pres_train_y = pres_data[['pres2016']]"
   ]
  },
  {
   "cell_type": "markdown",
   "metadata": {
    "id": "GJ_SwhXc1Ess"
   },
   "source": [
    "## Model Creation\n",
    "\n",
    "Models here are: logistic regression with no penalty, logistic regression models with l1 and l2 penalization terms, random forests, xgboost.\n",
    "\n",
    "Note for logistic regression we employ a standard scaling as necessary when applying regularization terms. We keep the standardization even for no-penalty (regular) logistic regression just for the sake of completion. No standardization is done for "
   ]
  },
  {
   "cell_type": "code",
   "execution_count": 6,
   "metadata": {
    "colab": {
     "base_uri": "https://localhost:8080/"
    },
    "executionInfo": {
     "elapsed": 171,
     "status": "ok",
     "timestamp": 1654539104283,
     "user": {
      "displayName": "Darian Shane Martos",
      "userId": "04419166853444755059"
     },
     "user_tz": 420
    },
    "id": "TSywtnDqHG-u",
    "outputId": "25cae43b-44f7-4de8-b76e-8444ce612c50"
   },
   "outputs": [
    {
     "name": "stderr",
     "output_type": "stream",
     "text": [
      "C:\\Users\\gr0581vr\\Anaconda3\\envs\\homework\\lib\\site-packages\\sklearn\\linear_model\\_sag.py:350: ConvergenceWarning: The max_iter was reached which means the coef_ did not converge\n",
      "  warnings.warn(\n",
      "C:\\Users\\gr0581vr\\Anaconda3\\envs\\homework\\lib\\site-packages\\sklearn\\linear_model\\_sag.py:350: ConvergenceWarning: The max_iter was reached which means the coef_ did not converge\n",
      "  warnings.warn(\n",
      "C:\\Users\\gr0581vr\\Anaconda3\\envs\\homework\\lib\\site-packages\\sklearn\\linear_model\\_sag.py:350: ConvergenceWarning: The max_iter was reached which means the coef_ did not converge\n",
      "  warnings.warn(\n",
      "C:\\Users\\gr0581vr\\Anaconda3\\envs\\homework\\lib\\site-packages\\sklearn\\linear_model\\_sag.py:350: ConvergenceWarning: The max_iter was reached which means the coef_ did not converge\n",
      "  warnings.warn(\n",
      "C:\\Users\\gr0581vr\\Anaconda3\\envs\\homework\\lib\\site-packages\\sklearn\\linear_model\\_sag.py:350: ConvergenceWarning: The max_iter was reached which means the coef_ did not converge\n",
      "  warnings.warn(\n",
      "C:\\Users\\gr0581vr\\Anaconda3\\envs\\homework\\lib\\site-packages\\sklearn\\linear_model\\_sag.py:350: ConvergenceWarning: The max_iter was reached which means the coef_ did not converge\n",
      "  warnings.warn(\n"
     ]
    },
    {
     "data": {
      "text/html": [
       "<style>#sk-container-id-1 {color: black;background-color: white;}#sk-container-id-1 pre{padding: 0;}#sk-container-id-1 div.sk-toggleable {background-color: white;}#sk-container-id-1 label.sk-toggleable__label {cursor: pointer;display: block;width: 100%;margin-bottom: 0;padding: 0.3em;box-sizing: border-box;text-align: center;}#sk-container-id-1 label.sk-toggleable__label-arrow:before {content: \"▸\";float: left;margin-right: 0.25em;color: #696969;}#sk-container-id-1 label.sk-toggleable__label-arrow:hover:before {color: black;}#sk-container-id-1 div.sk-estimator:hover label.sk-toggleable__label-arrow:before {color: black;}#sk-container-id-1 div.sk-toggleable__content {max-height: 0;max-width: 0;overflow: hidden;text-align: left;background-color: #f0f8ff;}#sk-container-id-1 div.sk-toggleable__content pre {margin: 0.2em;color: black;border-radius: 0.25em;background-color: #f0f8ff;}#sk-container-id-1 input.sk-toggleable__control:checked~div.sk-toggleable__content {max-height: 200px;max-width: 100%;overflow: auto;}#sk-container-id-1 input.sk-toggleable__control:checked~label.sk-toggleable__label-arrow:before {content: \"▾\";}#sk-container-id-1 div.sk-estimator input.sk-toggleable__control:checked~label.sk-toggleable__label {background-color: #d4ebff;}#sk-container-id-1 div.sk-label input.sk-toggleable__control:checked~label.sk-toggleable__label {background-color: #d4ebff;}#sk-container-id-1 input.sk-hidden--visually {border: 0;clip: rect(1px 1px 1px 1px);clip: rect(1px, 1px, 1px, 1px);height: 1px;margin: -1px;overflow: hidden;padding: 0;position: absolute;width: 1px;}#sk-container-id-1 div.sk-estimator {font-family: monospace;background-color: #f0f8ff;border: 1px dotted black;border-radius: 0.25em;box-sizing: border-box;margin-bottom: 0.5em;}#sk-container-id-1 div.sk-estimator:hover {background-color: #d4ebff;}#sk-container-id-1 div.sk-parallel-item::after {content: \"\";width: 100%;border-bottom: 1px solid gray;flex-grow: 1;}#sk-container-id-1 div.sk-label:hover label.sk-toggleable__label {background-color: #d4ebff;}#sk-container-id-1 div.sk-serial::before {content: \"\";position: absolute;border-left: 1px solid gray;box-sizing: border-box;top: 0;bottom: 0;left: 50%;z-index: 0;}#sk-container-id-1 div.sk-serial {display: flex;flex-direction: column;align-items: center;background-color: white;padding-right: 0.2em;padding-left: 0.2em;position: relative;}#sk-container-id-1 div.sk-item {position: relative;z-index: 1;}#sk-container-id-1 div.sk-parallel {display: flex;align-items: stretch;justify-content: center;background-color: white;position: relative;}#sk-container-id-1 div.sk-item::before, #sk-container-id-1 div.sk-parallel-item::before {content: \"\";position: absolute;border-left: 1px solid gray;box-sizing: border-box;top: 0;bottom: 0;left: 50%;z-index: -1;}#sk-container-id-1 div.sk-parallel-item {display: flex;flex-direction: column;z-index: 1;position: relative;background-color: white;}#sk-container-id-1 div.sk-parallel-item:first-child::after {align-self: flex-end;width: 50%;}#sk-container-id-1 div.sk-parallel-item:last-child::after {align-self: flex-start;width: 50%;}#sk-container-id-1 div.sk-parallel-item:only-child::after {width: 0;}#sk-container-id-1 div.sk-dashed-wrapped {border: 1px dashed gray;margin: 0 0.4em 0.5em 0.4em;box-sizing: border-box;padding-bottom: 0.4em;background-color: white;}#sk-container-id-1 div.sk-label label {font-family: monospace;font-weight: bold;display: inline-block;line-height: 1.2em;}#sk-container-id-1 div.sk-label-container {text-align: center;}#sk-container-id-1 div.sk-container {/* jupyter's `normalize.less` sets `[hidden] { display: none; }` but bootstrap.min.css set `[hidden] { display: none !important; }` so we also need the `!important` here to be able to override the default hidden behavior on the sphinx rendered scikit-learn.org. See: https://github.com/scikit-learn/scikit-learn/issues/21755 */display: inline-block !important;position: relative;}#sk-container-id-1 div.sk-text-repr-fallback {display: none;}</style><div id=\"sk-container-id-1\" class=\"sk-top-container\"><div class=\"sk-text-repr-fallback\"><pre>Pipeline(steps=[(&#x27;standardize&#x27;, StandardScaler()),\n",
       "                (&#x27;elo8_reg&#x27;,\n",
       "                 LogisticRegression(l1_ratio=0.8, penalty=&#x27;elasticnet&#x27;,\n",
       "                                    solver=&#x27;saga&#x27;))])</pre><b>In a Jupyter environment, please rerun this cell to show the HTML representation or trust the notebook. <br />On GitHub, the HTML representation is unable to render, please try loading this page with nbviewer.org.</b></div><div class=\"sk-container\" hidden><div class=\"sk-item sk-dashed-wrapped\"><div class=\"sk-label-container\"><div class=\"sk-label sk-toggleable\"><input class=\"sk-toggleable__control sk-hidden--visually\" id=\"sk-estimator-id-1\" type=\"checkbox\" ><label for=\"sk-estimator-id-1\" class=\"sk-toggleable__label sk-toggleable__label-arrow\">Pipeline</label><div class=\"sk-toggleable__content\"><pre>Pipeline(steps=[(&#x27;standardize&#x27;, StandardScaler()),\n",
       "                (&#x27;elo8_reg&#x27;,\n",
       "                 LogisticRegression(l1_ratio=0.8, penalty=&#x27;elasticnet&#x27;,\n",
       "                                    solver=&#x27;saga&#x27;))])</pre></div></div></div><div class=\"sk-serial\"><div class=\"sk-item\"><div class=\"sk-estimator sk-toggleable\"><input class=\"sk-toggleable__control sk-hidden--visually\" id=\"sk-estimator-id-2\" type=\"checkbox\" ><label for=\"sk-estimator-id-2\" class=\"sk-toggleable__label sk-toggleable__label-arrow\">StandardScaler</label><div class=\"sk-toggleable__content\"><pre>StandardScaler()</pre></div></div></div><div class=\"sk-item\"><div class=\"sk-estimator sk-toggleable\"><input class=\"sk-toggleable__control sk-hidden--visually\" id=\"sk-estimator-id-3\" type=\"checkbox\" ><label for=\"sk-estimator-id-3\" class=\"sk-toggleable__label sk-toggleable__label-arrow\">LogisticRegression</label><div class=\"sk-toggleable__content\"><pre>LogisticRegression(l1_ratio=0.8, penalty=&#x27;elasticnet&#x27;, solver=&#x27;saga&#x27;)</pre></div></div></div></div></div></div></div>"
      ],
      "text/plain": [
       "Pipeline(steps=[('standardize', StandardScaler()),\n",
       "                ('elo8_reg',\n",
       "                 LogisticRegression(l1_ratio=0.8, penalty='elasticnet',\n",
       "                                    solver='saga'))])"
      ]
     },
     "execution_count": 6,
     "metadata": {},
     "output_type": "execute_result"
    }
   ],
   "source": [
    "## Logistic Regression with Scaling\n",
    "scaler = StandardScaler()\n",
    "lr = LogisticRegression(penalty='none', solver = 'saga')\n",
    "lrmodel = Pipeline([('standardize', scaler), ('log_reg', lr)])\n",
    "lrmodel.fit(pres_train_X,pres_train_y.values.ravel())\n",
    "\n",
    "## L1-Penalty Logistic Regression (\"LASSO-like\" logistic regression)\n",
    "lassor = LogisticRegression(penalty='l1', solver = 'saga')\n",
    "lassomodel = Pipeline([('standardize', scaler), ('lasso_log_reg', lassor)])\n",
    "lassomodel.fit(pres_train_X,pres_train_y.values.ravel())\n",
    "\n",
    "## L2-Penalty Logistic Regression\n",
    "ridger = LogisticRegression()\n",
    "ridgemodel = Pipeline([('standardize', scaler), ('ridge_log_reg', ridger)])\n",
    "ridgemodel.fit(pres_train_X,pres_train_y.values.ravel())\n",
    "\n",
    "## Elastic Net Logistic Regression (l1_ratio = 0.2)\n",
    "elo2r = LogisticRegression(penalty='elasticnet', solver = 'saga', l1_ratio = 0.2)\n",
    "elo2model = Pipeline([('standardize', scaler), ('elo2_reg', elo2r)])\n",
    "elo2model.fit(pres_train_X,pres_train_y.values.ravel())\n",
    "\n",
    "## Elastic Net Logistic Regression (l1_ratio = 0.4)\n",
    "elo4r = LogisticRegression(penalty='elasticnet', solver = 'saga', l1_ratio = 0.4)\n",
    "elo4model = Pipeline([('standardize', scaler), ('elo4_reg', elo4r)])\n",
    "elo4model.fit(pres_train_X,pres_train_y.values.ravel())\n",
    "\n",
    "## Elastic Net Logistic Regression (l1_ratio = 0.6)\n",
    "elo6r = LogisticRegression(penalty='elasticnet', solver = 'saga', l1_ratio = 0.6)\n",
    "elo6model = Pipeline([('standardize', scaler), ('elo6_reg', elo6r)])\n",
    "elo6model.fit(pres_train_X,pres_train_y.values.ravel())\n",
    "\n",
    "## Elastic Net Logistic Regression (l1_ratio = 0.8)\n",
    "elo8r = LogisticRegression(penalty='elasticnet', solver = 'saga', l1_ratio = 0.8)\n",
    "elo8model = Pipeline([('standardize', scaler), ('elo8_reg', elo8r)])\n",
    "elo8model.fit(pres_train_X,pres_train_y.values.ravel())"
   ]
  },
  {
   "cell_type": "markdown",
   "metadata": {
    "id": "x9NsDcisZKI3"
   },
   "source": [
    "## Some Inference Info (Coefficients)"
   ]
  },
  {
   "cell_type": "code",
   "execution_count": 7,
   "metadata": {
    "colab": {
     "base_uri": "https://localhost:8080/"
    },
    "executionInfo": {
     "elapsed": 7,
     "status": "ok",
     "timestamp": 1654539104283,
     "user": {
      "displayName": "Darian Shane Martos",
      "userId": "04419166853444755059"
     },
     "user_tz": 420
    },
    "id": "-kzSij_cZO1b",
    "outputId": "85cf883b-7d14-40a7-f7f1-b1567335d838"
   },
   "outputs": [
    {
     "name": "stdout",
     "output_type": "stream",
     "text": [
      "Logistic Regression - No Penalty\n",
      "[[-0.616832   -0.55669398 -0.5116188  -0.43863403 -0.32843077 -0.2900192\n",
      "  -0.27718827 -0.16079679 -0.14881155 -0.08675923  0.05993003  0.07173515\n",
      "   0.16219093  0.18767925  0.19317982  0.20133463  0.26538569  0.29778238\n",
      "   0.32005358  0.36882285  0.40625299  0.44469243  0.4487799   0.46125644\n",
      "   0.47341182  0.50668156  0.53205522  0.56634678  0.69060583  0.72805877\n",
      "   1.95479828]]\n",
      "[[ 9 24  1 11 21  8  6 17 10 15 23  0 22 29  2  3 18 19 12 20 27  4 26 16\n",
      "   5  7 25 14 13 28 30]]\n",
      "LASSO Regression\n",
      "[[-0.02513214  0.          0.          0.          0.          0.\n",
      "   0.          0.          0.          0.          0.          0.\n",
      "   0.          0.          0.          0.          0.          0.\n",
      "   0.          0.          0.          0.          0.          0.\n",
      "   0.          0.          0.12160459  0.2028711   0.26648594  0.6664251\n",
      "   2.42609907]]\n",
      "[[ 9  0 27 26 25 24 23 22 21 20 19 18 17 16 29 15 12 11 10  8  6  4  3  2\n",
      "   1 14  7  5 13 28 30]]\n",
      "Ridge Regression\n",
      "[[-0.40214395 -0.37667092 -0.28359664 -0.21455842 -0.15021314 -0.14979367\n",
      "  -0.14555217 -0.14137555 -0.06121984 -0.05367549 -0.04913076  0.02323214\n",
      "   0.02937913  0.04482123  0.11632253  0.12133454  0.15509345  0.16145154\n",
      "   0.18237386  0.20397333  0.22829967  0.2786556   0.29214121  0.33693464\n",
      "   0.33794148  0.34051282  0.3669824   0.40918722  0.41283773  0.57600893\n",
      "   1.23958201]]\n",
      "[[ 9 24  1 11 17  8  6 21 10 29 15 23  0 19 27 22  2 16  3 18 12 20 26 25\n",
      "   7 14  4  5 13 28 30]]\n",
      "EL-0.2 Logistic Regression\n",
      "[[-0.35840077 -0.31642233 -0.19895205 -0.13960255 -0.05679933 -0.03136872\n",
      "  -0.0205068  -0.00660761  0.          0.          0.          0.\n",
      "   0.          0.          0.02743739  0.07266424  0.08146863  0.11109308\n",
      "   0.11297407  0.11443659  0.13222838  0.20719735  0.20871547  0.2286595\n",
      "   0.27327954  0.28929429  0.32362601  0.35899552  0.40338899  0.56725305\n",
      "   1.43043091]]\n",
      "[[ 9 24  1 11 21  8  6 17 10 15 23  0 22 29  2  3 18 19 12 20 27  4 26 16\n",
      "   5  7 25 14 13 28 30]]\n",
      "EL-0.4 Logistic Regression\n",
      "[[-0.3168606  -0.24869345 -0.0509511  -0.02451215  0.          0.\n",
      "   0.          0.          0.          0.          0.          0.\n",
      "   0.          0.          0.          0.          0.01480697  0.02449276\n",
      "   0.02529361  0.05048881  0.066269    0.09725866  0.16151843  0.17550543\n",
      "   0.21256972  0.21539372  0.30537624  0.32743357  0.38684079  0.60087561\n",
      "   1.64541112]]\n",
      "[[ 9  0 27 26 25 24 23 22 21 20 19 18 17 16 29 15 12 11 10  8  6  4  3  2\n",
      "   1 14  7  5 13 28 30]]\n",
      "EL-0.6 Logistic Regression\n",
      "[[-0.23458865 -0.12517267  0.          0.          0.          0.\n",
      "   0.          0.          0.          0.          0.          0.\n",
      "   0.          0.          0.          0.          0.          0.\n",
      "   0.          0.          0.          0.          0.06252297  0.09888509\n",
      "   0.11114566  0.16908547  0.25510312  0.31910638  0.36674674  0.63145436\n",
      "   1.8990561 ]]\n",
      "[[ 9 24  1 11 17  8  6 21 10 29 15 23  0 19 27 22  2 16  3 18 12 20 26 25\n",
      "   7 14  4  5 13 28 30]]\n",
      "EL-0.8 Logistic Regression\n",
      "[[-0.14986411 -0.01983746  0.          0.          0.          0.\n",
      "   0.          0.          0.          0.          0.          0.\n",
      "   0.          0.          0.          0.          0.          0.\n",
      "   0.          0.          0.          0.          0.          0.\n",
      "   0.0087429   0.0914621   0.20329982  0.28300939  0.3291432   0.67136\n",
      "   2.13771285]]\n",
      "[[ 9 24  1 11 21  8  6 17 10 15 23  0 22 29  2  3 18 19 12 20 27  4 26 16\n",
      "   5  7 25 14 13 28 30]]\n"
     ]
    }
   ],
   "source": [
    "## Coefficients organized from least important to most important\n",
    "print(\"Logistic Regression - No Penalty\")\n",
    "print(np.sort(lr.coef_))\n",
    "print(np.argsort(np.array(lr.coef_)))\n",
    "\n",
    "print(\"LASSO Regression\")\n",
    "print(np.sort(lassor.coef_))\n",
    "print(np.argsort(np.array(lassor.coef_)))\n",
    "\n",
    "print(\"Ridge Regression\")\n",
    "print(np.sort(ridger.coef_))\n",
    "print(np.argsort(np.array(ridger.coef_)))\n",
    "\n",
    "print(\"EL-0.2 Logistic Regression\")\n",
    "print(np.sort(elo2r.coef_))\n",
    "print(np.argsort(np.array(lr.coef_)))\n",
    "\n",
    "print(\"EL-0.4 Logistic Regression\")\n",
    "print(np.sort(elo4r.coef_))\n",
    "print(np.argsort(np.array(lassor.coef_)))\n",
    "\n",
    "print(\"EL-0.6 Logistic Regression\")\n",
    "print(np.sort(elo6r.coef_))\n",
    "print(np.argsort(np.array(ridger.coef_)))\n",
    "\n",
    "print(\"EL-0.8 Logistic Regression\")\n",
    "print(np.sort(elo8r.coef_))\n",
    "print(np.argsort(np.array(lr.coef_)))"
   ]
  },
  {
   "cell_type": "markdown",
   "metadata": {
    "id": "O8Ivamga1Wq6"
   },
   "source": [
    "## Creating a Test Set\n",
    "\n",
    "Test set here is similar features to the training data, however we make the following changes:\n",
    "\n",
    "*   Obviously remove any 2016 related info, so we remove 2010 population counts and the 2016 presidential polling averages.\n",
    "*   From the training data, we fit the model with using 2000 presidential election results, but instead we will use \n",
    "\n"
   ]
  },
  {
   "cell_type": "code",
   "execution_count": 8,
   "metadata": {
    "executionInfo": {
     "elapsed": 6,
     "status": "ok",
     "timestamp": 1654539104284,
     "user": {
      "displayName": "Darian Shane Martos",
      "userId": "04419166853444755059"
     },
     "user_tz": 420
    },
    "id": "5Xpx1ILv1WdN"
   },
   "outputs": [],
   "source": [
    "noninc_cols_test = ['State','2010 Population','recent-five-polling-avg-16','polling-party-lead-16','pres2000','pres2020']\n",
    "pres_test_X = pres_data.drop(noninc_cols_test, axis=1)\n",
    "pres_test_y = pres_data[['pres2020']]\n",
    "\n",
    "## Move 2016 results to position where 2012 results\n",
    "## Here we use 2004, 2008, 2012, 2016 results as predictors towards 2020 results\n",
    "## Since 2000 was removed we have to rearrange columns here\n",
    "col_move = pres_test_X.pop(\"pres2016\")\n",
    "pres_test_X.insert(2, \"pres2016\", col_move)\n",
    "\n",
    "## Rename columns just so the models can run\n",
    "## A little bit hacky but we turn the 2000 results into 2016 results\n",
    "dict = {'2020 Population': '2010 Population',\n",
    "        'polling-party-lead-20': 'polling-party-lead-16',\n",
    "        'pres2016': 'pres2000',\n",
    "        'recent-five-polling-avg-20': 'recent-five-polling-avg-16',}\n",
    " \n",
    "# call rename () method\n",
    "pres_test_X.rename(columns=dict,inplace=True)"
   ]
  },
  {
   "cell_type": "code",
   "execution_count": 9,
   "metadata": {
    "executionInfo": {
     "elapsed": 5,
     "status": "ok",
     "timestamp": 1654539104284,
     "user": {
      "displayName": "Darian Shane Martos",
      "userId": "04419166853444755059"
     },
     "user_tz": 420
    },
    "id": "AG-Vh9OL5rCM"
   },
   "outputs": [],
   "source": [
    "## Form predictions over all models (omitted logistic regression/ridge/lasso models, see other notebook)\n",
    "elo2preds = elo2model.predict(pres_test_X)\n",
    "elo4preds = elo4model.predict(pres_test_X)\n",
    "elo6preds = elo6model.predict(pres_test_X)\n",
    "elo8preds = elo8model.predict(pres_test_X)"
   ]
  },
  {
   "cell_type": "code",
   "execution_count": 10,
   "metadata": {
    "colab": {
     "base_uri": "https://localhost:8080/"
    },
    "executionInfo": {
     "elapsed": 5,
     "status": "ok",
     "timestamp": 1654539104284,
     "user": {
      "displayName": "Darian Shane Martos",
      "userId": "04419166853444755059"
     },
     "user_tz": 420
    },
    "id": "p0J591SN6TFF",
    "outputId": "4fbe7b1c-1f9a-42b8-bd25-028f1c410e6a"
   },
   "outputs": [
    {
     "name": "stdout",
     "output_type": "stream",
     "text": [
      "[0 0 0 0 1 1 1 1 0 0 1 0 1 0 0 0 0 0 1 1 1 0 1 0 0 0 0 1 1 1 1 1 0 0 0 0 1\n",
      " 0 1 0 0 0 0 0 1 1 1 0 0 0]\n",
      "[0 0 0 0 1 1 1 1 0 0 1 0 1 0 0 0 0 0 1 1 1 0 1 0 0 0 0 1 1 1 1 1 0 0 0 0 1\n",
      " 0 1 0 0 0 0 0 1 1 1 0 0 0]\n",
      "[0 0 0 0 1 1 1 1 0 0 1 0 1 0 0 0 0 0 1 1 1 0 1 0 0 0 0 1 1 1 1 1 0 0 0 0 1\n",
      " 0 1 0 0 0 0 0 1 1 1 0 0 0]\n",
      "[0 0 0 0 1 1 1 1 0 0 1 0 1 0 0 0 0 0 1 1 1 0 1 0 0 0 0 1 1 1 1 1 0 0 0 0 1\n",
      " 0 1 0 0 0 0 0 1 1 1 0 0 0]\n"
     ]
    }
   ],
   "source": [
    "## Notably, all the classification results are the same\n",
    "print(elo2preds)\n",
    "print(elo4preds)\n",
    "print(elo6preds)\n",
    "print(elo8preds)"
   ]
  },
  {
   "cell_type": "markdown",
   "metadata": {
    "id": "w8tRTcWkBrH_"
   },
   "source": [
    "## Senate Predictions\n",
    "\n",
    "Here we form predictions for the US senate for the upcoming 2022 Midterm Elections.\n",
    "\n",
    "As a note, the preprocessing here for the senate data is altered. We have a set of 13 \"competitive\" states that are considered competitive based off [2022 US Senate Election Ratings](https://en.wikipedia.org/wiki/2022_United_States_Senate_elections#Predictions). These will form our test set,and the training set will be over other states where (1) they have no Senate competition in 2022 so we use their most recent party outcome for the most recent Senate election in 2020 or (2) forecasting and demographic/polling factors strongly indicate a party direction for the Senate results, to the point where no forecasting is necessary and polling is usually sparse. The paper addresses this in more depth as a potential challenge."
   ]
  },
  {
   "cell_type": "code",
   "execution_count": 11,
   "metadata": {
    "colab": {
     "base_uri": "https://localhost:8080/"
    },
    "executionInfo": {
     "elapsed": 5,
     "status": "ok",
     "timestamp": 1654539104406,
     "user": {
      "displayName": "Darian Shane Martos",
      "userId": "04419166853444755059"
     },
     "user_tz": 420
    },
    "id": "LWeRg5Uu8Zt2",
    "outputId": "edaddab9-54d7-4732-952c-aa2062de68ba"
   },
   "outputs": [
    {
     "name": "stdout",
     "output_type": "stream",
     "text": [
      "[0, 3, 4, 6, 7, 10, 11, 12, 13, 14, 15, 16, 17, 18, 19, 20, 21, 22, 23, 25, 26, 29, 30, 31, 33, 35, 36, 38, 39, 40, 41, 42, 43, 44, 45, 47, 49]\n",
      "[1, 2, 5, 8, 9, 24, 27, 28, 32, 34, 37, 46, 48]\n"
     ]
    }
   ],
   "source": [
    "null_results = pd.isnull(sen_data[\"recent-res\"])\n",
    "competitive_states = [i for i, n in enumerate(null_results) if n == True] \n",
    "other_states = list(set(list(range(50))) - set(competitive_states))\n",
    "print(other_states)\n",
    "print(competitive_states)\n",
    "\n",
    "sen_data = sen_data.drop([\"State\"], axis = 1)\n",
    "sen_train_X = sen_data.iloc[other_states]\n",
    "sen_train_X = sen_train_X.drop([\"recent-res\"], axis = 1)\n",
    "sen_train_y = sen_data[~sen_data['recent-res'].isnull()]['recent-res']\n",
    "sen_test_X = sen_data.iloc[competitive_states]\n",
    "sen_test_X = sen_test_X.drop([\"recent-res\"], axis = 1)"
   ]
  },
  {
   "cell_type": "code",
   "execution_count": 12,
   "metadata": {
    "colab": {
     "base_uri": "https://localhost:8080/"
    },
    "executionInfo": {
     "elapsed": 4,
     "status": "ok",
     "timestamp": 1654539104406,
     "user": {
      "displayName": "Darian Shane Martos",
      "userId": "04419166853444755059"
     },
     "user_tz": 420
    },
    "id": "cg1fr7TpGVFG",
    "outputId": "5bf2641d-77f1-4e19-f7af-5be96947bc9a"
   },
   "outputs": [
    {
     "name": "stderr",
     "output_type": "stream",
     "text": [
      "C:\\Users\\gr0581vr\\Anaconda3\\envs\\homework\\lib\\site-packages\\sklearn\\linear_model\\_sag.py:350: ConvergenceWarning: The max_iter was reached which means the coef_ did not converge\n",
      "  warnings.warn(\n",
      "C:\\Users\\gr0581vr\\Anaconda3\\envs\\homework\\lib\\site-packages\\sklearn\\linear_model\\_sag.py:350: ConvergenceWarning: The max_iter was reached which means the coef_ did not converge\n",
      "  warnings.warn(\n",
      "C:\\Users\\gr0581vr\\Anaconda3\\envs\\homework\\lib\\site-packages\\sklearn\\linear_model\\_sag.py:350: ConvergenceWarning: The max_iter was reached which means the coef_ did not converge\n",
      "  warnings.warn(\n",
      "C:\\Users\\gr0581vr\\Anaconda3\\envs\\homework\\lib\\site-packages\\sklearn\\linear_model\\_sag.py:350: ConvergenceWarning: The max_iter was reached which means the coef_ did not converge\n",
      "  warnings.warn(\n",
      "C:\\Users\\gr0581vr\\Anaconda3\\envs\\homework\\lib\\site-packages\\sklearn\\linear_model\\_sag.py:350: ConvergenceWarning: The max_iter was reached which means the coef_ did not converge\n",
      "  warnings.warn(\n",
      "C:\\Users\\gr0581vr\\Anaconda3\\envs\\homework\\lib\\site-packages\\sklearn\\linear_model\\_sag.py:350: ConvergenceWarning: The max_iter was reached which means the coef_ did not converge\n",
      "  warnings.warn(\n"
     ]
    },
    {
     "data": {
      "text/html": [
       "<style>#sk-container-id-2 {color: black;background-color: white;}#sk-container-id-2 pre{padding: 0;}#sk-container-id-2 div.sk-toggleable {background-color: white;}#sk-container-id-2 label.sk-toggleable__label {cursor: pointer;display: block;width: 100%;margin-bottom: 0;padding: 0.3em;box-sizing: border-box;text-align: center;}#sk-container-id-2 label.sk-toggleable__label-arrow:before {content: \"▸\";float: left;margin-right: 0.25em;color: #696969;}#sk-container-id-2 label.sk-toggleable__label-arrow:hover:before {color: black;}#sk-container-id-2 div.sk-estimator:hover label.sk-toggleable__label-arrow:before {color: black;}#sk-container-id-2 div.sk-toggleable__content {max-height: 0;max-width: 0;overflow: hidden;text-align: left;background-color: #f0f8ff;}#sk-container-id-2 div.sk-toggleable__content pre {margin: 0.2em;color: black;border-radius: 0.25em;background-color: #f0f8ff;}#sk-container-id-2 input.sk-toggleable__control:checked~div.sk-toggleable__content {max-height: 200px;max-width: 100%;overflow: auto;}#sk-container-id-2 input.sk-toggleable__control:checked~label.sk-toggleable__label-arrow:before {content: \"▾\";}#sk-container-id-2 div.sk-estimator input.sk-toggleable__control:checked~label.sk-toggleable__label {background-color: #d4ebff;}#sk-container-id-2 div.sk-label input.sk-toggleable__control:checked~label.sk-toggleable__label {background-color: #d4ebff;}#sk-container-id-2 input.sk-hidden--visually {border: 0;clip: rect(1px 1px 1px 1px);clip: rect(1px, 1px, 1px, 1px);height: 1px;margin: -1px;overflow: hidden;padding: 0;position: absolute;width: 1px;}#sk-container-id-2 div.sk-estimator {font-family: monospace;background-color: #f0f8ff;border: 1px dotted black;border-radius: 0.25em;box-sizing: border-box;margin-bottom: 0.5em;}#sk-container-id-2 div.sk-estimator:hover {background-color: #d4ebff;}#sk-container-id-2 div.sk-parallel-item::after {content: \"\";width: 100%;border-bottom: 1px solid gray;flex-grow: 1;}#sk-container-id-2 div.sk-label:hover label.sk-toggleable__label {background-color: #d4ebff;}#sk-container-id-2 div.sk-serial::before {content: \"\";position: absolute;border-left: 1px solid gray;box-sizing: border-box;top: 0;bottom: 0;left: 50%;z-index: 0;}#sk-container-id-2 div.sk-serial {display: flex;flex-direction: column;align-items: center;background-color: white;padding-right: 0.2em;padding-left: 0.2em;position: relative;}#sk-container-id-2 div.sk-item {position: relative;z-index: 1;}#sk-container-id-2 div.sk-parallel {display: flex;align-items: stretch;justify-content: center;background-color: white;position: relative;}#sk-container-id-2 div.sk-item::before, #sk-container-id-2 div.sk-parallel-item::before {content: \"\";position: absolute;border-left: 1px solid gray;box-sizing: border-box;top: 0;bottom: 0;left: 50%;z-index: -1;}#sk-container-id-2 div.sk-parallel-item {display: flex;flex-direction: column;z-index: 1;position: relative;background-color: white;}#sk-container-id-2 div.sk-parallel-item:first-child::after {align-self: flex-end;width: 50%;}#sk-container-id-2 div.sk-parallel-item:last-child::after {align-self: flex-start;width: 50%;}#sk-container-id-2 div.sk-parallel-item:only-child::after {width: 0;}#sk-container-id-2 div.sk-dashed-wrapped {border: 1px dashed gray;margin: 0 0.4em 0.5em 0.4em;box-sizing: border-box;padding-bottom: 0.4em;background-color: white;}#sk-container-id-2 div.sk-label label {font-family: monospace;font-weight: bold;display: inline-block;line-height: 1.2em;}#sk-container-id-2 div.sk-label-container {text-align: center;}#sk-container-id-2 div.sk-container {/* jupyter's `normalize.less` sets `[hidden] { display: none; }` but bootstrap.min.css set `[hidden] { display: none !important; }` so we also need the `!important` here to be able to override the default hidden behavior on the sphinx rendered scikit-learn.org. See: https://github.com/scikit-learn/scikit-learn/issues/21755 */display: inline-block !important;position: relative;}#sk-container-id-2 div.sk-text-repr-fallback {display: none;}</style><div id=\"sk-container-id-2\" class=\"sk-top-container\"><div class=\"sk-text-repr-fallback\"><pre>Pipeline(steps=[(&#x27;standardize&#x27;, StandardScaler()),\n",
       "                (&#x27;elo8_reg&#x27;,\n",
       "                 LogisticRegression(l1_ratio=0.8, penalty=&#x27;elasticnet&#x27;,\n",
       "                                    solver=&#x27;saga&#x27;))])</pre><b>In a Jupyter environment, please rerun this cell to show the HTML representation or trust the notebook. <br />On GitHub, the HTML representation is unable to render, please try loading this page with nbviewer.org.</b></div><div class=\"sk-container\" hidden><div class=\"sk-item sk-dashed-wrapped\"><div class=\"sk-label-container\"><div class=\"sk-label sk-toggleable\"><input class=\"sk-toggleable__control sk-hidden--visually\" id=\"sk-estimator-id-4\" type=\"checkbox\" ><label for=\"sk-estimator-id-4\" class=\"sk-toggleable__label sk-toggleable__label-arrow\">Pipeline</label><div class=\"sk-toggleable__content\"><pre>Pipeline(steps=[(&#x27;standardize&#x27;, StandardScaler()),\n",
       "                (&#x27;elo8_reg&#x27;,\n",
       "                 LogisticRegression(l1_ratio=0.8, penalty=&#x27;elasticnet&#x27;,\n",
       "                                    solver=&#x27;saga&#x27;))])</pre></div></div></div><div class=\"sk-serial\"><div class=\"sk-item\"><div class=\"sk-estimator sk-toggleable\"><input class=\"sk-toggleable__control sk-hidden--visually\" id=\"sk-estimator-id-5\" type=\"checkbox\" ><label for=\"sk-estimator-id-5\" class=\"sk-toggleable__label sk-toggleable__label-arrow\">StandardScaler</label><div class=\"sk-toggleable__content\"><pre>StandardScaler()</pre></div></div></div><div class=\"sk-item\"><div class=\"sk-estimator sk-toggleable\"><input class=\"sk-toggleable__control sk-hidden--visually\" id=\"sk-estimator-id-6\" type=\"checkbox\" ><label for=\"sk-estimator-id-6\" class=\"sk-toggleable__label sk-toggleable__label-arrow\">LogisticRegression</label><div class=\"sk-toggleable__content\"><pre>LogisticRegression(l1_ratio=0.8, penalty=&#x27;elasticnet&#x27;, solver=&#x27;saga&#x27;)</pre></div></div></div></div></div></div></div>"
      ],
      "text/plain": [
       "Pipeline(steps=[('standardize', StandardScaler()),\n",
       "                ('elo8_reg',\n",
       "                 LogisticRegression(l1_ratio=0.8, penalty='elasticnet',\n",
       "                                    solver='saga'))])"
      ]
     },
     "execution_count": 12,
     "metadata": {},
     "output_type": "execute_result"
    }
   ],
   "source": [
    "lrmodel.fit(sen_train_X,sen_train_y.values.ravel())\n",
    "lassomodel.fit(sen_train_X,sen_train_y.values.ravel())\n",
    "ridgemodel.fit(sen_train_X,sen_train_y.values.ravel())\n",
    "elo2model.fit(sen_train_X,sen_train_y.values.ravel())\n",
    "elo4model.fit(sen_train_X,sen_train_y.values.ravel())\n",
    "elo6model.fit(sen_train_X,sen_train_y.values.ravel())\n",
    "elo8model.fit(sen_train_X,sen_train_y.values.ravel())"
   ]
  },
  {
   "cell_type": "code",
   "execution_count": 13,
   "metadata": {
    "executionInfo": {
     "elapsed": 146,
     "status": "ok",
     "timestamp": 1654539104550,
     "user": {
      "displayName": "Darian Shane Martos",
      "userId": "04419166853444755059"
     },
     "user_tz": 420
    },
    "id": "lumDZcNnJINo"
   },
   "outputs": [],
   "source": [
    "## Form predictions over all models\n",
    "logpreds = lrmodel.predict(sen_test_X)\n",
    "lassopreds = lassomodel.predict(sen_test_X)\n",
    "ridgepreds = ridgemodel.predict(sen_test_X)\n",
    "elo2preds = elo2model.predict(sen_test_X)\n",
    "elo4preds = elo4model.predict(sen_test_X)\n",
    "elo6preds = elo6model.predict(sen_test_X)\n",
    "elo8preds = elo8model.predict(sen_test_X)"
   ]
  },
  {
   "cell_type": "markdown",
   "metadata": {
    "id": "pnk0hngnJqSp"
   },
   "source": [
    "The indices above correspond to the following states: [Alaska, Arizona, Colorado, Florida, Georgia, Missouri, Nevada, New Hampshire, North Carolina, Ohio, Pennsylvania, Washington, Wisconsin]"
   ]
  },
  {
   "cell_type": "markdown",
   "metadata": {
    "id": "pvntI3_xc7jD"
   },
   "source": [
    "## More Inference for Senate Model"
   ]
  },
  {
   "cell_type": "code",
   "execution_count": 14,
   "metadata": {
    "colab": {
     "base_uri": "https://localhost:8080/"
    },
    "executionInfo": {
     "elapsed": 3,
     "status": "ok",
     "timestamp": 1654539104550,
     "user": {
      "displayName": "Darian Shane Martos",
      "userId": "04419166853444755059"
     },
     "user_tz": 420
    },
    "id": "r-mzDSdMc90N",
    "outputId": "9972026d-ec0d-4748-9105-fe7a2c8bd4b3"
   },
   "outputs": [
    {
     "name": "stdout",
     "output_type": "stream",
     "text": [
      "Logistic Regression - No Penalty\n",
      "[[-0.3654782  -0.29566647 -0.2321475  -0.16869273 -0.13088233 -0.11276925\n",
      "  -0.09329758 -0.06735478 -0.03669928 -0.03510608  0.01228492  0.1019141\n",
      "   0.12511811  0.12864027  0.14361447  0.15301959  0.16500346  0.17626594\n",
      "   0.21319514  0.23828687  0.23959686  0.23959686  0.2757649   0.2941162\n",
      "   0.34679045  0.36928419  0.36961009  0.3850319   0.38684197  0.39895523\n",
      "   0.42630035  0.45408713  0.45408713  0.49245327  0.50254919  0.55668913\n",
      "   0.61311397  0.73054915  0.74977644]]\n",
      "[[27 15 31 17 30 16 37 35  0 20 21 29 25  1 14 18 24 23 26 33 36  6 22 32\n",
      "  10  2  4 19  3  5  8  7 34 12 38 28 13 11  9]]\n",
      "LASSO Regression\n",
      "[[0.         0.         0.         0.         0.         0.\n",
      "  0.         0.         0.         0.         0.         0.\n",
      "  0.         0.         0.         0.         0.         0.\n",
      "  0.         0.         0.         0.         0.         0.\n",
      "  0.         0.         0.01484742 0.05364336 0.05364336 0.05991064\n",
      "  0.06327985 0.18464073 0.18581986 0.19527561 0.24747349 0.36156474\n",
      "  0.36156474 0.76764779 1.1494823 ]]\n",
      "[[ 0 26 25 24 23 22 21 20 37 18 17 16 15 27 14 12 31 10 32 33 35  3  2  1\n",
      "  30 29  4  6 36 19  8 38  5 28 13 34  7 11  9]]\n",
      "Ridge Regression\n",
      "[[-0.19539141 -0.16284641 -0.1440011  -0.10769804 -0.10607286 -0.04115693\n",
      "  -0.04072296 -0.03204078 -0.02584025 -0.01602222 -0.01453794  0.02140146\n",
      "   0.0579237   0.06671213  0.0707574   0.07991627  0.09332973  0.09816439\n",
      "   0.09817922  0.10139705  0.11058705  0.1464589   0.1625544   0.1625544\n",
      "   0.22043481  0.2387355   0.24932308  0.25295758  0.25312381  0.26719691\n",
      "   0.27919304  0.28199036  0.31472901  0.31654039  0.31654039  0.35481535\n",
      "   0.38042289  0.47037631  0.49905095]]\n",
      "[[15 27 31 35 17 37 30 16  0 20 21 25 14  1 29 23 18 33 22 24 26 32  6 36\n",
      "  10 19  2  3  4 38  5  8 12  7 34 28 13 11  9]]\n",
      "EL-0.2 Logistic Regression\n",
      "[[-0.17411354 -0.14138336 -0.09752528 -0.06383538  0.          0.\n",
      "   0.          0.          0.          0.          0.          0.\n",
      "   0.          0.          0.          0.          0.          0.02331417\n",
      "   0.0274219   0.04267655  0.07995756  0.11555776  0.1203758   0.15087977\n",
      "   0.15087977  0.19243647  0.20420686  0.20700716  0.24039154  0.24148101\n",
      "   0.24533241  0.24610979  0.29092782  0.30633225  0.30633225  0.32262989\n",
      "   0.35525082  0.52875013  0.5813684 ]]\n",
      "[[27 15 31 17 25 23 21 20 37 18 16 29 14  0 30  1 35 22 33 24 26 32 10 36\n",
      "   6  2  4  3 12  8  5 19 38 34  7 28 13 11  9]]\n",
      "EL-0.4 Logistic Regression\n",
      "[[-0.13647409 -0.06450285 -0.01119621  0.          0.          0.\n",
      "   0.          0.          0.          0.          0.          0.\n",
      "   0.          0.          0.          0.          0.          0.\n",
      "   0.          0.          0.01666597  0.02523036  0.04622128  0.13120924\n",
      "   0.13120924  0.14788938  0.15469341  0.16349794  0.18483998  0.19605371\n",
      "   0.22455395  0.2285453   0.30567289  0.30719019  0.30719019  0.31162264\n",
      "   0.34562692  0.58966814  0.68493038]]\n",
      "[[27 15 31 25 24 23 22 21 20 37 18 17 16 29  0 33 35  1 14 30 10 26 32 36\n",
      "   6  2  3  4 12  8  5 19 38 34  7 28 13 11  9]]\n",
      "EL-0.6 Logistic Regression\n",
      "[[-0.06861933  0.          0.          0.          0.          0.\n",
      "   0.          0.          0.          0.          0.          0.\n",
      "   0.          0.          0.          0.          0.          0.\n",
      "   0.          0.          0.          0.          0.          0.10094936\n",
      "   0.10830827  0.10865972  0.11768725  0.11768725  0.12163072  0.15019092\n",
      "   0.19741982  0.20574794  0.29092234  0.29730937  0.31181395  0.31181395\n",
      "   0.32951843  0.64256754  0.80525354]]\n",
      "[[27  0 26 25 24 23 22 21 20 37 18 17 16 15 14 31 32 10 33 35  1 30 29  2\n",
      "  12  3  6 36  4  8 19  5 38 28 34  7 13 11  9]]\n",
      "EL-0.8 Logistic Regression\n",
      "[[0.         0.         0.         0.         0.         0.\n",
      "  0.         0.         0.         0.         0.         0.\n",
      "  0.         0.         0.         0.         0.         0.\n",
      "  0.         0.         0.         0.         0.         0.\n",
      "  0.01888672 0.06647453 0.07307926 0.09382241 0.09382241 0.1225072\n",
      "  0.13439704 0.19669938 0.25599536 0.26090372 0.29928228 0.32592837\n",
      "  0.32592837 0.71287964 0.96315276]]\n",
      "[[ 0 27 26 25 24 23 22 21 20 37 18 17 16 15 14 31 12 32 10 33 35  1 30 29\n",
      "   3  2  4  6 36  8 19  5 38 28 13 34  7 11  9]]\n"
     ]
    }
   ],
   "source": [
    "## Coefficients organized from least important to most important\n",
    "print(\"Logistic Regression - No Penalty\")\n",
    "print(np.sort(lr.coef_))\n",
    "print(np.argsort(np.array(lr.coef_)))\n",
    "\n",
    "print(\"LASSO Regression\")\n",
    "print(np.sort(lassor.coef_))\n",
    "print(np.argsort(np.array(lassor.coef_)))\n",
    "\n",
    "print(\"Ridge Regression\")\n",
    "print(np.sort(ridger.coef_))\n",
    "print(np.argsort(np.array(ridger.coef_)))\n",
    "\n",
    "print(\"EL-0.2 Logistic Regression\")\n",
    "print(np.sort(elo2r.coef_))\n",
    "print(np.argsort(np.array(elo2r.coef_)))\n",
    "\n",
    "print(\"EL-0.4 Logistic Regression\")\n",
    "print(np.sort(elo4r.coef_))\n",
    "print(np.argsort(np.array(elo4r.coef_)))\n",
    "\n",
    "print(\"EL-0.6 Logistic Regression\")\n",
    "print(np.sort(elo6r.coef_))\n",
    "print(np.argsort(np.array(elo6r.coef_)))\n",
    "\n",
    "print(\"EL-0.8 Logistic Regression\")\n",
    "print(np.sort(elo8r.coef_))\n",
    "print(np.argsort(np.array(elo8r.coef_)))"
   ]
  },
  {
   "cell_type": "markdown",
   "metadata": {
    "id": "4k7f1yqCwW9K"
   },
   "source": [
    "## New Data Set\n",
    "\n",
    "Here we apply a couple of small feature changes and train and test over similar, but new datasets."
   ]
  },
  {
   "cell_type": "code",
   "execution_count": 15,
   "metadata": {
    "executionInfo": {
     "elapsed": 4861,
     "status": "ok",
     "timestamp": 1654539109410,
     "user": {
      "displayName": "Darian Shane Martos",
      "userId": "04419166853444755059"
     },
     "user_tz": 420
    },
    "id": "9YG8Vh4FwdrZ"
   },
   "outputs": [],
   "source": [
    "pres_data_new = pd.read_excel('full-data.xlsx', sheet_name=2)\n",
    "sen_data_new = pd.read_excel('full-data.xlsx', sheet_name=3)"
   ]
  },
  {
   "cell_type": "code",
   "execution_count": 16,
   "metadata": {
    "executionInfo": {
     "elapsed": 5,
     "status": "ok",
     "timestamp": 1654539109411,
     "user": {
      "displayName": "Darian Shane Martos",
      "userId": "04419166853444755059"
     },
     "user_tz": 420
    },
    "id": "ReMMXaKDw8Q9"
   },
   "outputs": [],
   "source": [
    "## Training Set Info\n",
    "region_enc = le.fit_transform(pres_data_new['Region'])\n",
    "pres_data_new[\"Region\"] = region_enc\n",
    "sen_data_new[\"Region\"] = region_enc\n",
    "noninc_cols_train = ['State','2020 Population','recent-five-polling-avg-20','polling-party-lead-20','pres2016','pres2020']\n",
    "pres_train_X = pres_data_new.drop(noninc_cols_train, axis=1)\n",
    "pres_train_y = pres_data_new[['pres2016']]"
   ]
  },
  {
   "cell_type": "code",
   "execution_count": 17,
   "metadata": {
    "executionInfo": {
     "elapsed": 5,
     "status": "ok",
     "timestamp": 1654539109412,
     "user": {
      "displayName": "Darian Shane Martos",
      "userId": "04419166853444755059"
     },
     "user_tz": 420
    },
    "id": "bcMGhlVozyrl"
   },
   "outputs": [],
   "source": [
    "## Test Set Info\n",
    "noninc_cols_test = ['State','2010 Population','recent-five-polling-avg-16','polling-party-lead-16','pres2000','pres2020']\n",
    "pres_test_X = pres_data_new.drop(noninc_cols_test, axis=1)\n",
    "pres_test_y = pres_data_new[['pres2020']]\n",
    "col_move = pres_test_X.pop(\"pres2016\")\n",
    "pres_test_X.insert(2, \"pres2016\", col_move)\n",
    "dict = {'2020 Population': '2010 Population',\n",
    "        'polling-party-lead-20': 'polling-party-lead-16',\n",
    "        'pres2016': 'pres2000',\n",
    "        'recent-five-polling-avg-20': 'recent-five-polling-avg-16',}\n",
    "pres_test_X.rename(columns=dict,inplace=True)"
   ]
  },
  {
   "cell_type": "code",
   "execution_count": 18,
   "metadata": {
    "colab": {
     "base_uri": "https://localhost:8080/",
     "height": 352
    },
    "executionInfo": {
     "elapsed": 5,
     "status": "ok",
     "timestamp": 1654539109412,
     "user": {
      "displayName": "Darian Shane Martos",
      "userId": "04419166853444755059"
     },
     "user_tz": 420
    },
    "id": "xkqy9H_t0u0n",
    "outputId": "bbf7f87a-4fa6-4179-f3a6-22321e67dbc6"
   },
   "outputs": [
    {
     "data": {
      "text/html": [
       "<div>\n",
       "<style scoped>\n",
       "    .dataframe tbody tr th:only-of-type {\n",
       "        vertical-align: middle;\n",
       "    }\n",
       "\n",
       "    .dataframe tbody tr th {\n",
       "        vertical-align: top;\n",
       "    }\n",
       "\n",
       "    .dataframe thead th {\n",
       "        text-align: right;\n",
       "    }\n",
       "</style>\n",
       "<table border=\"1\" class=\"dataframe\">\n",
       "  <thead>\n",
       "    <tr style=\"text-align: right;\">\n",
       "      <th></th>\n",
       "      <th>Region</th>\n",
       "      <th>2010 Population</th>\n",
       "      <th>pres2000</th>\n",
       "      <th>pres2004</th>\n",
       "      <th>pres2008</th>\n",
       "      <th>pres2012</th>\n",
       "      <th>gdp-per-capita</th>\n",
       "      <th>high-school-pop</th>\n",
       "      <th>some-college</th>\n",
       "      <th>associates</th>\n",
       "      <th>...</th>\n",
       "      <th>white</th>\n",
       "      <th>inc-party</th>\n",
       "      <th>inc-w-recent</th>\n",
       "      <th>rep-finance</th>\n",
       "      <th>dem-finance</th>\n",
       "      <th>median-hh-income</th>\n",
       "      <th>recent-five-polling-avg-16</th>\n",
       "      <th>polling-party-lead-16</th>\n",
       "      <th>pvi</th>\n",
       "      <th>party-pvi</th>\n",
       "    </tr>\n",
       "  </thead>\n",
       "  <tbody>\n",
       "    <tr>\n",
       "      <th>0</th>\n",
       "      <td>2</td>\n",
       "      <td>4779736</td>\n",
       "      <td>0</td>\n",
       "      <td>0</td>\n",
       "      <td>0</td>\n",
       "      <td>0</td>\n",
       "      <td>49027</td>\n",
       "      <td>30.3</td>\n",
       "      <td>21.6</td>\n",
       "      <td>8.7</td>\n",
       "      <td>...</td>\n",
       "      <td>0.640074</td>\n",
       "      <td>1</td>\n",
       "      <td>1</td>\n",
       "      <td>6829526.55</td>\n",
       "      <td>37491.77</td>\n",
       "      <td>52035</td>\n",
       "      <td>16</td>\n",
       "      <td>0</td>\n",
       "      <td>15</td>\n",
       "      <td>0</td>\n",
       "    </tr>\n",
       "    <tr>\n",
       "      <th>1</th>\n",
       "      <td>3</td>\n",
       "      <td>710231</td>\n",
       "      <td>0</td>\n",
       "      <td>0</td>\n",
       "      <td>0</td>\n",
       "      <td>0</td>\n",
       "      <td>75027</td>\n",
       "      <td>28.4</td>\n",
       "      <td>26.0</td>\n",
       "      <td>8.7</td>\n",
       "      <td>...</td>\n",
       "      <td>0.627645</td>\n",
       "      <td>0</td>\n",
       "      <td>1</td>\n",
       "      <td>7527972.46</td>\n",
       "      <td>3566.69</td>\n",
       "      <td>77790</td>\n",
       "      <td>4</td>\n",
       "      <td>1</td>\n",
       "      <td>9</td>\n",
       "      <td>0</td>\n",
       "    </tr>\n",
       "    <tr>\n",
       "      <th>2</th>\n",
       "      <td>3</td>\n",
       "      <td>6392017</td>\n",
       "      <td>0</td>\n",
       "      <td>0</td>\n",
       "      <td>0</td>\n",
       "      <td>0</td>\n",
       "      <td>56511</td>\n",
       "      <td>23.8</td>\n",
       "      <td>24.9</td>\n",
       "      <td>8.9</td>\n",
       "      <td>...</td>\n",
       "      <td>0.517834</td>\n",
       "      <td>0</td>\n",
       "      <td>0</td>\n",
       "      <td>13839094.88</td>\n",
       "      <td>38865284.52</td>\n",
       "      <td>61529</td>\n",
       "      <td>2</td>\n",
       "      <td>0</td>\n",
       "      <td>3</td>\n",
       "      <td>0</td>\n",
       "    </tr>\n",
       "    <tr>\n",
       "      <th>3</th>\n",
       "      <td>2</td>\n",
       "      <td>2915918</td>\n",
       "      <td>0</td>\n",
       "      <td>0</td>\n",
       "      <td>0</td>\n",
       "      <td>0</td>\n",
       "      <td>47770</td>\n",
       "      <td>33.9</td>\n",
       "      <td>22.0</td>\n",
       "      <td>7.5</td>\n",
       "      <td>...</td>\n",
       "      <td>0.692194</td>\n",
       "      <td>1</td>\n",
       "      <td>1</td>\n",
       "      <td>5973540.80</td>\n",
       "      <td>26852.08</td>\n",
       "      <td>49475</td>\n",
       "      <td>23</td>\n",
       "      <td>0</td>\n",
       "      <td>16</td>\n",
       "      <td>0</td>\n",
       "    </tr>\n",
       "    <tr>\n",
       "      <th>4</th>\n",
       "      <td>3</td>\n",
       "      <td>37253956</td>\n",
       "      <td>1</td>\n",
       "      <td>1</td>\n",
       "      <td>1</td>\n",
       "      <td>1</td>\n",
       "      <td>85546</td>\n",
       "      <td>20.4</td>\n",
       "      <td>20.9</td>\n",
       "      <td>8.0</td>\n",
       "      <td>...</td>\n",
       "      <td>0.330164</td>\n",
       "      <td>1</td>\n",
       "      <td>1</td>\n",
       "      <td>135852.28</td>\n",
       "      <td>9467165.58</td>\n",
       "      <td>78672</td>\n",
       "      <td>28</td>\n",
       "      <td>1</td>\n",
       "      <td>14</td>\n",
       "      <td>1</td>\n",
       "    </tr>\n",
       "  </tbody>\n",
       "</table>\n",
       "<p>5 rows × 29 columns</p>\n",
       "</div>"
      ],
      "text/plain": [
       "   Region  2010 Population  pres2000  pres2004  pres2008  pres2012  \\\n",
       "0       2          4779736         0         0         0         0   \n",
       "1       3           710231         0         0         0         0   \n",
       "2       3          6392017         0         0         0         0   \n",
       "3       2          2915918         0         0         0         0   \n",
       "4       3         37253956         1         1         1         1   \n",
       "\n",
       "   gdp-per-capita  high-school-pop  some-college  associates  ...     white  \\\n",
       "0           49027             30.3          21.6         8.7  ...  0.640074   \n",
       "1           75027             28.4          26.0         8.7  ...  0.627645   \n",
       "2           56511             23.8          24.9         8.9  ...  0.517834   \n",
       "3           47770             33.9          22.0         7.5  ...  0.692194   \n",
       "4           85546             20.4          20.9         8.0  ...  0.330164   \n",
       "\n",
       "   inc-party  inc-w-recent  rep-finance  dem-finance  median-hh-income  \\\n",
       "0          1             1   6829526.55     37491.77             52035   \n",
       "1          0             1   7527972.46      3566.69             77790   \n",
       "2          0             0  13839094.88  38865284.52             61529   \n",
       "3          1             1   5973540.80     26852.08             49475   \n",
       "4          1             1    135852.28   9467165.58             78672   \n",
       "\n",
       "   recent-five-polling-avg-16  polling-party-lead-16  pvi  party-pvi  \n",
       "0                          16                      0   15          0  \n",
       "1                           4                      1    9          0  \n",
       "2                           2                      0    3          0  \n",
       "3                          23                      0   16          0  \n",
       "4                          28                      1   14          1  \n",
       "\n",
       "[5 rows x 29 columns]"
      ]
     },
     "execution_count": 18,
     "metadata": {},
     "output_type": "execute_result"
    }
   ],
   "source": [
    "pres_train_X.head()"
   ]
  },
  {
   "cell_type": "code",
   "execution_count": 19,
   "metadata": {
    "colab": {
     "base_uri": "https://localhost:8080/"
    },
    "executionInfo": {
     "elapsed": 162,
     "status": "ok",
     "timestamp": 1654539109570,
     "user": {
      "displayName": "Darian Shane Martos",
      "userId": "04419166853444755059"
     },
     "user_tz": 420
    },
    "id": "gQfd55Su0dB2",
    "outputId": "d42cfdd4-1d9c-42fa-f0a9-c74cdd822f0b"
   },
   "outputs": [
    {
     "name": "stderr",
     "output_type": "stream",
     "text": [
      "C:\\Users\\gr0581vr\\Anaconda3\\envs\\homework\\lib\\site-packages\\sklearn\\linear_model\\_sag.py:350: ConvergenceWarning: The max_iter was reached which means the coef_ did not converge\n",
      "  warnings.warn(\n",
      "C:\\Users\\gr0581vr\\Anaconda3\\envs\\homework\\lib\\site-packages\\sklearn\\linear_model\\_sag.py:350: ConvergenceWarning: The max_iter was reached which means the coef_ did not converge\n",
      "  warnings.warn(\n",
      "C:\\Users\\gr0581vr\\Anaconda3\\envs\\homework\\lib\\site-packages\\sklearn\\linear_model\\_sag.py:350: ConvergenceWarning: The max_iter was reached which means the coef_ did not converge\n",
      "  warnings.warn(\n",
      "C:\\Users\\gr0581vr\\Anaconda3\\envs\\homework\\lib\\site-packages\\sklearn\\linear_model\\_sag.py:350: ConvergenceWarning: The max_iter was reached which means the coef_ did not converge\n",
      "  warnings.warn(\n",
      "C:\\Users\\gr0581vr\\Anaconda3\\envs\\homework\\lib\\site-packages\\sklearn\\linear_model\\_sag.py:350: ConvergenceWarning: The max_iter was reached which means the coef_ did not converge\n",
      "  warnings.warn(\n",
      "C:\\Users\\gr0581vr\\Anaconda3\\envs\\homework\\lib\\site-packages\\sklearn\\linear_model\\_sag.py:350: ConvergenceWarning: The max_iter was reached which means the coef_ did not converge\n",
      "  warnings.warn(\n"
     ]
    },
    {
     "data": {
      "text/html": [
       "<style>#sk-container-id-3 {color: black;background-color: white;}#sk-container-id-3 pre{padding: 0;}#sk-container-id-3 div.sk-toggleable {background-color: white;}#sk-container-id-3 label.sk-toggleable__label {cursor: pointer;display: block;width: 100%;margin-bottom: 0;padding: 0.3em;box-sizing: border-box;text-align: center;}#sk-container-id-3 label.sk-toggleable__label-arrow:before {content: \"▸\";float: left;margin-right: 0.25em;color: #696969;}#sk-container-id-3 label.sk-toggleable__label-arrow:hover:before {color: black;}#sk-container-id-3 div.sk-estimator:hover label.sk-toggleable__label-arrow:before {color: black;}#sk-container-id-3 div.sk-toggleable__content {max-height: 0;max-width: 0;overflow: hidden;text-align: left;background-color: #f0f8ff;}#sk-container-id-3 div.sk-toggleable__content pre {margin: 0.2em;color: black;border-radius: 0.25em;background-color: #f0f8ff;}#sk-container-id-3 input.sk-toggleable__control:checked~div.sk-toggleable__content {max-height: 200px;max-width: 100%;overflow: auto;}#sk-container-id-3 input.sk-toggleable__control:checked~label.sk-toggleable__label-arrow:before {content: \"▾\";}#sk-container-id-3 div.sk-estimator input.sk-toggleable__control:checked~label.sk-toggleable__label {background-color: #d4ebff;}#sk-container-id-3 div.sk-label input.sk-toggleable__control:checked~label.sk-toggleable__label {background-color: #d4ebff;}#sk-container-id-3 input.sk-hidden--visually {border: 0;clip: rect(1px 1px 1px 1px);clip: rect(1px, 1px, 1px, 1px);height: 1px;margin: -1px;overflow: hidden;padding: 0;position: absolute;width: 1px;}#sk-container-id-3 div.sk-estimator {font-family: monospace;background-color: #f0f8ff;border: 1px dotted black;border-radius: 0.25em;box-sizing: border-box;margin-bottom: 0.5em;}#sk-container-id-3 div.sk-estimator:hover {background-color: #d4ebff;}#sk-container-id-3 div.sk-parallel-item::after {content: \"\";width: 100%;border-bottom: 1px solid gray;flex-grow: 1;}#sk-container-id-3 div.sk-label:hover label.sk-toggleable__label {background-color: #d4ebff;}#sk-container-id-3 div.sk-serial::before {content: \"\";position: absolute;border-left: 1px solid gray;box-sizing: border-box;top: 0;bottom: 0;left: 50%;z-index: 0;}#sk-container-id-3 div.sk-serial {display: flex;flex-direction: column;align-items: center;background-color: white;padding-right: 0.2em;padding-left: 0.2em;position: relative;}#sk-container-id-3 div.sk-item {position: relative;z-index: 1;}#sk-container-id-3 div.sk-parallel {display: flex;align-items: stretch;justify-content: center;background-color: white;position: relative;}#sk-container-id-3 div.sk-item::before, #sk-container-id-3 div.sk-parallel-item::before {content: \"\";position: absolute;border-left: 1px solid gray;box-sizing: border-box;top: 0;bottom: 0;left: 50%;z-index: -1;}#sk-container-id-3 div.sk-parallel-item {display: flex;flex-direction: column;z-index: 1;position: relative;background-color: white;}#sk-container-id-3 div.sk-parallel-item:first-child::after {align-self: flex-end;width: 50%;}#sk-container-id-3 div.sk-parallel-item:last-child::after {align-self: flex-start;width: 50%;}#sk-container-id-3 div.sk-parallel-item:only-child::after {width: 0;}#sk-container-id-3 div.sk-dashed-wrapped {border: 1px dashed gray;margin: 0 0.4em 0.5em 0.4em;box-sizing: border-box;padding-bottom: 0.4em;background-color: white;}#sk-container-id-3 div.sk-label label {font-family: monospace;font-weight: bold;display: inline-block;line-height: 1.2em;}#sk-container-id-3 div.sk-label-container {text-align: center;}#sk-container-id-3 div.sk-container {/* jupyter's `normalize.less` sets `[hidden] { display: none; }` but bootstrap.min.css set `[hidden] { display: none !important; }` so we also need the `!important` here to be able to override the default hidden behavior on the sphinx rendered scikit-learn.org. See: https://github.com/scikit-learn/scikit-learn/issues/21755 */display: inline-block !important;position: relative;}#sk-container-id-3 div.sk-text-repr-fallback {display: none;}</style><div id=\"sk-container-id-3\" class=\"sk-top-container\"><div class=\"sk-text-repr-fallback\"><pre>Pipeline(steps=[(&#x27;standardize&#x27;, StandardScaler()),\n",
       "                (&#x27;elo8_reg&#x27;,\n",
       "                 LogisticRegression(l1_ratio=0.8, penalty=&#x27;elasticnet&#x27;,\n",
       "                                    solver=&#x27;saga&#x27;))])</pre><b>In a Jupyter environment, please rerun this cell to show the HTML representation or trust the notebook. <br />On GitHub, the HTML representation is unable to render, please try loading this page with nbviewer.org.</b></div><div class=\"sk-container\" hidden><div class=\"sk-item sk-dashed-wrapped\"><div class=\"sk-label-container\"><div class=\"sk-label sk-toggleable\"><input class=\"sk-toggleable__control sk-hidden--visually\" id=\"sk-estimator-id-7\" type=\"checkbox\" ><label for=\"sk-estimator-id-7\" class=\"sk-toggleable__label sk-toggleable__label-arrow\">Pipeline</label><div class=\"sk-toggleable__content\"><pre>Pipeline(steps=[(&#x27;standardize&#x27;, StandardScaler()),\n",
       "                (&#x27;elo8_reg&#x27;,\n",
       "                 LogisticRegression(l1_ratio=0.8, penalty=&#x27;elasticnet&#x27;,\n",
       "                                    solver=&#x27;saga&#x27;))])</pre></div></div></div><div class=\"sk-serial\"><div class=\"sk-item\"><div class=\"sk-estimator sk-toggleable\"><input class=\"sk-toggleable__control sk-hidden--visually\" id=\"sk-estimator-id-8\" type=\"checkbox\" ><label for=\"sk-estimator-id-8\" class=\"sk-toggleable__label sk-toggleable__label-arrow\">StandardScaler</label><div class=\"sk-toggleable__content\"><pre>StandardScaler()</pre></div></div></div><div class=\"sk-item\"><div class=\"sk-estimator sk-toggleable\"><input class=\"sk-toggleable__control sk-hidden--visually\" id=\"sk-estimator-id-9\" type=\"checkbox\" ><label for=\"sk-estimator-id-9\" class=\"sk-toggleable__label sk-toggleable__label-arrow\">LogisticRegression</label><div class=\"sk-toggleable__content\"><pre>LogisticRegression(l1_ratio=0.8, penalty=&#x27;elasticnet&#x27;, solver=&#x27;saga&#x27;)</pre></div></div></div></div></div></div></div>"
      ],
      "text/plain": [
       "Pipeline(steps=[('standardize', StandardScaler()),\n",
       "                ('elo8_reg',\n",
       "                 LogisticRegression(l1_ratio=0.8, penalty='elasticnet',\n",
       "                                    solver='saga'))])"
      ]
     },
     "execution_count": 19,
     "metadata": {},
     "output_type": "execute_result"
    }
   ],
   "source": [
    "lrmodel.fit(pres_train_X,pres_train_y.values.ravel())\n",
    "lassomodel.fit(pres_train_X,pres_train_y.values.ravel())\n",
    "ridgemodel.fit(pres_train_X,pres_train_y.values.ravel())\n",
    "elo2model.fit(pres_train_X,pres_train_y.values.ravel())\n",
    "elo4model.fit(pres_train_X,pres_train_y.values.ravel())\n",
    "elo6model.fit(pres_train_X,pres_train_y.values.ravel())\n",
    "elo8model.fit(pres_train_X,pres_train_y.values.ravel())"
   ]
  },
  {
   "cell_type": "code",
   "execution_count": 20,
   "metadata": {
    "colab": {
     "base_uri": "https://localhost:8080/"
    },
    "executionInfo": {
     "elapsed": 8,
     "status": "ok",
     "timestamp": 1654539109570,
     "user": {
      "displayName": "Darian Shane Martos",
      "userId": "04419166853444755059"
     },
     "user_tz": 420
    },
    "id": "OCpYBZe_0gr-",
    "outputId": "14e64610-2e46-4772-d0ce-e6c8a577a4f4"
   },
   "outputs": [
    {
     "name": "stdout",
     "output_type": "stream",
     "text": [
      "Logistic Regression - No Penalty\n",
      "[[-0.65816431 -0.6185158  -0.5705371  -0.4941598  -0.24733818 -0.16513896\n",
      "  -0.14773876  0.02313837  0.07506653  0.1448826   0.14805276  0.14842535\n",
      "   0.18296132  0.18964226  0.21046986  0.24578449  0.25282397  0.27711688\n",
      "   0.34074449  0.354171    0.40510053  0.42721982  0.4922806   0.50150591\n",
      "   0.54859348  0.57446586  0.62947868  0.78865606  2.06390705]]\n",
      "[[ 7  1 22  9 19 15 13  8 21  0  6 17 27  2  3 16 20 10 14 25 18 24  4 12\n",
      "  23  5 11 26 28]]\n",
      "LASSO Regression\n",
      "[[-0.05557487  0.          0.          0.          0.          0.\n",
      "   0.          0.          0.          0.          0.          0.\n",
      "   0.          0.          0.          0.          0.          0.\n",
      "   0.          0.          0.          0.          0.          0.\n",
      "   0.00534179  0.2245107   0.2425763   0.68304182  2.4817632 ]]\n",
      "[[ 7  0 25 24 23 22 21 20 19 18 17 16 15 27 14 12 10  9  8  6  3  2  1 13\n",
      "   4 11  5 26 28]]\n",
      "Ridge Regression\n",
      "[[-4.13380778e-01 -3.85599559e-01 -3.72958971e-01 -2.21372040e-01\n",
      "  -1.55803854e-01 -1.37841735e-01 -6.59461729e-02 -5.51689232e-02\n",
      "   5.70095450e-04  4.24022225e-03  4.34384783e-02  5.09158172e-02\n",
      "   1.17819746e-01  1.29681895e-01  1.53623657e-01  1.62089729e-01\n",
      "   1.84616966e-01  1.89605684e-01  2.04627429e-01  2.09488490e-01\n",
      "   2.57617722e-01  2.89367123e-01  3.29551913e-01  3.30163687e-01\n",
      "   3.88647125e-01  3.89778102e-01  4.33194713e-01  6.10157563e-01\n",
      "   1.29087640e+00]]\n",
      "[[ 7  1 22  9 15 19 13 27 21  8 17  0 25  6 20 14  2  3 16 10 24 18 23 12\n",
      "  11  4  5 26 28]]\n",
      "EL-0.2 Logistic Regression\n",
      "[[-0.3792634  -0.31183479 -0.26400412 -0.14404202 -0.06642454 -0.01006838\n",
      "   0.          0.          0.          0.          0.          0.\n",
      "   0.03617894  0.07838421  0.10077932  0.1137894   0.11812785  0.121331\n",
      "   0.12305392  0.12851325  0.19180159  0.21296616  0.23983338  0.25298694\n",
      "   0.32156492  0.37767481  0.38251427  0.59184711  1.47454136]]\n",
      "[[ 7 22  1  9 19 15  0 27 13  8 21 17  6 25 20  2 10 14 16  3 23 24 18 12\n",
      "   4 11  5 26 28]]\n",
      "EL-0.4 Logistic Regression\n",
      "[[-0.34954477 -0.23811008 -0.088076   -0.03331273  0.          0.\n",
      "   0.          0.          0.          0.          0.          0.\n",
      "   0.          0.          0.02090528  0.0266473   0.03667905  0.04973776\n",
      "   0.05285457  0.06356262  0.09412642  0.15604107  0.15651911  0.17614143\n",
      "   0.26396668  0.36818852  0.37108077  0.62476935  1.70587869]]\n",
      "[[ 7 22  1  9 15 27 13 21 17  0  6 25  8 19 10 20 16  2 23 14  3 12 24 18\n",
      "   4 11  5 26 28]]\n",
      "EL-0.6 Logistic Regression\n",
      "[[-0.27055417 -0.13931087  0.          0.          0.          0.\n",
      "   0.          0.          0.          0.          0.          0.\n",
      "   0.          0.          0.          0.          0.          0.\n",
      "   0.          0.          0.04510739  0.0523086   0.08801831  0.09564419\n",
      "   0.2087613   0.3473826   0.35372844  0.65104661  1.95871812]]\n",
      "[[ 7 22  0 25 23 21 20 19 17 16 15 27 13 14 10  9  8  6  2  1  3 12 18 24\n",
      "   4 11  5 26 28]]\n",
      "EL-0.8 Logistic Regression\n",
      "[[-0.1724461  -0.03693798  0.          0.          0.          0.\n",
      "   0.          0.          0.          0.          0.          0.\n",
      "   0.          0.          0.          0.          0.          0.\n",
      "   0.          0.          0.          0.          0.          0.\n",
      "   0.12555572  0.30889893  0.31736404  0.67988392  2.21851391]]\n",
      "[[ 7 22  0 25 24 23 21 20 19 18 17 16 15 27 14 12 10  9  8  6  3  2  1 13\n",
      "   4  5 11 26 28]]\n"
     ]
    }
   ],
   "source": [
    "## Coefficients organized from least important to most important\n",
    "print(\"Logistic Regression - No Penalty\")\n",
    "print(np.sort(lr.coef_))\n",
    "print(np.argsort(np.array(lr.coef_)))\n",
    "\n",
    "print(\"LASSO Regression\")\n",
    "print(np.sort(lassor.coef_))\n",
    "print(np.argsort(np.array(lassor.coef_)))\n",
    "\n",
    "print(\"Ridge Regression\")\n",
    "print(np.sort(ridger.coef_))\n",
    "print(np.argsort(np.array(ridger.coef_)))\n",
    "\n",
    "print(\"EL-0.2 Logistic Regression\")\n",
    "print(np.sort(elo2r.coef_))\n",
    "print(np.argsort(np.array(elo2r.coef_)))\n",
    "\n",
    "print(\"EL-0.4 Logistic Regression\")\n",
    "print(np.sort(elo4r.coef_))\n",
    "print(np.argsort(np.array(elo4r.coef_)))\n",
    "\n",
    "print(\"EL-0.6 Logistic Regression\")\n",
    "print(np.sort(elo6r.coef_))\n",
    "print(np.argsort(np.array(elo6r.coef_)))\n",
    "\n",
    "print(\"EL-0.8 Logistic Regression\")\n",
    "print(np.sort(elo8r.coef_))\n",
    "print(np.argsort(np.array(elo8r.coef_)))"
   ]
  },
  {
   "cell_type": "code",
   "execution_count": 21,
   "metadata": {
    "colab": {
     "base_uri": "https://localhost:8080/"
    },
    "executionInfo": {
     "elapsed": 6,
     "status": "ok",
     "timestamp": 1654539109571,
     "user": {
      "displayName": "Darian Shane Martos",
      "userId": "04419166853444755059"
     },
     "user_tz": 420
    },
    "id": "waUzHbi0Hjxq",
    "outputId": "1186cb26-6b6d-4e30-c360-9019a34fb44d"
   },
   "outputs": [
    {
     "name": "stdout",
     "output_type": "stream",
     "text": [
      "party-pvi\n",
      "polling-party-lead-16\n",
      "pres2012\n",
      "grad-professional\n",
      "pres2008\n",
      "median-hh-income\n"
     ]
    }
   ],
   "source": [
    "print(pres_train_X.columns[28])\n",
    "print(pres_train_X.columns[26])\n",
    "print(pres_train_X.columns[5])\n",
    "print(pres_train_X.columns[11])\n",
    "print(pres_train_X.columns[4])\n",
    "print(pres_train_X.columns[24])"
   ]
  },
  {
   "cell_type": "code",
   "execution_count": 22,
   "metadata": {
    "colab": {
     "base_uri": "https://localhost:8080/"
    },
    "executionInfo": {
     "elapsed": 176,
     "status": "ok",
     "timestamp": 1654540615875,
     "user": {
      "displayName": "Darian Shane Martos",
      "userId": "04419166853444755059"
     },
     "user_tz": 420
    },
    "id": "TdmoxjHNTejI",
    "outputId": "15c8d1eb-c681-40a8-a95d-0fa3327214b9"
   },
   "outputs": [
    {
     "name": "stdout",
     "output_type": "stream",
     "text": [
      "bachelors\n",
      "associates\n",
      "some-college\n",
      "gdp-per-capita\n",
      "pres2004\n",
      "pres2000\n"
     ]
    }
   ],
   "source": [
    "print(pres_train_X.columns[10])\n",
    "print(pres_train_X.columns[9])\n",
    "print(pres_train_X.columns[8])\n",
    "print(pres_train_X.columns[6])\n",
    "print(pres_train_X.columns[3])\n",
    "print(pres_train_X.columns[2])"
   ]
  },
  {
   "cell_type": "code",
   "execution_count": 23,
   "metadata": {
    "colab": {
     "base_uri": "https://localhost:8080/"
    },
    "executionInfo": {
     "elapsed": 262,
     "status": "ok",
     "timestamp": 1654539109829,
     "user": {
      "displayName": "Darian Shane Martos",
      "userId": "04419166853444755059"
     },
     "user_tz": 420
    },
    "id": "KmvfWTxz1N-n",
    "outputId": "04940e21-556d-483b-f1f7-7692d5ca6494"
   },
   "outputs": [
    {
     "name": "stdout",
     "output_type": "stream",
     "text": [
      "[1.49664751e-04 1.96348605e-03 2.19787194e-03 2.23746898e-03\n",
      " 4.09094629e-03 4.10388258e-03 5.64675067e-03 6.71188500e-03\n",
      " 7.35686638e-03 7.45568485e-03 8.70821793e-03 1.11084831e-02\n",
      " 1.24441818e-02 1.29264470e-02 1.29269990e-02 1.29874984e-02\n",
      " 1.42689151e-02 1.76963942e-02 3.20600728e-02 3.59874119e-02\n",
      " 3.91224566e-02 4.79442737e-02 5.10695269e-02 5.36274339e-02\n",
      " 6.11344545e-02 7.54317723e-02 1.05225719e-01 1.16296323e-01\n",
      " 2.37118912e-01]\n",
      "[21 13 15 20  0  9 12 17 25 23  7 19  2  6  8  1 16 27 22 18 10 14  3  5\n",
      " 24  4 11 26 28]\n",
      "[0.         0.         0.         0.         0.         0.\n",
      " 0.         0.         0.         0.         0.         0.\n",
      " 0.         0.         0.         0.         0.         0.\n",
      " 0.         0.         0.         0.         0.         0.\n",
      " 0.         0.00884877 0.12220033 0.3481493  0.52080166]\n",
      "[ 0 25 24 23 22 21 20 19 18 17 16 15 27 14 12 10  9  8  7  6  4  3  2  1\n",
      " 13 11  5 28 26]\n"
     ]
    }
   ],
   "source": [
    "forest = RandomForestClassifier(n_estimators = 120, random_state = 83)\n",
    "forest.fit(pres_train_X,pres_train_y.values.ravel())\n",
    "\n",
    "xgboost1 = xgb.XGBClassifier(base_score=0.5, booster='gbtree', random_state = 83, colsample_bytree = 0.3, learning_rate = 0.1, alpha = 10, n_estimators = 120)\n",
    "xgboost1.fit(pres_train_X,pres_train_y.values.ravel())\n",
    "\n",
    "## Feature Importances for Ensembles/Trees\n",
    "print(np.sort(forest.feature_importances_))\n",
    "print(np.argsort(np.array(forest.feature_importances_)))\n",
    "print(np.sort(xgboost1.feature_importances_))\n",
    "print(np.argsort(np.array(xgboost1.feature_importances_)))"
   ]
  },
  {
   "cell_type": "code",
   "execution_count": 24,
   "metadata": {
    "colab": {
     "base_uri": "https://localhost:8080/"
    },
    "executionInfo": {
     "elapsed": 5,
     "status": "ok",
     "timestamp": 1654539109829,
     "user": {
      "displayName": "Darian Shane Martos",
      "userId": "04419166853444755059"
     },
     "user_tz": 420
    },
    "id": "eiPMzqrbM1qz",
    "outputId": "a356557a-693f-4bf0-ebfc-1eba5baeb83f"
   },
   "outputs": [
    {
     "name": "stdout",
     "output_type": "stream",
     "text": [
      "Random Forests\n",
      "[0 0 0 0 1 1 1 1 0 0 1 0 1 0 0 0 0 0 1 1 1 0 1 0 0 0 0 1 1 1 1 1 0 0 0 0 1\n",
      " 0 1 0 0 0 0 0 1 1 1 0 0 0]\n",
      "Gradient Boosting\n",
      "[0 0 0 0 1 1 1 1 0 0 0 0 1 0 0 0 0 0 1 1 1 0 1 0 0 0 0 0 1 1 1 1 0 0 0 0 1\n",
      " 0 1 0 0 0 0 0 1 1 1 0 0 0]\n"
     ]
    }
   ],
   "source": [
    "rfpreds = forest.predict(pres_test_X)\n",
    "xgbpreds = xgboost1.predict(pres_test_X)\n",
    "print(\"Random Forests\")\n",
    "print(rfpreds)\n",
    "print(\"Gradient Boosting\")\n",
    "print(xgbpreds)"
   ]
  },
  {
   "cell_type": "markdown",
   "metadata": {
    "id": "vip9dJ9T1Lyy"
   },
   "source": [
    "## Senate Fits"
   ]
  },
  {
   "cell_type": "code",
   "execution_count": 25,
   "metadata": {
    "executionInfo": {
     "elapsed": 167,
     "status": "ok",
     "timestamp": 1654539109994,
     "user": {
      "displayName": "Darian Shane Martos",
      "userId": "04419166853444755059"
     },
     "user_tz": 420
    },
    "id": "4zgh5axf1CZC"
   },
   "outputs": [],
   "source": [
    "sen_data_new = sen_data_new.drop([\"State\"], axis = 1)\n",
    "sen_train_X = sen_data_new.iloc[other_states]\n",
    "sen_train_X = sen_train_X.drop([\"recent-res\"], axis = 1)\n",
    "sen_train_y = sen_data_new[~sen_data['recent-res'].isnull()]['recent-res']\n",
    "sen_test_X = sen_data_new.iloc[competitive_states]\n",
    "sen_test_X = sen_test_X.drop([\"recent-res\"], axis = 1)"
   ]
  },
  {
   "cell_type": "code",
   "execution_count": 26,
   "metadata": {
    "colab": {
     "base_uri": "https://localhost:8080/",
     "height": 352
    },
    "executionInfo": {
     "elapsed": 6,
     "status": "ok",
     "timestamp": 1654539109995,
     "user": {
      "displayName": "Darian Shane Martos",
      "userId": "04419166853444755059"
     },
     "user_tz": 420
    },
    "id": "FcPQcg6Ot3xF",
    "outputId": "3ab87cc4-282e-4406-d80c-e8b38e0d8deb"
   },
   "outputs": [
    {
     "data": {
      "text/html": [
       "<div>\n",
       "<style scoped>\n",
       "    .dataframe tbody tr th:only-of-type {\n",
       "        vertical-align: middle;\n",
       "    }\n",
       "\n",
       "    .dataframe tbody tr th {\n",
       "        vertical-align: top;\n",
       "    }\n",
       "\n",
       "    .dataframe thead th {\n",
       "        text-align: right;\n",
       "    }\n",
       "</style>\n",
       "<table border=\"1\" class=\"dataframe\">\n",
       "  <thead>\n",
       "    <tr style=\"text-align: right;\">\n",
       "      <th></th>\n",
       "      <th>Region</th>\n",
       "      <th>2020 Population</th>\n",
       "      <th>pres2012</th>\n",
       "      <th>pres2016</th>\n",
       "      <th>pres2020</th>\n",
       "      <th>sen1-recent</th>\n",
       "      <th>sen2-recent</th>\n",
       "      <th>gdp-per-capita</th>\n",
       "      <th>high-school-pop</th>\n",
       "      <th>some-college</th>\n",
       "      <th>...</th>\n",
       "      <th>rep-finance</th>\n",
       "      <th>dem-finance</th>\n",
       "      <th>median-hh-income</th>\n",
       "      <th>recent-five-polling-avg</th>\n",
       "      <th>polling-party-lead</th>\n",
       "      <th>pvi</th>\n",
       "      <th>party-pvi</th>\n",
       "      <th>employment-rate</th>\n",
       "      <th>urban-pct-2010</th>\n",
       "      <th>recent-res</th>\n",
       "    </tr>\n",
       "  </thead>\n",
       "  <tbody>\n",
       "    <tr>\n",
       "      <th>0</th>\n",
       "      <td>2</td>\n",
       "      <td>5024279</td>\n",
       "      <td>0</td>\n",
       "      <td>0</td>\n",
       "      <td>0</td>\n",
       "      <td>0</td>\n",
       "      <td>0</td>\n",
       "      <td>49027</td>\n",
       "      <td>30.3</td>\n",
       "      <td>21.6</td>\n",
       "      <td>...</td>\n",
       "      <td>6829526.55</td>\n",
       "      <td>37491.77</td>\n",
       "      <td>52035</td>\n",
       "      <td>20.4</td>\n",
       "      <td>0</td>\n",
       "      <td>15</td>\n",
       "      <td>0</td>\n",
       "      <td>54.0</td>\n",
       "      <td>59.04</td>\n",
       "      <td>0.0</td>\n",
       "    </tr>\n",
       "    <tr>\n",
       "      <th>1</th>\n",
       "      <td>3</td>\n",
       "      <td>733391</td>\n",
       "      <td>0</td>\n",
       "      <td>0</td>\n",
       "      <td>0</td>\n",
       "      <td>0</td>\n",
       "      <td>0</td>\n",
       "      <td>75027</td>\n",
       "      <td>28.4</td>\n",
       "      <td>26.0</td>\n",
       "      <td>...</td>\n",
       "      <td>7527972.46</td>\n",
       "      <td>3566.69</td>\n",
       "      <td>77790</td>\n",
       "      <td>6.5</td>\n",
       "      <td>0</td>\n",
       "      <td>9</td>\n",
       "      <td>0</td>\n",
       "      <td>59.6</td>\n",
       "      <td>66.02</td>\n",
       "      <td>NaN</td>\n",
       "    </tr>\n",
       "    <tr>\n",
       "      <th>2</th>\n",
       "      <td>3</td>\n",
       "      <td>7151502</td>\n",
       "      <td>0</td>\n",
       "      <td>0</td>\n",
       "      <td>1</td>\n",
       "      <td>1</td>\n",
       "      <td>1</td>\n",
       "      <td>56511</td>\n",
       "      <td>23.8</td>\n",
       "      <td>24.9</td>\n",
       "      <td>...</td>\n",
       "      <td>13839094.88</td>\n",
       "      <td>38865284.52</td>\n",
       "      <td>61529</td>\n",
       "      <td>7.0</td>\n",
       "      <td>1</td>\n",
       "      <td>3</td>\n",
       "      <td>0</td>\n",
       "      <td>56.2</td>\n",
       "      <td>89.81</td>\n",
       "      <td>NaN</td>\n",
       "    </tr>\n",
       "    <tr>\n",
       "      <th>3</th>\n",
       "      <td>2</td>\n",
       "      <td>3011524</td>\n",
       "      <td>0</td>\n",
       "      <td>0</td>\n",
       "      <td>0</td>\n",
       "      <td>0</td>\n",
       "      <td>0</td>\n",
       "      <td>47770</td>\n",
       "      <td>33.9</td>\n",
       "      <td>22.0</td>\n",
       "      <td>...</td>\n",
       "      <td>5973540.80</td>\n",
       "      <td>26852.08</td>\n",
       "      <td>49475</td>\n",
       "      <td>45.0</td>\n",
       "      <td>0</td>\n",
       "      <td>16</td>\n",
       "      <td>0</td>\n",
       "      <td>54.8</td>\n",
       "      <td>56.16</td>\n",
       "      <td>0.0</td>\n",
       "    </tr>\n",
       "    <tr>\n",
       "      <th>4</th>\n",
       "      <td>3</td>\n",
       "      <td>39538223</td>\n",
       "      <td>1</td>\n",
       "      <td>1</td>\n",
       "      <td>1</td>\n",
       "      <td>1</td>\n",
       "      <td>1</td>\n",
       "      <td>85546</td>\n",
       "      <td>20.4</td>\n",
       "      <td>20.9</td>\n",
       "      <td>...</td>\n",
       "      <td>135852.28</td>\n",
       "      <td>9467165.58</td>\n",
       "      <td>78672</td>\n",
       "      <td>25.0</td>\n",
       "      <td>1</td>\n",
       "      <td>14</td>\n",
       "      <td>1</td>\n",
       "      <td>59.4</td>\n",
       "      <td>94.95</td>\n",
       "      <td>1.0</td>\n",
       "    </tr>\n",
       "  </tbody>\n",
       "</table>\n",
       "<p>5 rows × 33 columns</p>\n",
       "</div>"
      ],
      "text/plain": [
       "   Region  2020 Population  pres2012  pres2016  pres2020  sen1-recent  \\\n",
       "0       2          5024279         0         0         0            0   \n",
       "1       3           733391         0         0         0            0   \n",
       "2       3          7151502         0         0         1            1   \n",
       "3       2          3011524         0         0         0            0   \n",
       "4       3         39538223         1         1         1            1   \n",
       "\n",
       "   sen2-recent  gdp-per-capita  high-school-pop  some-college  ...  \\\n",
       "0            0           49027             30.3          21.6  ...   \n",
       "1            0           75027             28.4          26.0  ...   \n",
       "2            1           56511             23.8          24.9  ...   \n",
       "3            0           47770             33.9          22.0  ...   \n",
       "4            1           85546             20.4          20.9  ...   \n",
       "\n",
       "   rep-finance  dem-finance  median-hh-income  recent-five-polling-avg  \\\n",
       "0   6829526.55     37491.77             52035                     20.4   \n",
       "1   7527972.46      3566.69             77790                      6.5   \n",
       "2  13839094.88  38865284.52             61529                      7.0   \n",
       "3   5973540.80     26852.08             49475                     45.0   \n",
       "4    135852.28   9467165.58             78672                     25.0   \n",
       "\n",
       "   polling-party-lead  pvi  party-pvi  employment-rate  urban-pct-2010  \\\n",
       "0                   0   15          0             54.0           59.04   \n",
       "1                   0    9          0             59.6           66.02   \n",
       "2                   1    3          0             56.2           89.81   \n",
       "3                   0   16          0             54.8           56.16   \n",
       "4                   1   14          1             59.4           94.95   \n",
       "\n",
       "   recent-res  \n",
       "0         0.0  \n",
       "1         NaN  \n",
       "2         NaN  \n",
       "3         0.0  \n",
       "4         1.0  \n",
       "\n",
       "[5 rows x 33 columns]"
      ]
     },
     "execution_count": 26,
     "metadata": {},
     "output_type": "execute_result"
    }
   ],
   "source": [
    "sen_data_new.head()"
   ]
  },
  {
   "cell_type": "code",
   "execution_count": 27,
   "metadata": {
    "colab": {
     "base_uri": "https://localhost:8080/"
    },
    "executionInfo": {
     "elapsed": 5,
     "status": "ok",
     "timestamp": 1654539109995,
     "user": {
      "displayName": "Darian Shane Martos",
      "userId": "04419166853444755059"
     },
     "user_tz": 420
    },
    "id": "Ld_7dCIr1FQI",
    "outputId": "8531b37f-7ceb-4a6d-ba4e-c076c52e9a17"
   },
   "outputs": [
    {
     "name": "stderr",
     "output_type": "stream",
     "text": [
      "C:\\Users\\gr0581vr\\Anaconda3\\envs\\homework\\lib\\site-packages\\sklearn\\linear_model\\_sag.py:350: ConvergenceWarning: The max_iter was reached which means the coef_ did not converge\n",
      "  warnings.warn(\n",
      "C:\\Users\\gr0581vr\\Anaconda3\\envs\\homework\\lib\\site-packages\\sklearn\\linear_model\\_sag.py:350: ConvergenceWarning: The max_iter was reached which means the coef_ did not converge\n",
      "  warnings.warn(\n",
      "C:\\Users\\gr0581vr\\Anaconda3\\envs\\homework\\lib\\site-packages\\sklearn\\linear_model\\_sag.py:350: ConvergenceWarning: The max_iter was reached which means the coef_ did not converge\n",
      "  warnings.warn(\n",
      "C:\\Users\\gr0581vr\\Anaconda3\\envs\\homework\\lib\\site-packages\\sklearn\\linear_model\\_sag.py:350: ConvergenceWarning: The max_iter was reached which means the coef_ did not converge\n",
      "  warnings.warn(\n",
      "C:\\Users\\gr0581vr\\Anaconda3\\envs\\homework\\lib\\site-packages\\sklearn\\linear_model\\_sag.py:350: ConvergenceWarning: The max_iter was reached which means the coef_ did not converge\n",
      "  warnings.warn(\n",
      "C:\\Users\\gr0581vr\\Anaconda3\\envs\\homework\\lib\\site-packages\\sklearn\\linear_model\\_sag.py:350: ConvergenceWarning: The max_iter was reached which means the coef_ did not converge\n",
      "  warnings.warn(\n"
     ]
    },
    {
     "data": {
      "text/html": [
       "<style>#sk-container-id-4 {color: black;background-color: white;}#sk-container-id-4 pre{padding: 0;}#sk-container-id-4 div.sk-toggleable {background-color: white;}#sk-container-id-4 label.sk-toggleable__label {cursor: pointer;display: block;width: 100%;margin-bottom: 0;padding: 0.3em;box-sizing: border-box;text-align: center;}#sk-container-id-4 label.sk-toggleable__label-arrow:before {content: \"▸\";float: left;margin-right: 0.25em;color: #696969;}#sk-container-id-4 label.sk-toggleable__label-arrow:hover:before {color: black;}#sk-container-id-4 div.sk-estimator:hover label.sk-toggleable__label-arrow:before {color: black;}#sk-container-id-4 div.sk-toggleable__content {max-height: 0;max-width: 0;overflow: hidden;text-align: left;background-color: #f0f8ff;}#sk-container-id-4 div.sk-toggleable__content pre {margin: 0.2em;color: black;border-radius: 0.25em;background-color: #f0f8ff;}#sk-container-id-4 input.sk-toggleable__control:checked~div.sk-toggleable__content {max-height: 200px;max-width: 100%;overflow: auto;}#sk-container-id-4 input.sk-toggleable__control:checked~label.sk-toggleable__label-arrow:before {content: \"▾\";}#sk-container-id-4 div.sk-estimator input.sk-toggleable__control:checked~label.sk-toggleable__label {background-color: #d4ebff;}#sk-container-id-4 div.sk-label input.sk-toggleable__control:checked~label.sk-toggleable__label {background-color: #d4ebff;}#sk-container-id-4 input.sk-hidden--visually {border: 0;clip: rect(1px 1px 1px 1px);clip: rect(1px, 1px, 1px, 1px);height: 1px;margin: -1px;overflow: hidden;padding: 0;position: absolute;width: 1px;}#sk-container-id-4 div.sk-estimator {font-family: monospace;background-color: #f0f8ff;border: 1px dotted black;border-radius: 0.25em;box-sizing: border-box;margin-bottom: 0.5em;}#sk-container-id-4 div.sk-estimator:hover {background-color: #d4ebff;}#sk-container-id-4 div.sk-parallel-item::after {content: \"\";width: 100%;border-bottom: 1px solid gray;flex-grow: 1;}#sk-container-id-4 div.sk-label:hover label.sk-toggleable__label {background-color: #d4ebff;}#sk-container-id-4 div.sk-serial::before {content: \"\";position: absolute;border-left: 1px solid gray;box-sizing: border-box;top: 0;bottom: 0;left: 50%;z-index: 0;}#sk-container-id-4 div.sk-serial {display: flex;flex-direction: column;align-items: center;background-color: white;padding-right: 0.2em;padding-left: 0.2em;position: relative;}#sk-container-id-4 div.sk-item {position: relative;z-index: 1;}#sk-container-id-4 div.sk-parallel {display: flex;align-items: stretch;justify-content: center;background-color: white;position: relative;}#sk-container-id-4 div.sk-item::before, #sk-container-id-4 div.sk-parallel-item::before {content: \"\";position: absolute;border-left: 1px solid gray;box-sizing: border-box;top: 0;bottom: 0;left: 50%;z-index: -1;}#sk-container-id-4 div.sk-parallel-item {display: flex;flex-direction: column;z-index: 1;position: relative;background-color: white;}#sk-container-id-4 div.sk-parallel-item:first-child::after {align-self: flex-end;width: 50%;}#sk-container-id-4 div.sk-parallel-item:last-child::after {align-self: flex-start;width: 50%;}#sk-container-id-4 div.sk-parallel-item:only-child::after {width: 0;}#sk-container-id-4 div.sk-dashed-wrapped {border: 1px dashed gray;margin: 0 0.4em 0.5em 0.4em;box-sizing: border-box;padding-bottom: 0.4em;background-color: white;}#sk-container-id-4 div.sk-label label {font-family: monospace;font-weight: bold;display: inline-block;line-height: 1.2em;}#sk-container-id-4 div.sk-label-container {text-align: center;}#sk-container-id-4 div.sk-container {/* jupyter's `normalize.less` sets `[hidden] { display: none; }` but bootstrap.min.css set `[hidden] { display: none !important; }` so we also need the `!important` here to be able to override the default hidden behavior on the sphinx rendered scikit-learn.org. See: https://github.com/scikit-learn/scikit-learn/issues/21755 */display: inline-block !important;position: relative;}#sk-container-id-4 div.sk-text-repr-fallback {display: none;}</style><div id=\"sk-container-id-4\" class=\"sk-top-container\"><div class=\"sk-text-repr-fallback\"><pre>Pipeline(steps=[(&#x27;standardize&#x27;, StandardScaler()),\n",
       "                (&#x27;elo8_reg&#x27;,\n",
       "                 LogisticRegression(l1_ratio=0.8, penalty=&#x27;elasticnet&#x27;,\n",
       "                                    solver=&#x27;saga&#x27;))])</pre><b>In a Jupyter environment, please rerun this cell to show the HTML representation or trust the notebook. <br />On GitHub, the HTML representation is unable to render, please try loading this page with nbviewer.org.</b></div><div class=\"sk-container\" hidden><div class=\"sk-item sk-dashed-wrapped\"><div class=\"sk-label-container\"><div class=\"sk-label sk-toggleable\"><input class=\"sk-toggleable__control sk-hidden--visually\" id=\"sk-estimator-id-10\" type=\"checkbox\" ><label for=\"sk-estimator-id-10\" class=\"sk-toggleable__label sk-toggleable__label-arrow\">Pipeline</label><div class=\"sk-toggleable__content\"><pre>Pipeline(steps=[(&#x27;standardize&#x27;, StandardScaler()),\n",
       "                (&#x27;elo8_reg&#x27;,\n",
       "                 LogisticRegression(l1_ratio=0.8, penalty=&#x27;elasticnet&#x27;,\n",
       "                                    solver=&#x27;saga&#x27;))])</pre></div></div></div><div class=\"sk-serial\"><div class=\"sk-item\"><div class=\"sk-estimator sk-toggleable\"><input class=\"sk-toggleable__control sk-hidden--visually\" id=\"sk-estimator-id-11\" type=\"checkbox\" ><label for=\"sk-estimator-id-11\" class=\"sk-toggleable__label sk-toggleable__label-arrow\">StandardScaler</label><div class=\"sk-toggleable__content\"><pre>StandardScaler()</pre></div></div></div><div class=\"sk-item\"><div class=\"sk-estimator sk-toggleable\"><input class=\"sk-toggleable__control sk-hidden--visually\" id=\"sk-estimator-id-12\" type=\"checkbox\" ><label for=\"sk-estimator-id-12\" class=\"sk-toggleable__label sk-toggleable__label-arrow\">LogisticRegression</label><div class=\"sk-toggleable__content\"><pre>LogisticRegression(l1_ratio=0.8, penalty=&#x27;elasticnet&#x27;, solver=&#x27;saga&#x27;)</pre></div></div></div></div></div></div></div>"
      ],
      "text/plain": [
       "Pipeline(steps=[('standardize', StandardScaler()),\n",
       "                ('elo8_reg',\n",
       "                 LogisticRegression(l1_ratio=0.8, penalty='elasticnet',\n",
       "                                    solver='saga'))])"
      ]
     },
     "execution_count": 27,
     "metadata": {},
     "output_type": "execute_result"
    }
   ],
   "source": [
    "lrmodel.fit(sen_train_X,sen_train_y.values.ravel())\n",
    "lassomodel.fit(sen_train_X,sen_train_y.values.ravel())\n",
    "ridgemodel.fit(sen_train_X,sen_train_y.values.ravel())\n",
    "elo2model.fit(sen_train_X,sen_train_y.values.ravel())\n",
    "elo4model.fit(sen_train_X,sen_train_y.values.ravel())\n",
    "elo6model.fit(sen_train_X,sen_train_y.values.ravel())\n",
    "elo8model.fit(sen_train_X,sen_train_y.values.ravel())"
   ]
  },
  {
   "cell_type": "code",
   "execution_count": 28,
   "metadata": {
    "colab": {
     "base_uri": "https://localhost:8080/"
    },
    "executionInfo": {
     "elapsed": 7,
     "status": "ok",
     "timestamp": 1654539110158,
     "user": {
      "displayName": "Darian Shane Martos",
      "userId": "04419166853444755059"
     },
     "user_tz": 420
    },
    "id": "eCMs_zXJ1Hz1",
    "outputId": "cf764e57-9fb1-49f1-80c4-42c0ffa5414b"
   },
   "outputs": [
    {
     "name": "stdout",
     "output_type": "stream",
     "text": [
      "Logistic Regression - No Penalty\n",
      "[[-0.38412377 -0.34350295 -0.29730712 -0.21311376 -0.18346477 -0.16913418\n",
      "  -0.14138028 -0.10735884 -0.00914383  0.00477844  0.02002939  0.02203835\n",
      "   0.06319089  0.09239746  0.09791483  0.10356843  0.15329033  0.16856243\n",
      "   0.246915    0.25000295  0.25653017  0.26765058  0.26765058  0.31604508\n",
      "   0.49802471  0.64183335  0.70132133  0.73252202  0.76001276  0.76001276\n",
      "   0.96836232  1.27865803]]\n",
      "[[24 20  8 28 30 10  0  9 23 13 22 14 18 17 11  1 19  7 15 26 16  3 29 25\n",
      "  12 31  5  2  4 27 21  6]]\n",
      "LASSO Regression\n",
      "[[0.         0.         0.         0.         0.         0.\n",
      "  0.         0.         0.         0.         0.         0.\n",
      "  0.         0.         0.         0.         0.         0.\n",
      "  0.         0.         0.         0.         0.         0.\n",
      "  0.06923838 0.21555333 0.26984692 0.2820582  0.39402522 0.43515587\n",
      "  0.43515587 1.58375768]]\n",
      "[[ 0 29 28 26 25 24 23 22 20 19 18 17 16 30 15 13 11 10  9  8  1  7 14  3\n",
      "  12  5 31  2 21 27  4  6]]\n",
      "Ridge Regression\n",
      "[[-2.10030740e-01 -1.97384699e-01 -1.62178357e-01 -1.57023250e-01\n",
      "  -1.02975523e-01 -8.91379617e-02 -8.91116170e-02 -3.94430609e-02\n",
      "  -5.84836507e-03 -4.79018331e-04  2.64198694e-02  2.90130994e-02\n",
      "   4.92769545e-02  5.36767641e-02  6.16811801e-02  6.57961986e-02\n",
      "   8.65740864e-02  9.23741603e-02  9.89644473e-02  1.31360631e-01\n",
      "   1.43444244e-01  1.74460281e-01  1.91387156e-01  1.91387156e-01\n",
      "   3.00293902e-01  3.64679436e-01  4.56432528e-01  4.68430515e-01\n",
      "   4.87968133e-01  4.87968133e-01  5.56439666e-01  7.95785501e-01]]\n",
      "[[ 8 24 20 28 10 30  0  9 23 14 18 13 22  7  1 17 16 19 11 15 26 25  3 29\n",
      "  12 31  2  5  4 27 21  6]]\n",
      "EL-0.2 Logistic Regression\n",
      "[[-0.17020401 -0.13868679 -0.11595063 -0.05264579  0.          0.\n",
      "   0.          0.          0.          0.          0.          0.\n",
      "   0.          0.          0.          0.          0.          0.\n",
      "   0.05757003  0.05774659  0.05990826  0.13337547  0.1822035   0.1822035\n",
      "   0.28819748  0.3860599   0.43152503  0.45049404  0.47514781  0.47514781\n",
      "   0.5303147   0.88294528]]\n",
      "[[24 20  8 28 30 10  0  9 23 13 22 14 18 17 11  1 19  7 15 26 16  3 29 25\n",
      "  12 31  5  2  4 27 21  6]]\n",
      "EL-0.4 Logistic Regression\n",
      "[[-0.12553567 -0.09382128 -0.03987604  0.          0.          0.\n",
      "   0.          0.          0.          0.          0.          0.\n",
      "   0.          0.          0.          0.          0.          0.\n",
      "   0.          0.          0.00739418  0.07577116  0.14685137  0.14685137\n",
      "   0.2628746   0.39116327  0.39414104  0.40742397  0.45439274  0.45439274\n",
      "   0.5200337   1.0023568 ]]\n",
      "[[ 0 29 28 26 25 24 23 22 20 19 18 17 16 30 15 13 11 10  9  8  1  7 14  3\n",
      "  12  5 31  2 21 27  4  6]]\n",
      "EL-0.6 Logistic Regression\n",
      "[[-0.05040714 -0.0065992   0.          0.          0.          0.\n",
      "   0.          0.          0.          0.          0.          0.\n",
      "   0.          0.          0.          0.          0.          0.\n",
      "   0.          0.          0.          0.          0.11322691  0.11322691\n",
      "   0.2311179   0.31731326  0.34755588  0.40367276  0.4385307   0.4385307\n",
      "   0.50708794  1.15871378]]\n",
      "[[ 8 24 20 28 10 30  0  9 23 14 18 13 22  7  1 17 16 19 11 15 26 25  3 29\n",
      "  12 31  2  5  4 27 21  6]]\n",
      "EL-0.8 Logistic Regression\n",
      "[[0.         0.         0.         0.         0.         0.\n",
      "  0.         0.         0.         0.         0.         0.\n",
      "  0.         0.         0.         0.         0.         0.\n",
      "  0.         0.         0.         0.         0.05716134 0.05716134\n",
      "  0.16656863 0.28487066 0.31583671 0.3632032  0.42087081 0.42087081\n",
      "  0.45321585 1.35357762]]\n",
      "[[24 20  8 28 30 10  0  9 23 13 22 14 18 17 11  1 19  7 15 26 16  3 29 25\n",
      "  12 31  5  2  4 27 21  6]]\n"
     ]
    }
   ],
   "source": [
    "## Coefficients organized from least important to most important\n",
    "print(\"Logistic Regression - No Penalty\")\n",
    "print(np.sort(lr.coef_))\n",
    "print(np.argsort(np.array(lr.coef_)))\n",
    "\n",
    "print(\"LASSO Regression\")\n",
    "print(np.sort(lassor.coef_))\n",
    "print(np.argsort(np.array(lassor.coef_)))\n",
    "\n",
    "print(\"Ridge Regression\")\n",
    "print(np.sort(ridger.coef_))\n",
    "print(np.argsort(np.array(ridger.coef_)))\n",
    "\n",
    "print(\"EL-0.2 Logistic Regression\")\n",
    "print(np.sort(elo2r.coef_))\n",
    "print(np.argsort(np.array(lr.coef_)))\n",
    "\n",
    "print(\"EL-0.4 Logistic Regression\")\n",
    "print(np.sort(elo4r.coef_))\n",
    "print(np.argsort(np.array(lassor.coef_)))\n",
    "\n",
    "print(\"EL-0.6 Logistic Regression\")\n",
    "print(np.sort(elo6r.coef_))\n",
    "print(np.argsort(np.array(ridger.coef_)))\n",
    "\n",
    "print(\"EL-0.8 Logistic Regression\")\n",
    "print(np.sort(elo8r.coef_))\n",
    "print(np.argsort(np.array(lr.coef_)))"
   ]
  },
  {
   "cell_type": "code",
   "execution_count": 29,
   "metadata": {
    "colab": {
     "base_uri": "https://localhost:8080/"
    },
    "executionInfo": {
     "elapsed": 6,
     "status": "ok",
     "timestamp": 1654539110159,
     "user": {
      "displayName": "Darian Shane Martos",
      "userId": "04419166853444755059"
     },
     "user_tz": 420
    },
    "id": "GUSYDJIgHJdD",
    "outputId": "665e31fb-6346-40b8-e747-34c38ee740a4"
   },
   "outputs": [
    {
     "name": "stdout",
     "output_type": "stream",
     "text": [
      "sen2-recent\n",
      "inc-party\n",
      "polling-party-lead\n",
      "pres2020\n"
     ]
    }
   ],
   "source": [
    "print(sen_train_X.columns[6])\n",
    "print(sen_train_X.columns[21])\n",
    "print(sen_train_X.columns[27])\n",
    "print(sen_train_X.columns[4])"
   ]
  },
  {
   "cell_type": "code",
   "execution_count": 30,
   "metadata": {
    "colab": {
     "base_uri": "https://localhost:8080/"
    },
    "executionInfo": {
     "elapsed": 139,
     "status": "ok",
     "timestamp": 1654539110294,
     "user": {
      "displayName": "Darian Shane Martos",
      "userId": "04419166853444755059"
     },
     "user_tz": 420
    },
    "id": "f-Mmcl96NUHG",
    "outputId": "317faa77-d6f1-4465-82a5-c7c95d38a52d"
   },
   "outputs": [
    {
     "name": "stdout",
     "output_type": "stream",
     "text": [
      "[0. 1. 1. 0. 0. 0. 1. 1. 0. 0. 1. 1. 1.]\n",
      "[0. 1. 1. 0. 1. 0. 1. 1. 0. 0. 0. 1. 0.]\n",
      "[0. 1. 1. 0. 0. 0. 1. 1. 0. 0. 0. 1. 1.]\n",
      "[0. 1. 1. 0. 0. 0. 1. 1. 0. 0. 0. 1. 1.]\n",
      "[0. 1. 1. 0. 0. 0. 1. 1. 0. 0. 0. 1. 1.]\n",
      "[0. 1. 1. 0. 1. 0. 1. 1. 0. 0. 0. 1. 1.]\n",
      "[0. 1. 1. 0. 1. 0. 1. 1. 0. 0. 0. 1. 0.]\n",
      "[0. 1. 1. 0. 0. 0. 1. 1. 0. 0. 1. 1. 0.]\n",
      "[0 0 0 0 0 0 0 0 0 0 0 0 0]\n"
     ]
    }
   ],
   "source": [
    "forest.fit(sen_train_X,sen_train_y.values.ravel())\n",
    "xgboost1.fit(sen_train_X,sen_train_y.values.ravel())\n",
    "\n",
    "logpreds = lrmodel.predict(sen_test_X)\n",
    "lassopreds = lassomodel.predict(sen_test_X)\n",
    "ridgepreds = ridgemodel.predict(sen_test_X)\n",
    "elo2preds = elo2model.predict(sen_test_X)\n",
    "elo4preds = elo4model.predict(sen_test_X)\n",
    "elo6preds = elo6model.predict(sen_test_X)\n",
    "elo8preds = elo8model.predict(sen_test_X)\n",
    "rfpreds = forest.predict(sen_test_X)\n",
    "xgbpreds = xgboost1.predict(sen_test_X)\n",
    "\n",
    "print(logpreds)\n",
    "print(lassopreds)\n",
    "print(ridgepreds)\n",
    "print(elo2preds)\n",
    "print(elo4preds)\n",
    "print(elo6preds)\n",
    "print(elo8preds)\n",
    "print(rfpreds)\n",
    "print(xgbpreds)"
   ]
  },
  {
   "cell_type": "markdown",
   "metadata": {
    "id": "k3bYKwPTNIr1"
   },
   "source": [
    "The indices above correspond to the following states: [Alaska, Arizona, Colorado, Florida, Georgia, Missouri, Nevada, New Hampshire, North Carolina, Ohio, Pennsylvania, Washington, Wisconsin]"
   ]
  },
  {
   "cell_type": "code",
   "execution_count": 31,
   "metadata": {
    "colab": {
     "base_uri": "https://localhost:8080/"
    },
    "executionInfo": {
     "elapsed": 7,
     "status": "ok",
     "timestamp": 1654539110476,
     "user": {
      "displayName": "Darian Shane Martos",
      "userId": "04419166853444755059"
     },
     "user_tz": 420
    },
    "id": "X5RrjMTdHCO4",
    "outputId": "8c29f906-5ff9-43b0-9330-182ae94d07eb"
   },
   "outputs": [
    {
     "name": "stdout",
     "output_type": "stream",
     "text": [
      "[0.         0.         0.00063837 0.00189809 0.00337442 0.00339247\n",
      " 0.0045115  0.00587309 0.00630449 0.00646727 0.00647933 0.00747065\n",
      " 0.0076196  0.00903482 0.00909733 0.01174924 0.0126972  0.01469967\n",
      " 0.01558472 0.01882768 0.02053692 0.03598656 0.03621964 0.04266007\n",
      " 0.04860869 0.05625146 0.0601764  0.0979208  0.09905442 0.10028748\n",
      " 0.10743275 0.1491449 ]\n",
      "[ 1 22 14  0 16 17 10 30 13  7 28 26 19 18 20  8 11  9 24 23 21 15 31 25\n",
      "  5  3 29  4 27  2 12  6]\n",
      "[0. 0. 0. 0. 0. 0. 0. 0. 0. 0. 0. 0. 0. 0. 0. 0. 0. 0. 0. 0. 0. 0. 0. 0.\n",
      " 0. 0. 0. 0. 0. 0. 0. 1.]\n",
      "[ 0 29 28 27 26 25 24 23 22 21 20 19 18 17 16 15 14 13 12 11 10  9  8  7\n",
      "  5  4  3  2  1 30 31  6]\n"
     ]
    }
   ],
   "source": [
    "print(np.sort(forest.feature_importances_))\n",
    "print(np.argsort(np.array(forest.feature_importances_)))\n",
    "print(np.sort(xgboost1.feature_importances_))\n",
    "print(np.argsort(np.array(xgboost1.feature_importances_)))"
   ]
  },
  {
   "cell_type": "code",
   "execution_count": 32,
   "metadata": {
    "colab": {
     "base_uri": "https://localhost:8080/"
    },
    "executionInfo": {
     "elapsed": 5,
     "status": "ok",
     "timestamp": 1654539110476,
     "user": {
      "displayName": "Darian Shane Martos",
      "userId": "04419166853444755059"
     },
     "user_tz": 420
    },
    "id": "EZyc4L5LJh6w",
    "outputId": "70d38cfb-886d-4336-9599-fbf079d39ef6"
   },
   "outputs": [
    {
     "name": "stdout",
     "output_type": "stream",
     "text": [
      "sen2-recent\n",
      "grad-professional\n",
      "pres2012\n",
      "polling-party-lead\n",
      "sen1-recent\n",
      "party-pvi\n",
      "polling-party-lead\n",
      "sen2-recent\n"
     ]
    }
   ],
   "source": [
    "print(sen_train_X.columns[6])\n",
    "print(sen_train_X.columns[12])\n",
    "print(sen_train_X.columns[2])\n",
    "print(sen_train_X.columns[27])\n",
    "\n",
    "print(sen_train_X.columns[5])\n",
    "print(sen_train_X.columns[29])\n",
    "print(sen_train_X.columns[27])\n",
    "print(sen_train_X.columns[6])"
   ]
  }
 ],
 "metadata": {
  "colab": {
   "authorship_tag": "ABX9TyPAy4F8y9lW0Xx6qIquGixR",
   "collapsed_sections": [],
   "name": "elastic-net-analysis.ipynb",
   "provenance": []
  },
  "kernelspec": {
   "display_name": "Python 3 (ipykernel)",
   "language": "python",
   "name": "python3"
  },
  "language_info": {
   "codemirror_mode": {
    "name": "ipython",
    "version": 3
   },
   "file_extension": ".py",
   "mimetype": "text/x-python",
   "name": "python",
   "nbconvert_exporter": "python",
   "pygments_lexer": "ipython3",
   "version": "3.9.15"
  }
 },
 "nbformat": 4,
 "nbformat_minor": 1
}
