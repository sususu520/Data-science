{
 "cells": [
  {
   "cell_type": "markdown",
   "metadata": {
    "id": "HV_Q5TwezWDc"
   },
   "source": [
    "## Imports and Setup"
   ]
  },
  {
   "cell_type": "code",
   "execution_count": 78,
   "metadata": {
    "executionInfo": {
     "elapsed": 2,
     "status": "ok",
     "timestamp": 1654534568967,
     "user": {
      "displayName": "Darian Shane Martos",
      "userId": "04419166853444755059"
     },
     "user_tz": 420
    },
    "id": "piqlZYGlx8i2"
   },
   "outputs": [],
   "source": [
    "## Project Imports\n",
    "import gspread\n",
    "import os\n",
    "import datetime as dt\n",
    "import numpy as np\n",
    "import pandas as pd\n",
    "import matplotlib.pyplot as plt\n",
    "\n",
    "from sklearn.preprocessing import StandardScaler\n",
    "from sklearn.pipeline import Pipeline\n",
    "from sklearn.preprocessing import LabelEncoder\n",
    "from sklearn.model_selection import train_test_split\n",
    "from sklearn.linear_model import LogisticRegression\n",
    "from sklearn.tree import DecisionTreeClassifier\n",
    "from sklearn import tree\n",
    "from sklearn.ensemble import RandomForestClassifier\n",
    "import xgboost as xgb"
   ]
  },
  {
   "cell_type": "code",
   "execution_count": 79,
   "metadata": {
    "executionInfo": {
     "elapsed": 4923,
     "status": "ok",
     "timestamp": 1654534573888,
     "user": {
      "displayName": "Darian Shane Martos",
      "userId": "04419166853444755059"
     },
     "user_tz": 420
    },
    "id": "vWxiH4wQzZDT"
   },
   "outputs": [],
   "source": [
    "pres_data = pd.read_excel(r\"C:\\Users\\gr0581vr\\Desktop\\homework\\2022-2024-elections-main\\full-data.xlsx\", sheet_name=0)\n",
    "sen_data = pd.read_excel(r\"C:\\Users\\gr0581vr\\Desktop\\homework\\2022-2024-elections-main\\full-data.xlsx\", sheet_name=1)"
   ]
  },
  {
   "cell_type": "markdown",
   "metadata": {
    "id": "781VTqyXuGim"
   },
   "source": [
    "## A Bit of Data Exploration\n",
    "\n",
    "Mostly just a view into different features as part of the models (will elaborate this later in the final paper and within this notebook)."
   ]
  },
  {
   "cell_type": "code",
   "execution_count": 80,
   "metadata": {
    "colab": {
     "base_uri": "https://localhost:8080/",
     "height": 352
    },
    "executionInfo": {
     "elapsed": 15,
     "status": "ok",
     "timestamp": 1654534573888,
     "user": {
      "displayName": "Darian Shane Martos",
      "userId": "04419166853444755059"
     },
     "user_tz": 420
    },
    "id": "oDLLSmGwzZT5",
    "outputId": "dfd05a3f-39ba-4ef0-f315-0a531e60d776"
   },
   "outputs": [
    {
     "data": {
      "text/html": [
       "<div>\n",
       "<style scoped>\n",
       "    .dataframe tbody tr th:only-of-type {\n",
       "        vertical-align: middle;\n",
       "    }\n",
       "\n",
       "    .dataframe tbody tr th {\n",
       "        vertical-align: top;\n",
       "    }\n",
       "\n",
       "    .dataframe thead th {\n",
       "        text-align: right;\n",
       "    }\n",
       "</style>\n",
       "<table border=\"1\" class=\"dataframe\">\n",
       "  <thead>\n",
       "    <tr style=\"text-align: right;\">\n",
       "      <th></th>\n",
       "      <th>State</th>\n",
       "      <th>Region</th>\n",
       "      <th>2010 Population</th>\n",
       "      <th>2020 Population</th>\n",
       "      <th>pres2000</th>\n",
       "      <th>pres2004</th>\n",
       "      <th>pres2008</th>\n",
       "      <th>pres2012</th>\n",
       "      <th>sen1-3rdrecent</th>\n",
       "      <th>sen2-3rdrecent</th>\n",
       "      <th>...</th>\n",
       "      <th>dem-finance</th>\n",
       "      <th>median-hh-income</th>\n",
       "      <th>recent-five-polling-avg-16</th>\n",
       "      <th>polling-party-lead-16</th>\n",
       "      <th>recent-five-polling-avg-20</th>\n",
       "      <th>polling-party-lead-20</th>\n",
       "      <th>pvi</th>\n",
       "      <th>party-pvi</th>\n",
       "      <th>pres2016</th>\n",
       "      <th>pres2020</th>\n",
       "    </tr>\n",
       "  </thead>\n",
       "  <tbody>\n",
       "    <tr>\n",
       "      <th>0</th>\n",
       "      <td>Alabama</td>\n",
       "      <td>South</td>\n",
       "      <td>4779736</td>\n",
       "      <td>5024279</td>\n",
       "      <td>0</td>\n",
       "      <td>0</td>\n",
       "      <td>0</td>\n",
       "      <td>0</td>\n",
       "      <td>0</td>\n",
       "      <td>0</td>\n",
       "      <td>...</td>\n",
       "      <td>37491.77</td>\n",
       "      <td>52035</td>\n",
       "      <td>16</td>\n",
       "      <td>0</td>\n",
       "      <td>19.5</td>\n",
       "      <td>0</td>\n",
       "      <td>15</td>\n",
       "      <td>0</td>\n",
       "      <td>0</td>\n",
       "      <td>0</td>\n",
       "    </tr>\n",
       "    <tr>\n",
       "      <th>1</th>\n",
       "      <td>Alaska</td>\n",
       "      <td>West</td>\n",
       "      <td>710231</td>\n",
       "      <td>733391</td>\n",
       "      <td>0</td>\n",
       "      <td>0</td>\n",
       "      <td>0</td>\n",
       "      <td>0</td>\n",
       "      <td>1</td>\n",
       "      <td>0</td>\n",
       "      <td>...</td>\n",
       "      <td>3566.69</td>\n",
       "      <td>77790</td>\n",
       "      <td>4</td>\n",
       "      <td>1</td>\n",
       "      <td>7.7</td>\n",
       "      <td>0</td>\n",
       "      <td>9</td>\n",
       "      <td>0</td>\n",
       "      <td>0</td>\n",
       "      <td>0</td>\n",
       "    </tr>\n",
       "    <tr>\n",
       "      <th>2</th>\n",
       "      <td>Arizona</td>\n",
       "      <td>West</td>\n",
       "      <td>6392017</td>\n",
       "      <td>7151502</td>\n",
       "      <td>0</td>\n",
       "      <td>0</td>\n",
       "      <td>0</td>\n",
       "      <td>0</td>\n",
       "      <td>0</td>\n",
       "      <td>0</td>\n",
       "      <td>...</td>\n",
       "      <td>38865284.52</td>\n",
       "      <td>61529</td>\n",
       "      <td>2</td>\n",
       "      <td>0</td>\n",
       "      <td>2.6</td>\n",
       "      <td>1</td>\n",
       "      <td>3</td>\n",
       "      <td>0</td>\n",
       "      <td>0</td>\n",
       "      <td>1</td>\n",
       "    </tr>\n",
       "    <tr>\n",
       "      <th>3</th>\n",
       "      <td>Arkansas</td>\n",
       "      <td>South</td>\n",
       "      <td>2915918</td>\n",
       "      <td>3011524</td>\n",
       "      <td>0</td>\n",
       "      <td>0</td>\n",
       "      <td>0</td>\n",
       "      <td>0</td>\n",
       "      <td>1</td>\n",
       "      <td>1</td>\n",
       "      <td>...</td>\n",
       "      <td>26852.08</td>\n",
       "      <td>49475</td>\n",
       "      <td>23</td>\n",
       "      <td>0</td>\n",
       "      <td>22.8</td>\n",
       "      <td>0</td>\n",
       "      <td>16</td>\n",
       "      <td>0</td>\n",
       "      <td>0</td>\n",
       "      <td>0</td>\n",
       "    </tr>\n",
       "    <tr>\n",
       "      <th>4</th>\n",
       "      <td>California</td>\n",
       "      <td>West</td>\n",
       "      <td>37253956</td>\n",
       "      <td>39538223</td>\n",
       "      <td>1</td>\n",
       "      <td>1</td>\n",
       "      <td>1</td>\n",
       "      <td>1</td>\n",
       "      <td>1</td>\n",
       "      <td>1</td>\n",
       "      <td>...</td>\n",
       "      <td>9467165.58</td>\n",
       "      <td>78672</td>\n",
       "      <td>28</td>\n",
       "      <td>1</td>\n",
       "      <td>29.2</td>\n",
       "      <td>1</td>\n",
       "      <td>14</td>\n",
       "      <td>1</td>\n",
       "      <td>1</td>\n",
       "      <td>1</td>\n",
       "    </tr>\n",
       "  </tbody>\n",
       "</table>\n",
       "<p>5 rows × 37 columns</p>\n",
       "</div>"
      ],
      "text/plain": [
       "        State Region  2010 Population  2020 Population  pres2000  pres2004  \\\n",
       "0     Alabama  South          4779736          5024279         0         0   \n",
       "1      Alaska   West           710231           733391         0         0   \n",
       "2     Arizona   West          6392017          7151502         0         0   \n",
       "3    Arkansas  South          2915918          3011524         0         0   \n",
       "4  California   West         37253956         39538223         1         1   \n",
       "\n",
       "   pres2008  pres2012  sen1-3rdrecent  sen2-3rdrecent  ...  dem-finance  \\\n",
       "0         0         0               0               0  ...     37491.77   \n",
       "1         0         0               1               0  ...      3566.69   \n",
       "2         0         0               0               0  ...  38865284.52   \n",
       "3         0         0               1               1  ...     26852.08   \n",
       "4         1         1               1               1  ...   9467165.58   \n",
       "\n",
       "   median-hh-income  recent-five-polling-avg-16  polling-party-lead-16  \\\n",
       "0             52035                          16                      0   \n",
       "1             77790                           4                      1   \n",
       "2             61529                           2                      0   \n",
       "3             49475                          23                      0   \n",
       "4             78672                          28                      1   \n",
       "\n",
       "   recent-five-polling-avg-20  polling-party-lead-20  pvi  party-pvi  \\\n",
       "0                        19.5                      0   15          0   \n",
       "1                         7.7                      0    9          0   \n",
       "2                         2.6                      1    3          0   \n",
       "3                        22.8                      0   16          0   \n",
       "4                        29.2                      1   14          1   \n",
       "\n",
       "   pres2016  pres2020  \n",
       "0         0         0  \n",
       "1         0         0  \n",
       "2         0         1  \n",
       "3         0         0  \n",
       "4         1         1  \n",
       "\n",
       "[5 rows x 37 columns]"
      ]
     },
     "execution_count": 80,
     "metadata": {},
     "output_type": "execute_result"
    }
   ],
   "source": [
    "pres_data.head()"
   ]
  },
  {
   "cell_type": "code",
   "execution_count": 81,
   "metadata": {
    "colab": {
     "base_uri": "https://localhost:8080/",
     "height": 352
    },
    "executionInfo": {
     "elapsed": 14,
     "status": "ok",
     "timestamp": 1654534573888,
     "user": {
      "displayName": "Darian Shane Martos",
      "userId": "04419166853444755059"
     },
     "user_tz": 420
    },
    "id": "TYVmuRu2uE4w",
    "outputId": "fb23449a-6cbe-45a7-b7fd-9f0a982d59be",
    "scrolled": true
   },
   "outputs": [
    {
     "data": {
      "text/html": [
       "<div>\n",
       "<style scoped>\n",
       "    .dataframe tbody tr th:only-of-type {\n",
       "        vertical-align: middle;\n",
       "    }\n",
       "\n",
       "    .dataframe tbody tr th {\n",
       "        vertical-align: top;\n",
       "    }\n",
       "\n",
       "    .dataframe thead th {\n",
       "        text-align: right;\n",
       "    }\n",
       "</style>\n",
       "<table border=\"1\" class=\"dataframe\">\n",
       "  <thead>\n",
       "    <tr style=\"text-align: right;\">\n",
       "      <th></th>\n",
       "      <th>State</th>\n",
       "      <th>Region</th>\n",
       "      <th>2020 Population</th>\n",
       "      <th>pres2000</th>\n",
       "      <th>pres2004</th>\n",
       "      <th>pres2008</th>\n",
       "      <th>pres2012</th>\n",
       "      <th>pres2016</th>\n",
       "      <th>pres2020</th>\n",
       "      <th>sen1-recent</th>\n",
       "      <th>...</th>\n",
       "      <th>rep-finance</th>\n",
       "      <th>dem-finance</th>\n",
       "      <th>median-hh-income</th>\n",
       "      <th>recent-five-polling-avg</th>\n",
       "      <th>polling-party-lead</th>\n",
       "      <th>pvi</th>\n",
       "      <th>party-pvi</th>\n",
       "      <th>employment-rate</th>\n",
       "      <th>urban-pct-2010</th>\n",
       "      <th>recent-res</th>\n",
       "    </tr>\n",
       "  </thead>\n",
       "  <tbody>\n",
       "    <tr>\n",
       "      <th>0</th>\n",
       "      <td>Alabama</td>\n",
       "      <td>South</td>\n",
       "      <td>5024279</td>\n",
       "      <td>0</td>\n",
       "      <td>0</td>\n",
       "      <td>0</td>\n",
       "      <td>0</td>\n",
       "      <td>0</td>\n",
       "      <td>0</td>\n",
       "      <td>0</td>\n",
       "      <td>...</td>\n",
       "      <td>6829526.55</td>\n",
       "      <td>37491.77</td>\n",
       "      <td>52035</td>\n",
       "      <td>20.4</td>\n",
       "      <td>0</td>\n",
       "      <td>15</td>\n",
       "      <td>0</td>\n",
       "      <td>54.0</td>\n",
       "      <td>59.04</td>\n",
       "      <td>0.0</td>\n",
       "    </tr>\n",
       "    <tr>\n",
       "      <th>1</th>\n",
       "      <td>Alaska</td>\n",
       "      <td>West</td>\n",
       "      <td>733391</td>\n",
       "      <td>0</td>\n",
       "      <td>0</td>\n",
       "      <td>0</td>\n",
       "      <td>0</td>\n",
       "      <td>0</td>\n",
       "      <td>0</td>\n",
       "      <td>0</td>\n",
       "      <td>...</td>\n",
       "      <td>7527972.46</td>\n",
       "      <td>3566.69</td>\n",
       "      <td>77790</td>\n",
       "      <td>6.5</td>\n",
       "      <td>0</td>\n",
       "      <td>9</td>\n",
       "      <td>0</td>\n",
       "      <td>59.6</td>\n",
       "      <td>66.02</td>\n",
       "      <td>NaN</td>\n",
       "    </tr>\n",
       "    <tr>\n",
       "      <th>2</th>\n",
       "      <td>Arizona</td>\n",
       "      <td>West</td>\n",
       "      <td>7151502</td>\n",
       "      <td>0</td>\n",
       "      <td>0</td>\n",
       "      <td>0</td>\n",
       "      <td>0</td>\n",
       "      <td>0</td>\n",
       "      <td>1</td>\n",
       "      <td>1</td>\n",
       "      <td>...</td>\n",
       "      <td>13839094.88</td>\n",
       "      <td>38865284.52</td>\n",
       "      <td>61529</td>\n",
       "      <td>7.0</td>\n",
       "      <td>1</td>\n",
       "      <td>3</td>\n",
       "      <td>0</td>\n",
       "      <td>56.2</td>\n",
       "      <td>89.81</td>\n",
       "      <td>NaN</td>\n",
       "    </tr>\n",
       "    <tr>\n",
       "      <th>3</th>\n",
       "      <td>Arkansas</td>\n",
       "      <td>South</td>\n",
       "      <td>3011524</td>\n",
       "      <td>0</td>\n",
       "      <td>0</td>\n",
       "      <td>0</td>\n",
       "      <td>0</td>\n",
       "      <td>0</td>\n",
       "      <td>0</td>\n",
       "      <td>0</td>\n",
       "      <td>...</td>\n",
       "      <td>5973540.80</td>\n",
       "      <td>26852.08</td>\n",
       "      <td>49475</td>\n",
       "      <td>45.0</td>\n",
       "      <td>0</td>\n",
       "      <td>16</td>\n",
       "      <td>0</td>\n",
       "      <td>54.8</td>\n",
       "      <td>56.16</td>\n",
       "      <td>0.0</td>\n",
       "    </tr>\n",
       "    <tr>\n",
       "      <th>4</th>\n",
       "      <td>California</td>\n",
       "      <td>West</td>\n",
       "      <td>39538223</td>\n",
       "      <td>1</td>\n",
       "      <td>1</td>\n",
       "      <td>1</td>\n",
       "      <td>1</td>\n",
       "      <td>1</td>\n",
       "      <td>1</td>\n",
       "      <td>1</td>\n",
       "      <td>...</td>\n",
       "      <td>135852.28</td>\n",
       "      <td>9467165.58</td>\n",
       "      <td>78672</td>\n",
       "      <td>25.0</td>\n",
       "      <td>1</td>\n",
       "      <td>14</td>\n",
       "      <td>1</td>\n",
       "      <td>59.4</td>\n",
       "      <td>94.95</td>\n",
       "      <td>1.0</td>\n",
       "    </tr>\n",
       "  </tbody>\n",
       "</table>\n",
       "<p>5 rows × 41 columns</p>\n",
       "</div>"
      ],
      "text/plain": [
       "        State Region  2020 Population  pres2000  pres2004  pres2008  pres2012  \\\n",
       "0     Alabama  South          5024279         0         0         0         0   \n",
       "1      Alaska   West           733391         0         0         0         0   \n",
       "2     Arizona   West          7151502         0         0         0         0   \n",
       "3    Arkansas  South          3011524         0         0         0         0   \n",
       "4  California   West         39538223         1         1         1         1   \n",
       "\n",
       "   pres2016  pres2020  sen1-recent  ...  rep-finance  dem-finance  \\\n",
       "0         0         0            0  ...   6829526.55     37491.77   \n",
       "1         0         0            0  ...   7527972.46      3566.69   \n",
       "2         0         1            1  ...  13839094.88  38865284.52   \n",
       "3         0         0            0  ...   5973540.80     26852.08   \n",
       "4         1         1            1  ...    135852.28   9467165.58   \n",
       "\n",
       "   median-hh-income  recent-five-polling-avg  polling-party-lead  pvi  \\\n",
       "0             52035                     20.4                   0   15   \n",
       "1             77790                      6.5                   0    9   \n",
       "2             61529                      7.0                   1    3   \n",
       "3             49475                     45.0                   0   16   \n",
       "4             78672                     25.0                   1   14   \n",
       "\n",
       "   party-pvi  employment-rate  urban-pct-2010  recent-res  \n",
       "0          0             54.0           59.04         0.0  \n",
       "1          0             59.6           66.02         NaN  \n",
       "2          0             56.2           89.81         NaN  \n",
       "3          0             54.8           56.16         0.0  \n",
       "4          1             59.4           94.95         1.0  \n",
       "\n",
       "[5 rows x 41 columns]"
      ]
     },
     "execution_count": 81,
     "metadata": {},
     "output_type": "execute_result"
    }
   ],
   "source": [
    "sen_data.head()"
   ]
  },
  {
   "cell_type": "code",
   "execution_count": 82,
   "metadata": {
    "executionInfo": {
     "elapsed": 14,
     "status": "ok",
     "timestamp": 1654534573889,
     "user": {
      "displayName": "Darian Shane Martos",
      "userId": "04419166853444755059"
     },
     "user_tz": 420
    },
    "id": "JL_NZJN70YlY"
   },
   "outputs": [],
   "source": [
    "## First we form predictions for presidential data\n",
    "## We will use 2016 results as a training set, this will involve using all \n",
    "## features above except for 2020 population and 2020 polling info columns \n",
    "## (and obviously the )\n",
    "\n",
    "\n",
    "le = LabelEncoder()\n",
    "region_enc = le.fit_transform(pres_data['Region'])\n",
    "pres_data[\"Region\"] = region_enc\n",
    "sen_data[\"Region\"] = region_enc"
   ]
  },
  {
   "cell_type": "code",
   "execution_count": 83,
   "metadata": {
    "executionInfo": {
     "elapsed": 257,
     "status": "ok",
     "timestamp": 1654534574132,
     "user": {
      "displayName": "Darian Shane Martos",
      "userId": "04419166853444755059"
     },
     "user_tz": 420
    },
    "id": "TIj0_1MSzgvu"
   },
   "outputs": [],
   "source": [
    "noninc_cols_train = ['State','2020 Population','recent-five-polling-avg-20','polling-party-lead-20','pres2016','pres2020']\n",
    "pres_train_X = pres_data.drop(noninc_cols_train, axis=1)\n",
    "pres_train_y = pres_data[['pres2016']]\n",
    "\n",
    "pres_train_X.to_csv(cwd + \"\\\\pres_train_X.csv\")\n",
    "pres_train_y.to_csv(cwd + \"\\\\pres_train_y.csv\")"
   ]
  },
  {
   "cell_type": "code",
   "execution_count": 84,
   "metadata": {
    "colab": {
     "base_uri": "https://localhost:8080/",
     "height": 352
    },
    "executionInfo": {
     "elapsed": 14,
     "status": "ok",
     "timestamp": 1654534574132,
     "user": {
      "displayName": "Darian Shane Martos",
      "userId": "04419166853444755059"
     },
     "user_tz": 420
    },
    "id": "ILtw5XOYzQrr",
    "outputId": "3763197c-f209-4041-92a3-920f7a714fee"
   },
   "outputs": [
    {
     "data": {
      "text/html": [
       "<div>\n",
       "<style scoped>\n",
       "    .dataframe tbody tr th:only-of-type {\n",
       "        vertical-align: middle;\n",
       "    }\n",
       "\n",
       "    .dataframe tbody tr th {\n",
       "        vertical-align: top;\n",
       "    }\n",
       "\n",
       "    .dataframe thead th {\n",
       "        text-align: right;\n",
       "    }\n",
       "</style>\n",
       "<table border=\"1\" class=\"dataframe\">\n",
       "  <thead>\n",
       "    <tr style=\"text-align: right;\">\n",
       "      <th></th>\n",
       "      <th>Region</th>\n",
       "      <th>2010 Population</th>\n",
       "      <th>pres2000</th>\n",
       "      <th>pres2004</th>\n",
       "      <th>pres2008</th>\n",
       "      <th>pres2012</th>\n",
       "      <th>sen1-3rdrecent</th>\n",
       "      <th>sen2-3rdrecent</th>\n",
       "      <th>gdp</th>\n",
       "      <th>high-school-pop</th>\n",
       "      <th>...</th>\n",
       "      <th>white</th>\n",
       "      <th>inc-party</th>\n",
       "      <th>inc-w-recent</th>\n",
       "      <th>rep-finance</th>\n",
       "      <th>dem-finance</th>\n",
       "      <th>median-hh-income</th>\n",
       "      <th>recent-five-polling-avg-16</th>\n",
       "      <th>polling-party-lead-16</th>\n",
       "      <th>pvi</th>\n",
       "      <th>party-pvi</th>\n",
       "    </tr>\n",
       "  </thead>\n",
       "  <tbody>\n",
       "    <tr>\n",
       "      <th>0</th>\n",
       "      <td>2</td>\n",
       "      <td>4779736</td>\n",
       "      <td>0</td>\n",
       "      <td>0</td>\n",
       "      <td>0</td>\n",
       "      <td>0</td>\n",
       "      <td>0</td>\n",
       "      <td>0</td>\n",
       "      <td>226896.5</td>\n",
       "      <td>30.3</td>\n",
       "      <td>...</td>\n",
       "      <td>0.640074</td>\n",
       "      <td>1</td>\n",
       "      <td>1</td>\n",
       "      <td>6829526.55</td>\n",
       "      <td>37491.77</td>\n",
       "      <td>52035</td>\n",
       "      <td>16</td>\n",
       "      <td>0</td>\n",
       "      <td>15</td>\n",
       "      <td>0</td>\n",
       "    </tr>\n",
       "    <tr>\n",
       "      <th>1</th>\n",
       "      <td>3</td>\n",
       "      <td>710231</td>\n",
       "      <td>0</td>\n",
       "      <td>0</td>\n",
       "      <td>0</td>\n",
       "      <td>0</td>\n",
       "      <td>1</td>\n",
       "      <td>0</td>\n",
       "      <td>49820.0</td>\n",
       "      <td>28.4</td>\n",
       "      <td>...</td>\n",
       "      <td>0.627645</td>\n",
       "      <td>0</td>\n",
       "      <td>1</td>\n",
       "      <td>7527972.46</td>\n",
       "      <td>3566.69</td>\n",
       "      <td>77790</td>\n",
       "      <td>4</td>\n",
       "      <td>1</td>\n",
       "      <td>9</td>\n",
       "      <td>0</td>\n",
       "    </tr>\n",
       "    <tr>\n",
       "      <th>2</th>\n",
       "      <td>3</td>\n",
       "      <td>6392017</td>\n",
       "      <td>0</td>\n",
       "      <td>0</td>\n",
       "      <td>0</td>\n",
       "      <td>0</td>\n",
       "      <td>0</td>\n",
       "      <td>0</td>\n",
       "      <td>373719.0</td>\n",
       "      <td>23.8</td>\n",
       "      <td>...</td>\n",
       "      <td>0.517834</td>\n",
       "      <td>0</td>\n",
       "      <td>0</td>\n",
       "      <td>13839094.88</td>\n",
       "      <td>38865284.52</td>\n",
       "      <td>61529</td>\n",
       "      <td>2</td>\n",
       "      <td>0</td>\n",
       "      <td>3</td>\n",
       "      <td>0</td>\n",
       "    </tr>\n",
       "    <tr>\n",
       "      <th>3</th>\n",
       "      <td>2</td>\n",
       "      <td>2915918</td>\n",
       "      <td>0</td>\n",
       "      <td>0</td>\n",
       "      <td>0</td>\n",
       "      <td>0</td>\n",
       "      <td>1</td>\n",
       "      <td>1</td>\n",
       "      <td>130750.7</td>\n",
       "      <td>33.9</td>\n",
       "      <td>...</td>\n",
       "      <td>0.692194</td>\n",
       "      <td>1</td>\n",
       "      <td>1</td>\n",
       "      <td>5973540.80</td>\n",
       "      <td>26852.08</td>\n",
       "      <td>49475</td>\n",
       "      <td>23</td>\n",
       "      <td>0</td>\n",
       "      <td>16</td>\n",
       "      <td>0</td>\n",
       "    </tr>\n",
       "    <tr>\n",
       "      <th>4</th>\n",
       "      <td>3</td>\n",
       "      <td>37253956</td>\n",
       "      <td>1</td>\n",
       "      <td>1</td>\n",
       "      <td>1</td>\n",
       "      <td>1</td>\n",
       "      <td>1</td>\n",
       "      <td>1</td>\n",
       "      <td>3007187.7</td>\n",
       "      <td>20.4</td>\n",
       "      <td>...</td>\n",
       "      <td>0.330164</td>\n",
       "      <td>1</td>\n",
       "      <td>1</td>\n",
       "      <td>135852.28</td>\n",
       "      <td>9467165.58</td>\n",
       "      <td>78672</td>\n",
       "      <td>28</td>\n",
       "      <td>1</td>\n",
       "      <td>14</td>\n",
       "      <td>1</td>\n",
       "    </tr>\n",
       "  </tbody>\n",
       "</table>\n",
       "<p>5 rows × 31 columns</p>\n",
       "</div>"
      ],
      "text/plain": [
       "   Region  2010 Population  pres2000  pres2004  pres2008  pres2012  \\\n",
       "0       2          4779736         0         0         0         0   \n",
       "1       3           710231         0         0         0         0   \n",
       "2       3          6392017         0         0         0         0   \n",
       "3       2          2915918         0         0         0         0   \n",
       "4       3         37253956         1         1         1         1   \n",
       "\n",
       "   sen1-3rdrecent  sen2-3rdrecent        gdp  high-school-pop  ...     white  \\\n",
       "0               0               0   226896.5             30.3  ...  0.640074   \n",
       "1               1               0    49820.0             28.4  ...  0.627645   \n",
       "2               0               0   373719.0             23.8  ...  0.517834   \n",
       "3               1               1   130750.7             33.9  ...  0.692194   \n",
       "4               1               1  3007187.7             20.4  ...  0.330164   \n",
       "\n",
       "   inc-party  inc-w-recent  rep-finance  dem-finance  median-hh-income  \\\n",
       "0          1             1   6829526.55     37491.77             52035   \n",
       "1          0             1   7527972.46      3566.69             77790   \n",
       "2          0             0  13839094.88  38865284.52             61529   \n",
       "3          1             1   5973540.80     26852.08             49475   \n",
       "4          1             1    135852.28   9467165.58             78672   \n",
       "\n",
       "   recent-five-polling-avg-16  polling-party-lead-16  pvi  party-pvi  \n",
       "0                          16                      0   15          0  \n",
       "1                           4                      1    9          0  \n",
       "2                           2                      0    3          0  \n",
       "3                          23                      0   16          0  \n",
       "4                          28                      1   14          1  \n",
       "\n",
       "[5 rows x 31 columns]"
      ]
     },
     "execution_count": 84,
     "metadata": {},
     "output_type": "execute_result"
    }
   ],
   "source": [
    "pres_train_X.head()"
   ]
  },
  {
   "cell_type": "code",
   "execution_count": 85,
   "metadata": {
    "colab": {
     "base_uri": "https://localhost:8080/",
     "height": 206
    },
    "executionInfo": {
     "elapsed": 13,
     "status": "ok",
     "timestamp": 1654534574132,
     "user": {
      "displayName": "Darian Shane Martos",
      "userId": "04419166853444755059"
     },
     "user_tz": 420
    },
    "id": "lVKuW2DEzQ8Q",
    "outputId": "eea433c8-31a6-4138-e5f4-cdfafbf401b0"
   },
   "outputs": [
    {
     "data": {
      "text/html": [
       "<div>\n",
       "<style scoped>\n",
       "    .dataframe tbody tr th:only-of-type {\n",
       "        vertical-align: middle;\n",
       "    }\n",
       "\n",
       "    .dataframe tbody tr th {\n",
       "        vertical-align: top;\n",
       "    }\n",
       "\n",
       "    .dataframe thead th {\n",
       "        text-align: right;\n",
       "    }\n",
       "</style>\n",
       "<table border=\"1\" class=\"dataframe\">\n",
       "  <thead>\n",
       "    <tr style=\"text-align: right;\">\n",
       "      <th></th>\n",
       "      <th>pres2016</th>\n",
       "    </tr>\n",
       "  </thead>\n",
       "  <tbody>\n",
       "    <tr>\n",
       "      <th>0</th>\n",
       "      <td>0</td>\n",
       "    </tr>\n",
       "    <tr>\n",
       "      <th>1</th>\n",
       "      <td>0</td>\n",
       "    </tr>\n",
       "    <tr>\n",
       "      <th>2</th>\n",
       "      <td>0</td>\n",
       "    </tr>\n",
       "    <tr>\n",
       "      <th>3</th>\n",
       "      <td>0</td>\n",
       "    </tr>\n",
       "    <tr>\n",
       "      <th>4</th>\n",
       "      <td>1</td>\n",
       "    </tr>\n",
       "  </tbody>\n",
       "</table>\n",
       "</div>"
      ],
      "text/plain": [
       "   pres2016\n",
       "0         0\n",
       "1         0\n",
       "2         0\n",
       "3         0\n",
       "4         1"
      ]
     },
     "execution_count": 85,
     "metadata": {},
     "output_type": "execute_result"
    }
   ],
   "source": [
    "pres_train_y.head()"
   ]
  },
  {
   "cell_type": "markdown",
   "metadata": {
    "id": "GJ_SwhXc1Ess"
   },
   "source": [
    "## Model Creation\n",
    "\n",
    "Models here are: logistic regression with no penalty, logistic regression models with l1 and l2 penalization terms, random forests, xgboost.\n",
    "\n",
    "Note for logistic regression we employ a standard scaling as necessary when applying regularization terms. We keep the standardization even for no-penalty (regular) logistic regression just for the sake of completion. No standardization is done for "
   ]
  },
  {
   "cell_type": "code",
   "execution_count": 86,
   "metadata": {
    "colab": {
     "base_uri": "https://localhost:8080/"
    },
    "executionInfo": {
     "elapsed": 12,
     "status": "ok",
     "timestamp": 1654534574132,
     "user": {
      "displayName": "Darian Shane Martos",
      "userId": "04419166853444755059"
     },
     "user_tz": 420
    },
    "id": "TSywtnDqHG-u",
    "outputId": "262271dc-f599-4d2e-f791-40ae11f87c86",
    "scrolled": true
   },
   "outputs": [
    {
     "name": "stderr",
     "output_type": "stream",
     "text": [
      "C:\\Users\\gr0581vr\\Anaconda3\\envs\\homework\\lib\\site-packages\\sklearn\\linear_model\\_sag.py:350: ConvergenceWarning: The max_iter was reached which means the coef_ did not converge\n",
      "  warnings.warn(\n",
      "C:\\Users\\gr0581vr\\Anaconda3\\envs\\homework\\lib\\site-packages\\sklearn\\linear_model\\_sag.py:350: ConvergenceWarning: The max_iter was reached which means the coef_ did not converge\n",
      "  warnings.warn(\n"
     ]
    },
    {
     "data": {
      "text/html": [
       "<style>#sk-container-id-6 {color: black;background-color: white;}#sk-container-id-6 pre{padding: 0;}#sk-container-id-6 div.sk-toggleable {background-color: white;}#sk-container-id-6 label.sk-toggleable__label {cursor: pointer;display: block;width: 100%;margin-bottom: 0;padding: 0.3em;box-sizing: border-box;text-align: center;}#sk-container-id-6 label.sk-toggleable__label-arrow:before {content: \"▸\";float: left;margin-right: 0.25em;color: #696969;}#sk-container-id-6 label.sk-toggleable__label-arrow:hover:before {color: black;}#sk-container-id-6 div.sk-estimator:hover label.sk-toggleable__label-arrow:before {color: black;}#sk-container-id-6 div.sk-toggleable__content {max-height: 0;max-width: 0;overflow: hidden;text-align: left;background-color: #f0f8ff;}#sk-container-id-6 div.sk-toggleable__content pre {margin: 0.2em;color: black;border-radius: 0.25em;background-color: #f0f8ff;}#sk-container-id-6 input.sk-toggleable__control:checked~div.sk-toggleable__content {max-height: 200px;max-width: 100%;overflow: auto;}#sk-container-id-6 input.sk-toggleable__control:checked~label.sk-toggleable__label-arrow:before {content: \"▾\";}#sk-container-id-6 div.sk-estimator input.sk-toggleable__control:checked~label.sk-toggleable__label {background-color: #d4ebff;}#sk-container-id-6 div.sk-label input.sk-toggleable__control:checked~label.sk-toggleable__label {background-color: #d4ebff;}#sk-container-id-6 input.sk-hidden--visually {border: 0;clip: rect(1px 1px 1px 1px);clip: rect(1px, 1px, 1px, 1px);height: 1px;margin: -1px;overflow: hidden;padding: 0;position: absolute;width: 1px;}#sk-container-id-6 div.sk-estimator {font-family: monospace;background-color: #f0f8ff;border: 1px dotted black;border-radius: 0.25em;box-sizing: border-box;margin-bottom: 0.5em;}#sk-container-id-6 div.sk-estimator:hover {background-color: #d4ebff;}#sk-container-id-6 div.sk-parallel-item::after {content: \"\";width: 100%;border-bottom: 1px solid gray;flex-grow: 1;}#sk-container-id-6 div.sk-label:hover label.sk-toggleable__label {background-color: #d4ebff;}#sk-container-id-6 div.sk-serial::before {content: \"\";position: absolute;border-left: 1px solid gray;box-sizing: border-box;top: 0;bottom: 0;left: 50%;z-index: 0;}#sk-container-id-6 div.sk-serial {display: flex;flex-direction: column;align-items: center;background-color: white;padding-right: 0.2em;padding-left: 0.2em;position: relative;}#sk-container-id-6 div.sk-item {position: relative;z-index: 1;}#sk-container-id-6 div.sk-parallel {display: flex;align-items: stretch;justify-content: center;background-color: white;position: relative;}#sk-container-id-6 div.sk-item::before, #sk-container-id-6 div.sk-parallel-item::before {content: \"\";position: absolute;border-left: 1px solid gray;box-sizing: border-box;top: 0;bottom: 0;left: 50%;z-index: -1;}#sk-container-id-6 div.sk-parallel-item {display: flex;flex-direction: column;z-index: 1;position: relative;background-color: white;}#sk-container-id-6 div.sk-parallel-item:first-child::after {align-self: flex-end;width: 50%;}#sk-container-id-6 div.sk-parallel-item:last-child::after {align-self: flex-start;width: 50%;}#sk-container-id-6 div.sk-parallel-item:only-child::after {width: 0;}#sk-container-id-6 div.sk-dashed-wrapped {border: 1px dashed gray;margin: 0 0.4em 0.5em 0.4em;box-sizing: border-box;padding-bottom: 0.4em;background-color: white;}#sk-container-id-6 div.sk-label label {font-family: monospace;font-weight: bold;display: inline-block;line-height: 1.2em;}#sk-container-id-6 div.sk-label-container {text-align: center;}#sk-container-id-6 div.sk-container {/* jupyter's `normalize.less` sets `[hidden] { display: none; }` but bootstrap.min.css set `[hidden] { display: none !important; }` so we also need the `!important` here to be able to override the default hidden behavior on the sphinx rendered scikit-learn.org. See: https://github.com/scikit-learn/scikit-learn/issues/21755 */display: inline-block !important;position: relative;}#sk-container-id-6 div.sk-text-repr-fallback {display: none;}</style><div id=\"sk-container-id-6\" class=\"sk-top-container\"><div class=\"sk-text-repr-fallback\"><pre>Pipeline(steps=[(&#x27;standardize&#x27;, StandardScaler()),\n",
       "                (&#x27;ridge_log_reg&#x27;, LogisticRegression())])</pre><b>In a Jupyter environment, please rerun this cell to show the HTML representation or trust the notebook. <br />On GitHub, the HTML representation is unable to render, please try loading this page with nbviewer.org.</b></div><div class=\"sk-container\" hidden><div class=\"sk-item sk-dashed-wrapped\"><div class=\"sk-label-container\"><div class=\"sk-label sk-toggleable\"><input class=\"sk-toggleable__control sk-hidden--visually\" id=\"sk-estimator-id-8\" type=\"checkbox\" ><label for=\"sk-estimator-id-8\" class=\"sk-toggleable__label sk-toggleable__label-arrow\">Pipeline</label><div class=\"sk-toggleable__content\"><pre>Pipeline(steps=[(&#x27;standardize&#x27;, StandardScaler()),\n",
       "                (&#x27;ridge_log_reg&#x27;, LogisticRegression())])</pre></div></div></div><div class=\"sk-serial\"><div class=\"sk-item\"><div class=\"sk-estimator sk-toggleable\"><input class=\"sk-toggleable__control sk-hidden--visually\" id=\"sk-estimator-id-9\" type=\"checkbox\" ><label for=\"sk-estimator-id-9\" class=\"sk-toggleable__label sk-toggleable__label-arrow\">StandardScaler</label><div class=\"sk-toggleable__content\"><pre>StandardScaler()</pre></div></div></div><div class=\"sk-item\"><div class=\"sk-estimator sk-toggleable\"><input class=\"sk-toggleable__control sk-hidden--visually\" id=\"sk-estimator-id-10\" type=\"checkbox\" ><label for=\"sk-estimator-id-10\" class=\"sk-toggleable__label sk-toggleable__label-arrow\">LogisticRegression</label><div class=\"sk-toggleable__content\"><pre>LogisticRegression()</pre></div></div></div></div></div></div></div>"
      ],
      "text/plain": [
       "Pipeline(steps=[('standardize', StandardScaler()),\n",
       "                ('ridge_log_reg', LogisticRegression())])"
      ]
     },
     "execution_count": 86,
     "metadata": {},
     "output_type": "execute_result"
    }
   ],
   "source": [
    "## Logistic Regression with Scaling\n",
    "scaler = StandardScaler()\n",
    "lr = LogisticRegression(penalty='none', solver = 'saga')\n",
    "lrmodel = Pipeline([('standardize', scaler), ('log_reg', lr)])\n",
    "lrmodel.fit(pres_train_X,pres_train_y.values.ravel())\n",
    "\n",
    "## L1-Penalty Logistic Regression (\"LASSO-like\" logistic regression)\n",
    "lassor = LogisticRegression(penalty='l1', solver = 'saga')\n",
    "lassomodel = Pipeline([('standardize', scaler), ('lasso_log_reg', lassor)])\n",
    "lassomodel.fit(pres_train_X,pres_train_y.values.ravel())\n",
    "\n",
    "## L2-Penalty Logistic Regression\n",
    "ridger = LogisticRegression()\n",
    "ridgemodel = Pipeline([('standardize', scaler), ('ridge_log_reg', ridger)])\n",
    "ridgemodel.fit(pres_train_X,pres_train_y.values.ravel())"
   ]
  },
  {
   "cell_type": "code",
   "execution_count": 87,
   "metadata": {
    "colab": {
     "base_uri": "https://localhost:8080/"
    },
    "executionInfo": {
     "elapsed": 9,
     "status": "ok",
     "timestamp": 1654534574133,
     "user": {
      "displayName": "Darian Shane Martos",
      "userId": "04419166853444755059"
     },
     "user_tz": 420
    },
    "id": "ATG7Uvdy21xz",
    "outputId": "5940a886-3c0b-4d08-f7d3-d336cc03e470"
   },
   "outputs": [
    {
     "data": {
      "text/html": [
       "<style>#sk-container-id-7 {color: black;background-color: white;}#sk-container-id-7 pre{padding: 0;}#sk-container-id-7 div.sk-toggleable {background-color: white;}#sk-container-id-7 label.sk-toggleable__label {cursor: pointer;display: block;width: 100%;margin-bottom: 0;padding: 0.3em;box-sizing: border-box;text-align: center;}#sk-container-id-7 label.sk-toggleable__label-arrow:before {content: \"▸\";float: left;margin-right: 0.25em;color: #696969;}#sk-container-id-7 label.sk-toggleable__label-arrow:hover:before {color: black;}#sk-container-id-7 div.sk-estimator:hover label.sk-toggleable__label-arrow:before {color: black;}#sk-container-id-7 div.sk-toggleable__content {max-height: 0;max-width: 0;overflow: hidden;text-align: left;background-color: #f0f8ff;}#sk-container-id-7 div.sk-toggleable__content pre {margin: 0.2em;color: black;border-radius: 0.25em;background-color: #f0f8ff;}#sk-container-id-7 input.sk-toggleable__control:checked~div.sk-toggleable__content {max-height: 200px;max-width: 100%;overflow: auto;}#sk-container-id-7 input.sk-toggleable__control:checked~label.sk-toggleable__label-arrow:before {content: \"▾\";}#sk-container-id-7 div.sk-estimator input.sk-toggleable__control:checked~label.sk-toggleable__label {background-color: #d4ebff;}#sk-container-id-7 div.sk-label input.sk-toggleable__control:checked~label.sk-toggleable__label {background-color: #d4ebff;}#sk-container-id-7 input.sk-hidden--visually {border: 0;clip: rect(1px 1px 1px 1px);clip: rect(1px, 1px, 1px, 1px);height: 1px;margin: -1px;overflow: hidden;padding: 0;position: absolute;width: 1px;}#sk-container-id-7 div.sk-estimator {font-family: monospace;background-color: #f0f8ff;border: 1px dotted black;border-radius: 0.25em;box-sizing: border-box;margin-bottom: 0.5em;}#sk-container-id-7 div.sk-estimator:hover {background-color: #d4ebff;}#sk-container-id-7 div.sk-parallel-item::after {content: \"\";width: 100%;border-bottom: 1px solid gray;flex-grow: 1;}#sk-container-id-7 div.sk-label:hover label.sk-toggleable__label {background-color: #d4ebff;}#sk-container-id-7 div.sk-serial::before {content: \"\";position: absolute;border-left: 1px solid gray;box-sizing: border-box;top: 0;bottom: 0;left: 50%;z-index: 0;}#sk-container-id-7 div.sk-serial {display: flex;flex-direction: column;align-items: center;background-color: white;padding-right: 0.2em;padding-left: 0.2em;position: relative;}#sk-container-id-7 div.sk-item {position: relative;z-index: 1;}#sk-container-id-7 div.sk-parallel {display: flex;align-items: stretch;justify-content: center;background-color: white;position: relative;}#sk-container-id-7 div.sk-item::before, #sk-container-id-7 div.sk-parallel-item::before {content: \"\";position: absolute;border-left: 1px solid gray;box-sizing: border-box;top: 0;bottom: 0;left: 50%;z-index: -1;}#sk-container-id-7 div.sk-parallel-item {display: flex;flex-direction: column;z-index: 1;position: relative;background-color: white;}#sk-container-id-7 div.sk-parallel-item:first-child::after {align-self: flex-end;width: 50%;}#sk-container-id-7 div.sk-parallel-item:last-child::after {align-self: flex-start;width: 50%;}#sk-container-id-7 div.sk-parallel-item:only-child::after {width: 0;}#sk-container-id-7 div.sk-dashed-wrapped {border: 1px dashed gray;margin: 0 0.4em 0.5em 0.4em;box-sizing: border-box;padding-bottom: 0.4em;background-color: white;}#sk-container-id-7 div.sk-label label {font-family: monospace;font-weight: bold;display: inline-block;line-height: 1.2em;}#sk-container-id-7 div.sk-label-container {text-align: center;}#sk-container-id-7 div.sk-container {/* jupyter's `normalize.less` sets `[hidden] { display: none; }` but bootstrap.min.css set `[hidden] { display: none !important; }` so we also need the `!important` here to be able to override the default hidden behavior on the sphinx rendered scikit-learn.org. See: https://github.com/scikit-learn/scikit-learn/issues/21755 */display: inline-block !important;position: relative;}#sk-container-id-7 div.sk-text-repr-fallback {display: none;}</style><div id=\"sk-container-id-7\" class=\"sk-top-container\"><div class=\"sk-text-repr-fallback\"><pre>DecisionTreeClassifier(random_state=83)</pre><b>In a Jupyter environment, please rerun this cell to show the HTML representation or trust the notebook. <br />On GitHub, the HTML representation is unable to render, please try loading this page with nbviewer.org.</b></div><div class=\"sk-container\" hidden><div class=\"sk-item\"><div class=\"sk-estimator sk-toggleable\"><input class=\"sk-toggleable__control sk-hidden--visually\" id=\"sk-estimator-id-11\" type=\"checkbox\" checked><label for=\"sk-estimator-id-11\" class=\"sk-toggleable__label sk-toggleable__label-arrow\">DecisionTreeClassifier</label><div class=\"sk-toggleable__content\"><pre>DecisionTreeClassifier(random_state=83)</pre></div></div></div></div></div>"
      ],
      "text/plain": [
       "DecisionTreeClassifier(random_state=83)"
      ]
     },
     "execution_count": 87,
     "metadata": {},
     "output_type": "execute_result"
    }
   ],
   "source": [
    "## Decision Trees\n",
    "dtree = DecisionTreeClassifier(random_state = 83)\n",
    "dtree.fit(pres_train_X,pres_train_y.values.ravel())"
   ]
  },
  {
   "cell_type": "code",
   "execution_count": 89,
   "metadata": {
    "colab": {
     "base_uri": "https://localhost:8080/"
    },
    "executionInfo": {
     "elapsed": 203,
     "status": "ok",
     "timestamp": 1654534574329,
     "user": {
      "displayName": "Darian Shane Martos",
      "userId": "04419166853444755059"
     },
     "user_tz": 420
    },
    "id": "fRjjMUAu1W-V",
    "outputId": "57378be1-7fb5-472b-c019-3319593da486"
   },
   "outputs": [
    {
     "data": {
      "text/html": [
       "<style>#sk-container-id-9 {color: black;background-color: white;}#sk-container-id-9 pre{padding: 0;}#sk-container-id-9 div.sk-toggleable {background-color: white;}#sk-container-id-9 label.sk-toggleable__label {cursor: pointer;display: block;width: 100%;margin-bottom: 0;padding: 0.3em;box-sizing: border-box;text-align: center;}#sk-container-id-9 label.sk-toggleable__label-arrow:before {content: \"▸\";float: left;margin-right: 0.25em;color: #696969;}#sk-container-id-9 label.sk-toggleable__label-arrow:hover:before {color: black;}#sk-container-id-9 div.sk-estimator:hover label.sk-toggleable__label-arrow:before {color: black;}#sk-container-id-9 div.sk-toggleable__content {max-height: 0;max-width: 0;overflow: hidden;text-align: left;background-color: #f0f8ff;}#sk-container-id-9 div.sk-toggleable__content pre {margin: 0.2em;color: black;border-radius: 0.25em;background-color: #f0f8ff;}#sk-container-id-9 input.sk-toggleable__control:checked~div.sk-toggleable__content {max-height: 200px;max-width: 100%;overflow: auto;}#sk-container-id-9 input.sk-toggleable__control:checked~label.sk-toggleable__label-arrow:before {content: \"▾\";}#sk-container-id-9 div.sk-estimator input.sk-toggleable__control:checked~label.sk-toggleable__label {background-color: #d4ebff;}#sk-container-id-9 div.sk-label input.sk-toggleable__control:checked~label.sk-toggleable__label {background-color: #d4ebff;}#sk-container-id-9 input.sk-hidden--visually {border: 0;clip: rect(1px 1px 1px 1px);clip: rect(1px, 1px, 1px, 1px);height: 1px;margin: -1px;overflow: hidden;padding: 0;position: absolute;width: 1px;}#sk-container-id-9 div.sk-estimator {font-family: monospace;background-color: #f0f8ff;border: 1px dotted black;border-radius: 0.25em;box-sizing: border-box;margin-bottom: 0.5em;}#sk-container-id-9 div.sk-estimator:hover {background-color: #d4ebff;}#sk-container-id-9 div.sk-parallel-item::after {content: \"\";width: 100%;border-bottom: 1px solid gray;flex-grow: 1;}#sk-container-id-9 div.sk-label:hover label.sk-toggleable__label {background-color: #d4ebff;}#sk-container-id-9 div.sk-serial::before {content: \"\";position: absolute;border-left: 1px solid gray;box-sizing: border-box;top: 0;bottom: 0;left: 50%;z-index: 0;}#sk-container-id-9 div.sk-serial {display: flex;flex-direction: column;align-items: center;background-color: white;padding-right: 0.2em;padding-left: 0.2em;position: relative;}#sk-container-id-9 div.sk-item {position: relative;z-index: 1;}#sk-container-id-9 div.sk-parallel {display: flex;align-items: stretch;justify-content: center;background-color: white;position: relative;}#sk-container-id-9 div.sk-item::before, #sk-container-id-9 div.sk-parallel-item::before {content: \"\";position: absolute;border-left: 1px solid gray;box-sizing: border-box;top: 0;bottom: 0;left: 50%;z-index: -1;}#sk-container-id-9 div.sk-parallel-item {display: flex;flex-direction: column;z-index: 1;position: relative;background-color: white;}#sk-container-id-9 div.sk-parallel-item:first-child::after {align-self: flex-end;width: 50%;}#sk-container-id-9 div.sk-parallel-item:last-child::after {align-self: flex-start;width: 50%;}#sk-container-id-9 div.sk-parallel-item:only-child::after {width: 0;}#sk-container-id-9 div.sk-dashed-wrapped {border: 1px dashed gray;margin: 0 0.4em 0.5em 0.4em;box-sizing: border-box;padding-bottom: 0.4em;background-color: white;}#sk-container-id-9 div.sk-label label {font-family: monospace;font-weight: bold;display: inline-block;line-height: 1.2em;}#sk-container-id-9 div.sk-label-container {text-align: center;}#sk-container-id-9 div.sk-container {/* jupyter's `normalize.less` sets `[hidden] { display: none; }` but bootstrap.min.css set `[hidden] { display: none !important; }` so we also need the `!important` here to be able to override the default hidden behavior on the sphinx rendered scikit-learn.org. See: https://github.com/scikit-learn/scikit-learn/issues/21755 */display: inline-block !important;position: relative;}#sk-container-id-9 div.sk-text-repr-fallback {display: none;}</style><div id=\"sk-container-id-9\" class=\"sk-top-container\"><div class=\"sk-text-repr-fallback\"><pre>RandomForestClassifier(n_estimators=120, random_state=83)</pre><b>In a Jupyter environment, please rerun this cell to show the HTML representation or trust the notebook. <br />On GitHub, the HTML representation is unable to render, please try loading this page with nbviewer.org.</b></div><div class=\"sk-container\" hidden><div class=\"sk-item\"><div class=\"sk-estimator sk-toggleable\"><input class=\"sk-toggleable__control sk-hidden--visually\" id=\"sk-estimator-id-13\" type=\"checkbox\" checked><label for=\"sk-estimator-id-13\" class=\"sk-toggleable__label sk-toggleable__label-arrow\">RandomForestClassifier</label><div class=\"sk-toggleable__content\"><pre>RandomForestClassifier(n_estimators=120, random_state=83)</pre></div></div></div></div></div>"
      ],
      "text/plain": [
       "RandomForestClassifier(n_estimators=120, random_state=83)"
      ]
     },
     "execution_count": 89,
     "metadata": {},
     "output_type": "execute_result"
    }
   ],
   "source": [
    "## Random Forests\n",
    "forest = RandomForestClassifier(n_estimators = 120, random_state = 83)\n",
    "forest.fit(pres_train_X,pres_train_y.values.ravel())"
   ]
  },
  {
   "cell_type": "code",
   "execution_count": 88,
   "metadata": {
    "colab": {
     "base_uri": "https://localhost:8080/"
    },
    "executionInfo": {
     "elapsed": 8,
     "status": "ok",
     "timestamp": 1654534574330,
     "user": {
      "displayName": "Darian Shane Martos",
      "userId": "04419166853444755059"
     },
     "user_tz": 420
    },
    "id": "hPiHVLb93G8_",
    "outputId": "0d6c53a6-0978-4b61-f63b-bf09a305d94c"
   },
   "outputs": [
    {
     "data": {
      "text/html": [
       "<style>#sk-container-id-8 {color: black;background-color: white;}#sk-container-id-8 pre{padding: 0;}#sk-container-id-8 div.sk-toggleable {background-color: white;}#sk-container-id-8 label.sk-toggleable__label {cursor: pointer;display: block;width: 100%;margin-bottom: 0;padding: 0.3em;box-sizing: border-box;text-align: center;}#sk-container-id-8 label.sk-toggleable__label-arrow:before {content: \"▸\";float: left;margin-right: 0.25em;color: #696969;}#sk-container-id-8 label.sk-toggleable__label-arrow:hover:before {color: black;}#sk-container-id-8 div.sk-estimator:hover label.sk-toggleable__label-arrow:before {color: black;}#sk-container-id-8 div.sk-toggleable__content {max-height: 0;max-width: 0;overflow: hidden;text-align: left;background-color: #f0f8ff;}#sk-container-id-8 div.sk-toggleable__content pre {margin: 0.2em;color: black;border-radius: 0.25em;background-color: #f0f8ff;}#sk-container-id-8 input.sk-toggleable__control:checked~div.sk-toggleable__content {max-height: 200px;max-width: 100%;overflow: auto;}#sk-container-id-8 input.sk-toggleable__control:checked~label.sk-toggleable__label-arrow:before {content: \"▾\";}#sk-container-id-8 div.sk-estimator input.sk-toggleable__control:checked~label.sk-toggleable__label {background-color: #d4ebff;}#sk-container-id-8 div.sk-label input.sk-toggleable__control:checked~label.sk-toggleable__label {background-color: #d4ebff;}#sk-container-id-8 input.sk-hidden--visually {border: 0;clip: rect(1px 1px 1px 1px);clip: rect(1px, 1px, 1px, 1px);height: 1px;margin: -1px;overflow: hidden;padding: 0;position: absolute;width: 1px;}#sk-container-id-8 div.sk-estimator {font-family: monospace;background-color: #f0f8ff;border: 1px dotted black;border-radius: 0.25em;box-sizing: border-box;margin-bottom: 0.5em;}#sk-container-id-8 div.sk-estimator:hover {background-color: #d4ebff;}#sk-container-id-8 div.sk-parallel-item::after {content: \"\";width: 100%;border-bottom: 1px solid gray;flex-grow: 1;}#sk-container-id-8 div.sk-label:hover label.sk-toggleable__label {background-color: #d4ebff;}#sk-container-id-8 div.sk-serial::before {content: \"\";position: absolute;border-left: 1px solid gray;box-sizing: border-box;top: 0;bottom: 0;left: 50%;z-index: 0;}#sk-container-id-8 div.sk-serial {display: flex;flex-direction: column;align-items: center;background-color: white;padding-right: 0.2em;padding-left: 0.2em;position: relative;}#sk-container-id-8 div.sk-item {position: relative;z-index: 1;}#sk-container-id-8 div.sk-parallel {display: flex;align-items: stretch;justify-content: center;background-color: white;position: relative;}#sk-container-id-8 div.sk-item::before, #sk-container-id-8 div.sk-parallel-item::before {content: \"\";position: absolute;border-left: 1px solid gray;box-sizing: border-box;top: 0;bottom: 0;left: 50%;z-index: -1;}#sk-container-id-8 div.sk-parallel-item {display: flex;flex-direction: column;z-index: 1;position: relative;background-color: white;}#sk-container-id-8 div.sk-parallel-item:first-child::after {align-self: flex-end;width: 50%;}#sk-container-id-8 div.sk-parallel-item:last-child::after {align-self: flex-start;width: 50%;}#sk-container-id-8 div.sk-parallel-item:only-child::after {width: 0;}#sk-container-id-8 div.sk-dashed-wrapped {border: 1px dashed gray;margin: 0 0.4em 0.5em 0.4em;box-sizing: border-box;padding-bottom: 0.4em;background-color: white;}#sk-container-id-8 div.sk-label label {font-family: monospace;font-weight: bold;display: inline-block;line-height: 1.2em;}#sk-container-id-8 div.sk-label-container {text-align: center;}#sk-container-id-8 div.sk-container {/* jupyter's `normalize.less` sets `[hidden] { display: none; }` but bootstrap.min.css set `[hidden] { display: none !important; }` so we also need the `!important` here to be able to override the default hidden behavior on the sphinx rendered scikit-learn.org. See: https://github.com/scikit-learn/scikit-learn/issues/21755 */display: inline-block !important;position: relative;}#sk-container-id-8 div.sk-text-repr-fallback {display: none;}</style><div id=\"sk-container-id-8\" class=\"sk-top-container\"><div class=\"sk-text-repr-fallback\"><pre>XGBClassifier(alpha=10, base_score=0.5, booster=&#x27;gbtree&#x27;, callbacks=None,\n",
       "              colsample_bylevel=1, colsample_bynode=1, colsample_bytree=0.3,\n",
       "              early_stopping_rounds=None, enable_categorical=False,\n",
       "              eval_metric=None, feature_types=None, gamma=0, gpu_id=-1,\n",
       "              grow_policy=&#x27;depthwise&#x27;, importance_type=None,\n",
       "              interaction_constraints=&#x27;&#x27;, learning_rate=0.1, max_bin=256,\n",
       "              max_cat_threshold=64, max_cat_to_onehot=4, max_delta_step=0,\n",
       "              max_depth=6, max_leaves=0, min_child_weight=1, missing=nan,\n",
       "              monotone_constraints=&#x27;()&#x27;, n_estimators=120, n_jobs=0,\n",
       "              num_parallel_tree=1, predictor=&#x27;auto&#x27;, ...)</pre><b>In a Jupyter environment, please rerun this cell to show the HTML representation or trust the notebook. <br />On GitHub, the HTML representation is unable to render, please try loading this page with nbviewer.org.</b></div><div class=\"sk-container\" hidden><div class=\"sk-item\"><div class=\"sk-estimator sk-toggleable\"><input class=\"sk-toggleable__control sk-hidden--visually\" id=\"sk-estimator-id-12\" type=\"checkbox\" checked><label for=\"sk-estimator-id-12\" class=\"sk-toggleable__label sk-toggleable__label-arrow\">XGBClassifier</label><div class=\"sk-toggleable__content\"><pre>XGBClassifier(alpha=10, base_score=0.5, booster=&#x27;gbtree&#x27;, callbacks=None,\n",
       "              colsample_bylevel=1, colsample_bynode=1, colsample_bytree=0.3,\n",
       "              early_stopping_rounds=None, enable_categorical=False,\n",
       "              eval_metric=None, feature_types=None, gamma=0, gpu_id=-1,\n",
       "              grow_policy=&#x27;depthwise&#x27;, importance_type=None,\n",
       "              interaction_constraints=&#x27;&#x27;, learning_rate=0.1, max_bin=256,\n",
       "              max_cat_threshold=64, max_cat_to_onehot=4, max_delta_step=0,\n",
       "              max_depth=6, max_leaves=0, min_child_weight=1, missing=nan,\n",
       "              monotone_constraints=&#x27;()&#x27;, n_estimators=120, n_jobs=0,\n",
       "              num_parallel_tree=1, predictor=&#x27;auto&#x27;, ...)</pre></div></div></div></div></div>"
      ],
      "text/plain": [
       "XGBClassifier(alpha=10, base_score=0.5, booster='gbtree', callbacks=None,\n",
       "              colsample_bylevel=1, colsample_bynode=1, colsample_bytree=0.3,\n",
       "              early_stopping_rounds=None, enable_categorical=False,\n",
       "              eval_metric=None, feature_types=None, gamma=0, gpu_id=-1,\n",
       "              grow_policy='depthwise', importance_type=None,\n",
       "              interaction_constraints='', learning_rate=0.1, max_bin=256,\n",
       "              max_cat_threshold=64, max_cat_to_onehot=4, max_delta_step=0,\n",
       "              max_depth=6, max_leaves=0, min_child_weight=1, missing=nan,\n",
       "              monotone_constraints='()', n_estimators=120, n_jobs=0,\n",
       "              num_parallel_tree=1, predictor='auto', ...)"
      ]
     },
     "execution_count": 88,
     "metadata": {},
     "output_type": "execute_result"
    }
   ],
   "source": [
    "## XGBoost\n",
    "xgboost1 = xgb.XGBClassifier(base_score=0.5, booster='gbtree', random_state = 83, colsample_bytree = 0.3, learning_rate = 0.1, alpha = 10, n_estimators = 120)\n",
    "xgboost1.fit(pres_train_X,pres_train_y.values.ravel())"
   ]
  },
  {
   "cell_type": "markdown",
   "metadata": {
    "id": "x9NsDcisZKI3"
   },
   "source": [
    "## Some Inference Info (Coefficients)"
   ]
  },
  {
   "cell_type": "code",
   "execution_count": 90,
   "metadata": {
    "colab": {
     "base_uri": "https://localhost:8080/"
    },
    "executionInfo": {
     "elapsed": 7,
     "status": "ok",
     "timestamp": 1654534574330,
     "user": {
      "displayName": "Darian Shane Martos",
      "userId": "04419166853444755059"
     },
     "user_tz": 420
    },
    "id": "-kzSij_cZO1b",
    "outputId": "edc52d9b-a9ff-439a-ca90-7e4c120f3c1f"
   },
   "outputs": [
    {
     "name": "stdout",
     "output_type": "stream",
     "text": [
      "[[-0.62924399 -0.55215047 -0.51902698 -0.41083646 -0.33288247 -0.32598983\n",
      "  -0.29653656 -0.15251823 -0.1338335  -0.11631535  0.04102852  0.10162632\n",
      "   0.13348677  0.16002361  0.21672083  0.22755982  0.24411753  0.27098843\n",
      "   0.3312234   0.35850606  0.38032833  0.45160797  0.4768807   0.47796315\n",
      "   0.4882422   0.49489524  0.50550432  0.56191194  0.71938719  0.76554884\n",
      "   1.9082482 ]]\n",
      "[[ 9 24  1 11 21  6  8 15 17 10 23  0 22 29  2  3 18 12 19 20 27  4  5  7\n",
      "  16 25 26 14 13 28 30]]\n",
      "[[-0.01814146  0.          0.          0.          0.          0.\n",
      "   0.          0.          0.          0.          0.          0.\n",
      "   0.          0.          0.          0.          0.          0.\n",
      "   0.          0.          0.          0.          0.          0.\n",
      "   0.          0.          0.12727483  0.20210814  0.26590525  0.65020297\n",
      "   2.43745913]]\n",
      "[[ 9  0 27 26 25 24 23 22 21 20 19 18 17 16 29 15 12 11 10  8  6  4  3  2\n",
      "   1 14  7  5 13 28 30]]\n",
      "[[-0.40214395 -0.37667092 -0.28359664 -0.21455842 -0.15021314 -0.14979367\n",
      "  -0.14555217 -0.14137555 -0.06121984 -0.05367549 -0.04913076  0.02323214\n",
      "   0.02937913  0.04482123  0.11632253  0.12133454  0.15509345  0.16145154\n",
      "   0.18237386  0.20397333  0.22829967  0.2786556   0.29214121  0.33693464\n",
      "   0.33794148  0.34051282  0.3669824   0.40918722  0.41283773  0.57600893\n",
      "   1.23958201]]\n",
      "[[ 9 24  1 11 17  8  6 21 10 29 15 23  0 19 27 22  2 16  3 18 12 20 26 25\n",
      "   7 14  4  5 13 28 30]]\n"
     ]
    }
   ],
   "source": [
    "## Coefficients organized from least important to most important\n",
    "print(np.sort(lr.coef_))\n",
    "print(np.argsort(np.array(lr.coef_)))\n",
    "\n",
    "print(np.sort(lassor.coef_))\n",
    "print(np.argsort(np.array(lassor.coef_)))\n",
    "\n",
    "print(np.sort(ridger.coef_))\n",
    "print(np.argsort(np.array(ridger.coef_)))"
   ]
  },
  {
   "cell_type": "code",
   "execution_count": 91,
   "metadata": {
    "colab": {
     "base_uri": "https://localhost:8080/"
    },
    "executionInfo": {
     "elapsed": 5,
     "status": "ok",
     "timestamp": 1654534574330,
     "user": {
      "displayName": "Darian Shane Martos",
      "userId": "04419166853444755059"
     },
     "user_tz": 420
    },
    "id": "pXNQlrImcfJB",
    "outputId": "58fd25f6-9d13-4b31-f19c-6bf5931a25f1"
   },
   "outputs": [
    {
     "name": "stdout",
     "output_type": "stream",
     "text": [
      "|--- feature_30 <= 0.50\n",
      "|   |--- class: 0\n",
      "|--- feature_30 >  0.50\n",
      "|   |--- class: 1\n",
      "\n"
     ]
    }
   ],
   "source": [
    "## Get Tree Representation\n",
    "text_representation = tree.export_text(dtree)\n",
    "print(text_representation)"
   ]
  },
  {
   "cell_type": "code",
   "execution_count": 92,
   "metadata": {
    "colab": {
     "base_uri": "https://localhost:8080/"
    },
    "executionInfo": {
     "elapsed": 206,
     "status": "ok",
     "timestamp": 1654534574533,
     "user": {
      "displayName": "Darian Shane Martos",
      "userId": "04419166853444755059"
     },
     "user_tz": 420
    },
    "id": "hAECI_jCb2y5",
    "outputId": "5fdf4de0-bbd0-45b6-e73f-79e4085d41c0"
   },
   "outputs": [
    {
     "name": "stdout",
     "output_type": "stream",
     "text": [
      "[0. 0. 0. 0. 0. 0. 0. 0. 0. 0. 0. 0. 0. 0. 0. 0. 0. 0. 0. 0. 0. 0. 0. 0.\n",
      " 0. 0. 0. 0. 0. 0. 1.]\n",
      "[ 0 28 27 26 25 24 23 22 21 20 19 18 17 16 29 15 13 12 11 10  9  8  7  6\n",
      "  5  4  3  2  1 14 30]\n",
      "[0.         0.00136609 0.0027355  0.00519779 0.00554901 0.00579912\n",
      " 0.00656748 0.00728432 0.00760413 0.00809159 0.00954432 0.00963875\n",
      " 0.01029661 0.01032012 0.01124802 0.01372405 0.01460365 0.02029505\n",
      " 0.03013778 0.03021072 0.0319415  0.03309494 0.03346494 0.041301\n",
      " 0.04318408 0.04996164 0.05742606 0.06927306 0.08075092 0.14893616\n",
      " 0.20045158]\n",
      "[ 6 23 15 17 11 19  8  1 27 25 14 22 29  0 18 10 21 20  9 24  4  3 12 16\n",
      "  7  2  5 13 26 28 30]\n",
      "[0.         0.         0.         0.         0.         0.\n",
      " 0.         0.         0.         0.         0.         0.\n",
      " 0.         0.         0.         0.         0.         0.\n",
      " 0.         0.         0.         0.         0.         0.\n",
      " 0.         0.         0.06907645 0.08975542 0.12933445 0.27262205\n",
      " 0.43921164]\n",
      "[ 0 27 25 24 23 22 21 20 19 18 16 29 14 15 12  1  2  3  4  6  5  8  9 10\n",
      " 11  7 17 13 26 28 30]\n"
     ]
    }
   ],
   "source": [
    "## Feature Importances for Ensembles\n",
    "print(np.sort(dtree.feature_importances_))\n",
    "print(np.argsort(np.array(dtree.feature_importances_)))\n",
    "print(np.sort(forest.feature_importances_))\n",
    "print(np.argsort(np.array(forest.feature_importances_)))\n",
    "print(np.sort(xgboost1.feature_importances_))\n",
    "print(np.argsort(np.array(xgboost1.feature_importances_)))"
   ]
  },
  {
   "cell_type": "code",
   "execution_count": 93,
   "metadata": {
    "colab": {
     "base_uri": "https://localhost:8080/"
    },
    "executionInfo": {
     "elapsed": 167,
     "status": "ok",
     "timestamp": 1654535248407,
     "user": {
      "displayName": "Darian Shane Martos",
      "userId": "04419166853444755059"
     },
     "user_tz": 420
    },
    "id": "zc0wo1pF3Q2O",
    "outputId": "4baa771c-0465-4aa1-c520-aba3c59614d4"
   },
   "outputs": [
    {
     "name": "stdout",
     "output_type": "stream",
     "text": [
      "party-pvi\n",
      "polling-party-lead-16\n",
      "sen2-3rdrecent\n",
      "pres2012\n",
      "median-hh-income\n",
      "pres2000\n",
      "grad-professional\n"
     ]
    }
   ],
   "source": [
    "print(pres_train_X.columns[30])\n",
    "print(pres_train_X.columns[28])\n",
    "print(pres_train_X.columns[7])\n",
    "print(pres_train_X.columns[5])\n",
    "\n",
    "print(pres_train_X.columns[26])\n",
    "print(pres_train_X.columns[2])\n",
    "print(pres_train_X.columns[13])"
   ]
  },
  {
   "cell_type": "markdown",
   "metadata": {
    "id": "O8Ivamga1Wq6"
   },
   "source": [
    "## Creating a Test Set\n",
    "\n",
    "Test set here is similar features to the training data, however we make the following changes:\n",
    "\n",
    "*   Obviously remove any 2016 related info, so we remove 2010 population counts and the 2016 presidential polling averages.\n",
    "*   From the training data, we fit the model with using 2000 presidential election results, but instead we will use \n",
    "\n"
   ]
  },
  {
   "cell_type": "code",
   "execution_count": 94,
   "metadata": {
    "executionInfo": {
     "elapsed": 8,
     "status": "ok",
     "timestamp": 1654534574533,
     "user": {
      "displayName": "Darian Shane Martos",
      "userId": "04419166853444755059"
     },
     "user_tz": 420
    },
    "id": "5Xpx1ILv1WdN"
   },
   "outputs": [],
   "source": [
    "noninc_cols_test = ['State','2010 Population','recent-five-polling-avg-16','polling-party-lead-16','pres2000','pres2020']\n",
    "pres_test_X = pres_data.drop(noninc_cols_test, axis=1)\n",
    "pres_test_y = pres_data[['pres2020']]\n",
    "\n",
    "## Move 2016 results to position where 2012 results\n",
    "## Here we use 2004, 2008, 2012, 2016 results as predictors towards 2020 results\n",
    "## Since 2000 was removed we have to rearrange columns here\n",
    "col_move = pres_test_X.pop(\"pres2016\")\n",
    "pres_test_X.insert(2, \"pres2016\", col_move)\n",
    "\n",
    "## Rename columns just so the models can run\n",
    "## A little bit hacky but we turn the 2000 results into 2016 results\n",
    "dict = {'2020 Population': '2010 Population',\n",
    "        'polling-party-lead-20': 'polling-party-lead-16',\n",
    "        'pres2016': 'pres2000',\n",
    "        'recent-five-polling-avg-20': 'recent-five-polling-avg-16',}\n",
    " \n",
    "# call rename () method\n",
    "pres_test_X.rename(columns=dict,inplace=True)\n",
    "\n",
    "pres_test_X.to_csv(cwd + \"\\\\pres_test_X.csv\")\n",
    "pres_test_y.to_csv(cwd + \"\\\\pres_test_y.csv\")"
   ]
  },
  {
   "cell_type": "code",
   "execution_count": 95,
   "metadata": {
    "colab": {
     "base_uri": "https://localhost:8080/",
     "height": 352
    },
    "executionInfo": {
     "elapsed": 8,
     "status": "ok",
     "timestamp": 1654534574534,
     "user": {
      "displayName": "Darian Shane Martos",
      "userId": "04419166853444755059"
     },
     "user_tz": 420
    },
    "id": "R-SV3MMLNXsT",
    "outputId": "e1bfd8f5-4245-4d68-dcd9-296ee7ad16f3"
   },
   "outputs": [
    {
     "data": {
      "text/html": [
       "<div>\n",
       "<style scoped>\n",
       "    .dataframe tbody tr th:only-of-type {\n",
       "        vertical-align: middle;\n",
       "    }\n",
       "\n",
       "    .dataframe tbody tr th {\n",
       "        vertical-align: top;\n",
       "    }\n",
       "\n",
       "    .dataframe thead th {\n",
       "        text-align: right;\n",
       "    }\n",
       "</style>\n",
       "<table border=\"1\" class=\"dataframe\">\n",
       "  <thead>\n",
       "    <tr style=\"text-align: right;\">\n",
       "      <th></th>\n",
       "      <th>Region</th>\n",
       "      <th>2010 Population</th>\n",
       "      <th>pres2000</th>\n",
       "      <th>pres2004</th>\n",
       "      <th>pres2008</th>\n",
       "      <th>pres2012</th>\n",
       "      <th>sen1-3rdrecent</th>\n",
       "      <th>sen2-3rdrecent</th>\n",
       "      <th>gdp</th>\n",
       "      <th>high-school-pop</th>\n",
       "      <th>...</th>\n",
       "      <th>white</th>\n",
       "      <th>inc-party</th>\n",
       "      <th>inc-w-recent</th>\n",
       "      <th>rep-finance</th>\n",
       "      <th>dem-finance</th>\n",
       "      <th>median-hh-income</th>\n",
       "      <th>recent-five-polling-avg-16</th>\n",
       "      <th>polling-party-lead-16</th>\n",
       "      <th>pvi</th>\n",
       "      <th>party-pvi</th>\n",
       "    </tr>\n",
       "  </thead>\n",
       "  <tbody>\n",
       "    <tr>\n",
       "      <th>0</th>\n",
       "      <td>2</td>\n",
       "      <td>5024279</td>\n",
       "      <td>0</td>\n",
       "      <td>0</td>\n",
       "      <td>0</td>\n",
       "      <td>0</td>\n",
       "      <td>0</td>\n",
       "      <td>0</td>\n",
       "      <td>226896.5</td>\n",
       "      <td>30.3</td>\n",
       "      <td>...</td>\n",
       "      <td>0.640074</td>\n",
       "      <td>1</td>\n",
       "      <td>1</td>\n",
       "      <td>6829526.55</td>\n",
       "      <td>37491.77</td>\n",
       "      <td>52035</td>\n",
       "      <td>19.5</td>\n",
       "      <td>0</td>\n",
       "      <td>15</td>\n",
       "      <td>0</td>\n",
       "    </tr>\n",
       "    <tr>\n",
       "      <th>1</th>\n",
       "      <td>3</td>\n",
       "      <td>733391</td>\n",
       "      <td>0</td>\n",
       "      <td>0</td>\n",
       "      <td>0</td>\n",
       "      <td>0</td>\n",
       "      <td>1</td>\n",
       "      <td>0</td>\n",
       "      <td>49820.0</td>\n",
       "      <td>28.4</td>\n",
       "      <td>...</td>\n",
       "      <td>0.627645</td>\n",
       "      <td>0</td>\n",
       "      <td>1</td>\n",
       "      <td>7527972.46</td>\n",
       "      <td>3566.69</td>\n",
       "      <td>77790</td>\n",
       "      <td>7.7</td>\n",
       "      <td>0</td>\n",
       "      <td>9</td>\n",
       "      <td>0</td>\n",
       "    </tr>\n",
       "    <tr>\n",
       "      <th>2</th>\n",
       "      <td>3</td>\n",
       "      <td>7151502</td>\n",
       "      <td>0</td>\n",
       "      <td>0</td>\n",
       "      <td>0</td>\n",
       "      <td>0</td>\n",
       "      <td>0</td>\n",
       "      <td>0</td>\n",
       "      <td>373719.0</td>\n",
       "      <td>23.8</td>\n",
       "      <td>...</td>\n",
       "      <td>0.517834</td>\n",
       "      <td>0</td>\n",
       "      <td>0</td>\n",
       "      <td>13839094.88</td>\n",
       "      <td>38865284.52</td>\n",
       "      <td>61529</td>\n",
       "      <td>2.6</td>\n",
       "      <td>1</td>\n",
       "      <td>3</td>\n",
       "      <td>0</td>\n",
       "    </tr>\n",
       "    <tr>\n",
       "      <th>3</th>\n",
       "      <td>2</td>\n",
       "      <td>3011524</td>\n",
       "      <td>0</td>\n",
       "      <td>0</td>\n",
       "      <td>0</td>\n",
       "      <td>0</td>\n",
       "      <td>1</td>\n",
       "      <td>1</td>\n",
       "      <td>130750.7</td>\n",
       "      <td>33.9</td>\n",
       "      <td>...</td>\n",
       "      <td>0.692194</td>\n",
       "      <td>1</td>\n",
       "      <td>1</td>\n",
       "      <td>5973540.80</td>\n",
       "      <td>26852.08</td>\n",
       "      <td>49475</td>\n",
       "      <td>22.8</td>\n",
       "      <td>0</td>\n",
       "      <td>16</td>\n",
       "      <td>0</td>\n",
       "    </tr>\n",
       "    <tr>\n",
       "      <th>4</th>\n",
       "      <td>3</td>\n",
       "      <td>39538223</td>\n",
       "      <td>1</td>\n",
       "      <td>1</td>\n",
       "      <td>1</td>\n",
       "      <td>1</td>\n",
       "      <td>1</td>\n",
       "      <td>1</td>\n",
       "      <td>3007187.7</td>\n",
       "      <td>20.4</td>\n",
       "      <td>...</td>\n",
       "      <td>0.330164</td>\n",
       "      <td>1</td>\n",
       "      <td>1</td>\n",
       "      <td>135852.28</td>\n",
       "      <td>9467165.58</td>\n",
       "      <td>78672</td>\n",
       "      <td>29.2</td>\n",
       "      <td>1</td>\n",
       "      <td>14</td>\n",
       "      <td>1</td>\n",
       "    </tr>\n",
       "  </tbody>\n",
       "</table>\n",
       "<p>5 rows × 31 columns</p>\n",
       "</div>"
      ],
      "text/plain": [
       "   Region  2010 Population  pres2000  pres2004  pres2008  pres2012  \\\n",
       "0       2          5024279         0         0         0         0   \n",
       "1       3           733391         0         0         0         0   \n",
       "2       3          7151502         0         0         0         0   \n",
       "3       2          3011524         0         0         0         0   \n",
       "4       3         39538223         1         1         1         1   \n",
       "\n",
       "   sen1-3rdrecent  sen2-3rdrecent        gdp  high-school-pop  ...     white  \\\n",
       "0               0               0   226896.5             30.3  ...  0.640074   \n",
       "1               1               0    49820.0             28.4  ...  0.627645   \n",
       "2               0               0   373719.0             23.8  ...  0.517834   \n",
       "3               1               1   130750.7             33.9  ...  0.692194   \n",
       "4               1               1  3007187.7             20.4  ...  0.330164   \n",
       "\n",
       "   inc-party  inc-w-recent  rep-finance  dem-finance  median-hh-income  \\\n",
       "0          1             1   6829526.55     37491.77             52035   \n",
       "1          0             1   7527972.46      3566.69             77790   \n",
       "2          0             0  13839094.88  38865284.52             61529   \n",
       "3          1             1   5973540.80     26852.08             49475   \n",
       "4          1             1    135852.28   9467165.58             78672   \n",
       "\n",
       "   recent-five-polling-avg-16  polling-party-lead-16  pvi  party-pvi  \n",
       "0                        19.5                      0   15          0  \n",
       "1                         7.7                      0    9          0  \n",
       "2                         2.6                      1    3          0  \n",
       "3                        22.8                      0   16          0  \n",
       "4                        29.2                      1   14          1  \n",
       "\n",
       "[5 rows x 31 columns]"
      ]
     },
     "execution_count": 95,
     "metadata": {},
     "output_type": "execute_result"
    }
   ],
   "source": [
    "pres_test_X.head() ## We see the data matches the format as our train set :)"
   ]
  },
  {
   "cell_type": "code",
   "execution_count": 96,
   "metadata": {
    "colab": {
     "base_uri": "https://localhost:8080/",
     "height": 206
    },
    "executionInfo": {
     "elapsed": 7,
     "status": "ok",
     "timestamp": 1654534574534,
     "user": {
      "displayName": "Darian Shane Martos",
      "userId": "04419166853444755059"
     },
     "user_tz": 420
    },
    "id": "UM5paPnp5LYc",
    "outputId": "3b39683d-3548-4ee2-9fa7-06c9dbab385b"
   },
   "outputs": [
    {
     "ename": "SyntaxError",
     "evalue": "invalid non-printable character U+3000 (226488710.py, line 1)",
     "output_type": "error",
     "traceback": [
      "\u001b[1;36m  Cell \u001b[1;32mIn [96], line 1\u001b[1;36m\u001b[0m\n\u001b[1;33m    pres_test_y.head()\u001b[0m\n\u001b[1;37m                      ^\u001b[0m\n\u001b[1;31mSyntaxError\u001b[0m\u001b[1;31m:\u001b[0m invalid non-printable character U+3000\n"
     ]
    }
   ],
   "source": [
    "pres_test_y.head()　"
   ]
  },
  {
   "cell_type": "code",
   "execution_count": 97,
   "metadata": {
    "executionInfo": {
     "elapsed": 201,
     "status": "ok",
     "timestamp": 1654534574728,
     "user": {
      "displayName": "Darian Shane Martos",
      "userId": "04419166853444755059"
     },
     "user_tz": 420
    },
    "id": "AG-Vh9OL5rCM"
   },
   "outputs": [],
   "source": [
    "## Form predictions over all models\n",
    "logpreds = lrmodel.predict(pres_test_X)\n",
    "lassopreds = lassomodel.predict(pres_test_X)\n",
    "ridgepreds = ridgemodel.predict(pres_test_X)\n",
    "treepreds = dtree.predict(pres_test_X)\n",
    "rfpreds = forest.predict(pres_test_X)\n",
    "xgbpreds = xgboost1.predict(pres_test_X)"
   ]
  },
  {
   "cell_type": "code",
   "execution_count": 98,
   "metadata": {
    "colab": {
     "base_uri": "https://localhost:8080/"
    },
    "executionInfo": {
     "elapsed": 14,
     "status": "ok",
     "timestamp": 1654534574729,
     "user": {
      "displayName": "Darian Shane Martos",
      "userId": "04419166853444755059"
     },
     "user_tz": 420
    },
    "id": "p0J591SN6TFF",
    "outputId": "8c8c7895-1145-4146-9cc0-425a166ac5d6"
   },
   "outputs": [
    {
     "name": "stdout",
     "output_type": "stream",
     "text": [
      "[0 0 0 0 1 1 1 1 0 0 1 0 1 0 0 0 0 0 1 1 1 0 1 0 0 0 0 1 1 1 1 1 0 0 0 0 1\n",
      " 0 1 0 0 0 0 0 1 1 1 0 0 0]\n",
      "[0 0 0 0 1 1 1 1 0 0 1 0 1 0 0 0 0 0 1 1 1 0 1 0 0 0 0 1 1 1 1 1 0 0 0 0 1\n",
      " 0 1 0 0 0 0 0 1 1 1 0 0 0]\n",
      "[0 0 0 0 1 1 1 1 0 0 1 0 1 0 0 0 0 0 1 1 1 0 1 0 0 0 0 1 1 1 1 1 0 0 0 0 1\n",
      " 0 1 0 0 0 0 0 1 1 1 0 0 0]\n",
      "[0 0 0 0 1 1 1 1 0 0 1 0 1 0 0 0 0 0 1 1 1 0 1 0 0 0 0 1 1 1 1 1 0 0 0 0 1\n",
      " 0 1 0 0 0 0 0 1 1 1 0 0 0]\n",
      "[0 0 0 0 1 1 1 1 0 0 1 0 1 0 0 0 0 0 1 1 1 0 1 0 0 0 0 1 1 1 1 1 0 0 0 0 1\n",
      " 0 1 0 0 0 0 0 1 1 1 0 0 0]\n",
      "[0 0 0 0 1 1 1 1 0 0 0 0 1 0 0 0 0 0 1 1 1 0 1 0 0 0 0 0 1 1 1 1 0 0 0 0 1\n",
      " 0 1 0 0 0 0 0 1 1 1 0 0 0]\n"
     ]
    }
   ],
   "source": [
    "## Notably, all the classification results are the same\n",
    "print(logpreds)\n",
    "print(lassopreds)\n",
    "print(ridgepreds)\n",
    "print(treepreds)\n",
    "print(rfpreds)\n",
    "print(xgbpreds)"
   ]
  },
  {
   "cell_type": "code",
   "execution_count": 99,
   "metadata": {
    "colab": {
     "base_uri": "https://localhost:8080/"
    },
    "executionInfo": {
     "elapsed": 9,
     "status": "ok",
     "timestamp": 1654534574729,
     "user": {
      "displayName": "Darian Shane Martos",
      "userId": "04419166853444755059"
     },
     "user_tz": 420
    },
    "id": "NJhP7U6J76EB",
    "outputId": "6b6580b3-c9cb-4987-92f2-6d5d5c296af4"
   },
   "outputs": [
    {
     "name": "stdout",
     "output_type": "stream",
     "text": [
      "[ True  True False  True  True  True  True  True  True False False  True\n",
      "  True  True  True  True  True  True  True  True  True False  True  True\n",
      "  True  True  True False  True  True  True  True  True  True  True  True\n",
      "  True False  True  True  True  True  True  True  True  True  True  True\n",
      " False  True]\n",
      "(array([ 2,  9, 10, 21, 27, 37, 48], dtype=int64),)\n"
     ]
    }
   ],
   "source": [
    "preds = np.array(xgbpreds)\n",
    "true = np.array(pres_test_y.values.ravel())\n",
    "print(np.equal(preds,true))\n",
    "print(np.where(np.not_equal(preds,true)))"
   ]
  },
  {
   "cell_type": "markdown",
   "metadata": {
    "id": "KKBTDofX_7GE"
   },
   "source": [
    "From the above difference checking between predictions and true values, we see that indices 2,9,21,37,48 in our states data were misclassified. These correspond in the data to the following states: Arizona, Georgia, Michigan, Pennsylvania, and Wisconsin. These were all flips between the 2016 and 2020 election."
   ]
  },
  {
   "cell_type": "markdown",
   "metadata": {
    "id": "w8tRTcWkBrH_"
   },
   "source": [
    "## Senate Predictions\n",
    "\n",
    "Here we form predictions for the US senate for the upcoming 2022 Midterm Elections.\n",
    "\n",
    "As a note, the preprocessing here for the senate data is altered. We have a set of 13 \"competitive\" states that are considered competitive based off [2022 US Senate Election Ratings](https://en.wikipedia.org/wiki/2022_United_States_Senate_elections#Predictions). These will form our test set,and the training set will be over other states where (1) they have no Senate competition in 2022 so we use their most recent party outcome for the most recent Senate election in 2020 or (2) forecasting and demographic/polling factors strongly indicate a party direction for the Senate results, to the point where no forecasting is necessary and polling is usually sparse. The paper addresses this in more depth as a potential challenge."
   ]
  },
  {
   "cell_type": "code",
   "execution_count": 100,
   "metadata": {
    "colab": {
     "base_uri": "https://localhost:8080/"
    },
    "executionInfo": {
     "elapsed": 7,
     "status": "ok",
     "timestamp": 1654534574729,
     "user": {
      "displayName": "Darian Shane Martos",
      "userId": "04419166853444755059"
     },
     "user_tz": 420
    },
    "id": "LWeRg5Uu8Zt2",
    "outputId": "6010d8b0-1fc5-4da7-ee3a-19ac5827fe80"
   },
   "outputs": [
    {
     "name": "stdout",
     "output_type": "stream",
     "text": [
      "[0, 3, 4, 6, 7, 10, 11, 12, 13, 14, 15, 16, 17, 18, 19, 20, 21, 22, 23, 25, 26, 29, 30, 31, 33, 35, 36, 38, 39, 40, 41, 42, 43, 44, 45, 47, 49]\n",
      "[1, 2, 5, 8, 9, 24, 27, 28, 32, 34, 37, 46, 48]\n"
     ]
    }
   ],
   "source": [
    "null_results = pd.isnull(sen_data[\"recent-res\"])\n",
    "competitive_states = [i for i, n in enumerate(null_results) if n == True] \n",
    "other_states = list(set(list(range(50))) - set(competitive_states))\n",
    "print(other_states)\n",
    "print(competitive_states)\n",
    "\n",
    "sen_data = sen_data.drop([\"State\"], axis = 1)\n",
    "sen_train_X = sen_data.iloc[other_states]\n",
    "sen_train_X = sen_train_X.drop([\"recent-res\"], axis = 1)\n",
    "sen_train_y = sen_data[~sen_data['recent-res'].isnull()]['recent-res']\n",
    "sen_test_X = sen_data.iloc[competitive_states]\n",
    "sen_test_X = sen_test_X.drop([\"recent-res\"], axis = 1)\n",
    "\n",
    "## Write CSVs, this is for inference analysis in R for logistic models\n",
    "sen_train_X.to_csv(cwd + \"\\\\sen_train_X.csv\")\n",
    "sen_train_y.to_csv(cwd + \"\\\\sen_train_y.csv\")\n",
    "sen_test_X.to_csv(cwd + \"\\\\sen_test_X.csv\")"
   ]
  },
  {
   "cell_type": "code",
   "execution_count": 101,
   "metadata": {
    "colab": {
     "base_uri": "https://localhost:8080/",
     "height": 352
    },
    "executionInfo": {
     "elapsed": 6,
     "status": "ok",
     "timestamp": 1654534574729,
     "user": {
      "displayName": "Darian Shane Martos",
      "userId": "04419166853444755059"
     },
     "user_tz": 420
    },
    "id": "oKGt6h5UD3IO",
    "outputId": "ce7708cb-33f7-4748-c384-9a43569ce78a"
   },
   "outputs": [
    {
     "data": {
      "text/html": [
       "<div>\n",
       "<style scoped>\n",
       "    .dataframe tbody tr th:only-of-type {\n",
       "        vertical-align: middle;\n",
       "    }\n",
       "\n",
       "    .dataframe tbody tr th {\n",
       "        vertical-align: top;\n",
       "    }\n",
       "\n",
       "    .dataframe thead th {\n",
       "        text-align: right;\n",
       "    }\n",
       "</style>\n",
       "<table border=\"1\" class=\"dataframe\">\n",
       "  <thead>\n",
       "    <tr style=\"text-align: right;\">\n",
       "      <th></th>\n",
       "      <th>Region</th>\n",
       "      <th>2020 Population</th>\n",
       "      <th>pres2000</th>\n",
       "      <th>pres2004</th>\n",
       "      <th>pres2008</th>\n",
       "      <th>pres2012</th>\n",
       "      <th>pres2016</th>\n",
       "      <th>pres2020</th>\n",
       "      <th>sen1-recent</th>\n",
       "      <th>sen2-recent</th>\n",
       "      <th>...</th>\n",
       "      <th>inc-w-recent</th>\n",
       "      <th>rep-finance</th>\n",
       "      <th>dem-finance</th>\n",
       "      <th>median-hh-income</th>\n",
       "      <th>recent-five-polling-avg</th>\n",
       "      <th>polling-party-lead</th>\n",
       "      <th>pvi</th>\n",
       "      <th>party-pvi</th>\n",
       "      <th>employment-rate</th>\n",
       "      <th>urban-pct-2010</th>\n",
       "    </tr>\n",
       "  </thead>\n",
       "  <tbody>\n",
       "    <tr>\n",
       "      <th>0</th>\n",
       "      <td>2</td>\n",
       "      <td>5024279</td>\n",
       "      <td>0</td>\n",
       "      <td>0</td>\n",
       "      <td>0</td>\n",
       "      <td>0</td>\n",
       "      <td>0</td>\n",
       "      <td>0</td>\n",
       "      <td>0</td>\n",
       "      <td>0</td>\n",
       "      <td>...</td>\n",
       "      <td>1</td>\n",
       "      <td>6829526.55</td>\n",
       "      <td>37491.77</td>\n",
       "      <td>52035</td>\n",
       "      <td>20.4</td>\n",
       "      <td>0</td>\n",
       "      <td>15</td>\n",
       "      <td>0</td>\n",
       "      <td>54.0</td>\n",
       "      <td>59.04</td>\n",
       "    </tr>\n",
       "    <tr>\n",
       "      <th>3</th>\n",
       "      <td>2</td>\n",
       "      <td>3011524</td>\n",
       "      <td>0</td>\n",
       "      <td>0</td>\n",
       "      <td>0</td>\n",
       "      <td>0</td>\n",
       "      <td>0</td>\n",
       "      <td>0</td>\n",
       "      <td>0</td>\n",
       "      <td>0</td>\n",
       "      <td>...</td>\n",
       "      <td>1</td>\n",
       "      <td>5973540.80</td>\n",
       "      <td>26852.08</td>\n",
       "      <td>49475</td>\n",
       "      <td>45.0</td>\n",
       "      <td>0</td>\n",
       "      <td>16</td>\n",
       "      <td>0</td>\n",
       "      <td>54.8</td>\n",
       "      <td>56.16</td>\n",
       "    </tr>\n",
       "    <tr>\n",
       "      <th>4</th>\n",
       "      <td>3</td>\n",
       "      <td>39538223</td>\n",
       "      <td>1</td>\n",
       "      <td>1</td>\n",
       "      <td>1</td>\n",
       "      <td>1</td>\n",
       "      <td>1</td>\n",
       "      <td>1</td>\n",
       "      <td>1</td>\n",
       "      <td>1</td>\n",
       "      <td>...</td>\n",
       "      <td>1</td>\n",
       "      <td>135852.28</td>\n",
       "      <td>9467165.58</td>\n",
       "      <td>78672</td>\n",
       "      <td>25.0</td>\n",
       "      <td>1</td>\n",
       "      <td>14</td>\n",
       "      <td>1</td>\n",
       "      <td>59.4</td>\n",
       "      <td>94.95</td>\n",
       "    </tr>\n",
       "    <tr>\n",
       "      <th>6</th>\n",
       "      <td>0</td>\n",
       "      <td>3605944</td>\n",
       "      <td>1</td>\n",
       "      <td>1</td>\n",
       "      <td>1</td>\n",
       "      <td>1</td>\n",
       "      <td>1</td>\n",
       "      <td>1</td>\n",
       "      <td>1</td>\n",
       "      <td>1</td>\n",
       "      <td>...</td>\n",
       "      <td>1</td>\n",
       "      <td>1088131.76</td>\n",
       "      <td>7442253.87</td>\n",
       "      <td>79855</td>\n",
       "      <td>19.6</td>\n",
       "      <td>1</td>\n",
       "      <td>7</td>\n",
       "      <td>1</td>\n",
       "      <td>61.7</td>\n",
       "      <td>87.99</td>\n",
       "    </tr>\n",
       "    <tr>\n",
       "      <th>7</th>\n",
       "      <td>2</td>\n",
       "      <td>989948</td>\n",
       "      <td>1</td>\n",
       "      <td>1</td>\n",
       "      <td>1</td>\n",
       "      <td>1</td>\n",
       "      <td>1</td>\n",
       "      <td>1</td>\n",
       "      <td>1</td>\n",
       "      <td>1</td>\n",
       "      <td>...</td>\n",
       "      <td>1</td>\n",
       "      <td>479515.11</td>\n",
       "      <td>7217773.49</td>\n",
       "      <td>69110</td>\n",
       "      <td>30.0</td>\n",
       "      <td>1</td>\n",
       "      <td>6</td>\n",
       "      <td>1</td>\n",
       "      <td>58.0</td>\n",
       "      <td>83.30</td>\n",
       "    </tr>\n",
       "  </tbody>\n",
       "</table>\n",
       "<p>5 rows × 39 columns</p>\n",
       "</div>"
      ],
      "text/plain": [
       "   Region  2020 Population  pres2000  pres2004  pres2008  pres2012  pres2016  \\\n",
       "0       2          5024279         0         0         0         0         0   \n",
       "3       2          3011524         0         0         0         0         0   \n",
       "4       3         39538223         1         1         1         1         1   \n",
       "6       0          3605944         1         1         1         1         1   \n",
       "7       2           989948         1         1         1         1         1   \n",
       "\n",
       "   pres2020  sen1-recent  sen2-recent  ...  inc-w-recent  rep-finance  \\\n",
       "0         0            0            0  ...             1   6829526.55   \n",
       "3         0            0            0  ...             1   5973540.80   \n",
       "4         1            1            1  ...             1    135852.28   \n",
       "6         1            1            1  ...             1   1088131.76   \n",
       "7         1            1            1  ...             1    479515.11   \n",
       "\n",
       "   dem-finance  median-hh-income  recent-five-polling-avg  polling-party-lead  \\\n",
       "0     37491.77             52035                     20.4                   0   \n",
       "3     26852.08             49475                     45.0                   0   \n",
       "4   9467165.58             78672                     25.0                   1   \n",
       "6   7442253.87             79855                     19.6                   1   \n",
       "7   7217773.49             69110                     30.0                   1   \n",
       "\n",
       "   pvi  party-pvi  employment-rate  urban-pct-2010  \n",
       "0   15          0             54.0           59.04  \n",
       "3   16          0             54.8           56.16  \n",
       "4   14          1             59.4           94.95  \n",
       "6    7          1             61.7           87.99  \n",
       "7    6          1             58.0           83.30  \n",
       "\n",
       "[5 rows x 39 columns]"
      ]
     },
     "execution_count": 101,
     "metadata": {},
     "output_type": "execute_result"
    }
   ],
   "source": [
    "sen_train_X.head()"
   ]
  },
  {
   "cell_type": "code",
   "execution_count": 102,
   "metadata": {
    "colab": {
     "base_uri": "https://localhost:8080/"
    },
    "executionInfo": {
     "elapsed": 221,
     "status": "ok",
     "timestamp": 1654534574945,
     "user": {
      "displayName": "Darian Shane Martos",
      "userId": "04419166853444755059"
     },
     "user_tz": 420
    },
    "id": "qHnbx6ejFTVu",
    "outputId": "58f9bd14-3e10-4712-9231-d326699d190c"
   },
   "outputs": [
    {
     "data": {
      "text/plain": [
       "0    0.0\n",
       "3    0.0\n",
       "4    1.0\n",
       "6    1.0\n",
       "7    1.0\n",
       "Name: recent-res, dtype: float64"
      ]
     },
     "execution_count": 102,
     "metadata": {},
     "output_type": "execute_result"
    }
   ],
   "source": [
    "sen_train_y.head()"
   ]
  },
  {
   "cell_type": "code",
   "execution_count": 103,
   "metadata": {
    "colab": {
     "base_uri": "https://localhost:8080/",
     "height": 352
    },
    "executionInfo": {
     "elapsed": 6,
     "status": "ok",
     "timestamp": 1654534574945,
     "user": {
      "displayName": "Darian Shane Martos",
      "userId": "04419166853444755059"
     },
     "user_tz": 420
    },
    "id": "CRmfkCB0FTjc",
    "outputId": "e75569c8-cd21-4c01-8242-971a2582f7f0"
   },
   "outputs": [
    {
     "data": {
      "text/html": [
       "<div>\n",
       "<style scoped>\n",
       "    .dataframe tbody tr th:only-of-type {\n",
       "        vertical-align: middle;\n",
       "    }\n",
       "\n",
       "    .dataframe tbody tr th {\n",
       "        vertical-align: top;\n",
       "    }\n",
       "\n",
       "    .dataframe thead th {\n",
       "        text-align: right;\n",
       "    }\n",
       "</style>\n",
       "<table border=\"1\" class=\"dataframe\">\n",
       "  <thead>\n",
       "    <tr style=\"text-align: right;\">\n",
       "      <th></th>\n",
       "      <th>Region</th>\n",
       "      <th>2020 Population</th>\n",
       "      <th>pres2000</th>\n",
       "      <th>pres2004</th>\n",
       "      <th>pres2008</th>\n",
       "      <th>pres2012</th>\n",
       "      <th>pres2016</th>\n",
       "      <th>pres2020</th>\n",
       "      <th>sen1-recent</th>\n",
       "      <th>sen2-recent</th>\n",
       "      <th>...</th>\n",
       "      <th>inc-w-recent</th>\n",
       "      <th>rep-finance</th>\n",
       "      <th>dem-finance</th>\n",
       "      <th>median-hh-income</th>\n",
       "      <th>recent-five-polling-avg</th>\n",
       "      <th>polling-party-lead</th>\n",
       "      <th>pvi</th>\n",
       "      <th>party-pvi</th>\n",
       "      <th>employment-rate</th>\n",
       "      <th>urban-pct-2010</th>\n",
       "    </tr>\n",
       "  </thead>\n",
       "  <tbody>\n",
       "    <tr>\n",
       "      <th>1</th>\n",
       "      <td>3</td>\n",
       "      <td>733391</td>\n",
       "      <td>0</td>\n",
       "      <td>0</td>\n",
       "      <td>0</td>\n",
       "      <td>0</td>\n",
       "      <td>0</td>\n",
       "      <td>0</td>\n",
       "      <td>0</td>\n",
       "      <td>0</td>\n",
       "      <td>...</td>\n",
       "      <td>1</td>\n",
       "      <td>7527972.46</td>\n",
       "      <td>3566.69</td>\n",
       "      <td>77790</td>\n",
       "      <td>6.5</td>\n",
       "      <td>0</td>\n",
       "      <td>9</td>\n",
       "      <td>0</td>\n",
       "      <td>59.6</td>\n",
       "      <td>66.02</td>\n",
       "    </tr>\n",
       "    <tr>\n",
       "      <th>2</th>\n",
       "      <td>3</td>\n",
       "      <td>7151502</td>\n",
       "      <td>0</td>\n",
       "      <td>0</td>\n",
       "      <td>0</td>\n",
       "      <td>0</td>\n",
       "      <td>0</td>\n",
       "      <td>1</td>\n",
       "      <td>1</td>\n",
       "      <td>1</td>\n",
       "      <td>...</td>\n",
       "      <td>0</td>\n",
       "      <td>13839094.88</td>\n",
       "      <td>38865284.52</td>\n",
       "      <td>61529</td>\n",
       "      <td>7.0</td>\n",
       "      <td>1</td>\n",
       "      <td>3</td>\n",
       "      <td>0</td>\n",
       "      <td>56.2</td>\n",
       "      <td>89.81</td>\n",
       "    </tr>\n",
       "    <tr>\n",
       "      <th>5</th>\n",
       "      <td>3</td>\n",
       "      <td>5773714</td>\n",
       "      <td>0</td>\n",
       "      <td>0</td>\n",
       "      <td>1</td>\n",
       "      <td>1</td>\n",
       "      <td>1</td>\n",
       "      <td>1</td>\n",
       "      <td>1</td>\n",
       "      <td>1</td>\n",
       "      <td>...</td>\n",
       "      <td>0</td>\n",
       "      <td>0.00</td>\n",
       "      <td>11162092.65</td>\n",
       "      <td>75231</td>\n",
       "      <td>8.5</td>\n",
       "      <td>1</td>\n",
       "      <td>3</td>\n",
       "      <td>1</td>\n",
       "      <td>64.3</td>\n",
       "      <td>86.15</td>\n",
       "    </tr>\n",
       "    <tr>\n",
       "      <th>8</th>\n",
       "      <td>2</td>\n",
       "      <td>21538187</td>\n",
       "      <td>0</td>\n",
       "      <td>0</td>\n",
       "      <td>1</td>\n",
       "      <td>1</td>\n",
       "      <td>0</td>\n",
       "      <td>0</td>\n",
       "      <td>0</td>\n",
       "      <td>0</td>\n",
       "      <td>...</td>\n",
       "      <td>0</td>\n",
       "      <td>30159319.08</td>\n",
       "      <td>30773246.01</td>\n",
       "      <td>57703</td>\n",
       "      <td>9.0</td>\n",
       "      <td>0</td>\n",
       "      <td>3</td>\n",
       "      <td>0</td>\n",
       "      <td>55.4</td>\n",
       "      <td>91.16</td>\n",
       "    </tr>\n",
       "    <tr>\n",
       "      <th>9</th>\n",
       "      <td>2</td>\n",
       "      <td>10711908</td>\n",
       "      <td>0</td>\n",
       "      <td>0</td>\n",
       "      <td>0</td>\n",
       "      <td>0</td>\n",
       "      <td>0</td>\n",
       "      <td>1</td>\n",
       "      <td>1</td>\n",
       "      <td>1</td>\n",
       "      <td>...</td>\n",
       "      <td>0</td>\n",
       "      <td>16470998.24</td>\n",
       "      <td>73223096.79</td>\n",
       "      <td>61224</td>\n",
       "      <td>0.5</td>\n",
       "      <td>0</td>\n",
       "      <td>3</td>\n",
       "      <td>0</td>\n",
       "      <td>59.2</td>\n",
       "      <td>75.07</td>\n",
       "    </tr>\n",
       "  </tbody>\n",
       "</table>\n",
       "<p>5 rows × 39 columns</p>\n",
       "</div>"
      ],
      "text/plain": [
       "   Region  2020 Population  pres2000  pres2004  pres2008  pres2012  pres2016  \\\n",
       "1       3           733391         0         0         0         0         0   \n",
       "2       3          7151502         0         0         0         0         0   \n",
       "5       3          5773714         0         0         1         1         1   \n",
       "8       2         21538187         0         0         1         1         0   \n",
       "9       2         10711908         0         0         0         0         0   \n",
       "\n",
       "   pres2020  sen1-recent  sen2-recent  ...  inc-w-recent  rep-finance  \\\n",
       "1         0            0            0  ...             1   7527972.46   \n",
       "2         1            1            1  ...             0  13839094.88   \n",
       "5         1            1            1  ...             0         0.00   \n",
       "8         0            0            0  ...             0  30159319.08   \n",
       "9         1            1            1  ...             0  16470998.24   \n",
       "\n",
       "   dem-finance  median-hh-income  recent-five-polling-avg  polling-party-lead  \\\n",
       "1      3566.69             77790                      6.5                   0   \n",
       "2  38865284.52             61529                      7.0                   1   \n",
       "5  11162092.65             75231                      8.5                   1   \n",
       "8  30773246.01             57703                      9.0                   0   \n",
       "9  73223096.79             61224                      0.5                   0   \n",
       "\n",
       "   pvi  party-pvi  employment-rate  urban-pct-2010  \n",
       "1    9          0             59.6           66.02  \n",
       "2    3          0             56.2           89.81  \n",
       "5    3          1             64.3           86.15  \n",
       "8    3          0             55.4           91.16  \n",
       "9    3          0             59.2           75.07  \n",
       "\n",
       "[5 rows x 39 columns]"
      ]
     },
     "execution_count": 103,
     "metadata": {},
     "output_type": "execute_result"
    }
   ],
   "source": [
    "sen_test_X.head()"
   ]
  },
  {
   "cell_type": "code",
   "execution_count": 104,
   "metadata": {
    "colab": {
     "base_uri": "https://localhost:8080/"
    },
    "executionInfo": {
     "elapsed": 197,
     "status": "ok",
     "timestamp": 1654534575137,
     "user": {
      "displayName": "Darian Shane Martos",
      "userId": "04419166853444755059"
     },
     "user_tz": 420
    },
    "id": "cg1fr7TpGVFG",
    "outputId": "d4260982-5fa0-4742-ed3c-97310096b2a3"
   },
   "outputs": [
    {
     "name": "stderr",
     "output_type": "stream",
     "text": [
      "C:\\Users\\gr0581vr\\Anaconda3\\envs\\homework\\lib\\site-packages\\sklearn\\linear_model\\_sag.py:350: ConvergenceWarning: The max_iter was reached which means the coef_ did not converge\n",
      "  warnings.warn(\n",
      "C:\\Users\\gr0581vr\\Anaconda3\\envs\\homework\\lib\\site-packages\\sklearn\\linear_model\\_sag.py:350: ConvergenceWarning: The max_iter was reached which means the coef_ did not converge\n",
      "  warnings.warn(\n"
     ]
    },
    {
     "data": {
      "text/html": [
       "<style>#sk-container-id-10 {color: black;background-color: white;}#sk-container-id-10 pre{padding: 0;}#sk-container-id-10 div.sk-toggleable {background-color: white;}#sk-container-id-10 label.sk-toggleable__label {cursor: pointer;display: block;width: 100%;margin-bottom: 0;padding: 0.3em;box-sizing: border-box;text-align: center;}#sk-container-id-10 label.sk-toggleable__label-arrow:before {content: \"▸\";float: left;margin-right: 0.25em;color: #696969;}#sk-container-id-10 label.sk-toggleable__label-arrow:hover:before {color: black;}#sk-container-id-10 div.sk-estimator:hover label.sk-toggleable__label-arrow:before {color: black;}#sk-container-id-10 div.sk-toggleable__content {max-height: 0;max-width: 0;overflow: hidden;text-align: left;background-color: #f0f8ff;}#sk-container-id-10 div.sk-toggleable__content pre {margin: 0.2em;color: black;border-radius: 0.25em;background-color: #f0f8ff;}#sk-container-id-10 input.sk-toggleable__control:checked~div.sk-toggleable__content {max-height: 200px;max-width: 100%;overflow: auto;}#sk-container-id-10 input.sk-toggleable__control:checked~label.sk-toggleable__label-arrow:before {content: \"▾\";}#sk-container-id-10 div.sk-estimator input.sk-toggleable__control:checked~label.sk-toggleable__label {background-color: #d4ebff;}#sk-container-id-10 div.sk-label input.sk-toggleable__control:checked~label.sk-toggleable__label {background-color: #d4ebff;}#sk-container-id-10 input.sk-hidden--visually {border: 0;clip: rect(1px 1px 1px 1px);clip: rect(1px, 1px, 1px, 1px);height: 1px;margin: -1px;overflow: hidden;padding: 0;position: absolute;width: 1px;}#sk-container-id-10 div.sk-estimator {font-family: monospace;background-color: #f0f8ff;border: 1px dotted black;border-radius: 0.25em;box-sizing: border-box;margin-bottom: 0.5em;}#sk-container-id-10 div.sk-estimator:hover {background-color: #d4ebff;}#sk-container-id-10 div.sk-parallel-item::after {content: \"\";width: 100%;border-bottom: 1px solid gray;flex-grow: 1;}#sk-container-id-10 div.sk-label:hover label.sk-toggleable__label {background-color: #d4ebff;}#sk-container-id-10 div.sk-serial::before {content: \"\";position: absolute;border-left: 1px solid gray;box-sizing: border-box;top: 0;bottom: 0;left: 50%;z-index: 0;}#sk-container-id-10 div.sk-serial {display: flex;flex-direction: column;align-items: center;background-color: white;padding-right: 0.2em;padding-left: 0.2em;position: relative;}#sk-container-id-10 div.sk-item {position: relative;z-index: 1;}#sk-container-id-10 div.sk-parallel {display: flex;align-items: stretch;justify-content: center;background-color: white;position: relative;}#sk-container-id-10 div.sk-item::before, #sk-container-id-10 div.sk-parallel-item::before {content: \"\";position: absolute;border-left: 1px solid gray;box-sizing: border-box;top: 0;bottom: 0;left: 50%;z-index: -1;}#sk-container-id-10 div.sk-parallel-item {display: flex;flex-direction: column;z-index: 1;position: relative;background-color: white;}#sk-container-id-10 div.sk-parallel-item:first-child::after {align-self: flex-end;width: 50%;}#sk-container-id-10 div.sk-parallel-item:last-child::after {align-self: flex-start;width: 50%;}#sk-container-id-10 div.sk-parallel-item:only-child::after {width: 0;}#sk-container-id-10 div.sk-dashed-wrapped {border: 1px dashed gray;margin: 0 0.4em 0.5em 0.4em;box-sizing: border-box;padding-bottom: 0.4em;background-color: white;}#sk-container-id-10 div.sk-label label {font-family: monospace;font-weight: bold;display: inline-block;line-height: 1.2em;}#sk-container-id-10 div.sk-label-container {text-align: center;}#sk-container-id-10 div.sk-container {/* jupyter's `normalize.less` sets `[hidden] { display: none; }` but bootstrap.min.css set `[hidden] { display: none !important; }` so we also need the `!important` here to be able to override the default hidden behavior on the sphinx rendered scikit-learn.org. See: https://github.com/scikit-learn/scikit-learn/issues/21755 */display: inline-block !important;position: relative;}#sk-container-id-10 div.sk-text-repr-fallback {display: none;}</style><div id=\"sk-container-id-10\" class=\"sk-top-container\"><div class=\"sk-text-repr-fallback\"><pre>XGBClassifier(alpha=10, base_score=0.5, booster=&#x27;gbtree&#x27;, callbacks=None,\n",
       "              colsample_bylevel=1, colsample_bynode=1, colsample_bytree=0.3,\n",
       "              early_stopping_rounds=None, enable_categorical=False,\n",
       "              eval_metric=None, feature_types=None, gamma=0, gpu_id=-1,\n",
       "              grow_policy=&#x27;depthwise&#x27;, importance_type=None,\n",
       "              interaction_constraints=&#x27;&#x27;, learning_rate=0.1, max_bin=256,\n",
       "              max_cat_threshold=64, max_cat_to_onehot=4, max_delta_step=0,\n",
       "              max_depth=6, max_leaves=0, min_child_weight=1, missing=nan,\n",
       "              monotone_constraints=&#x27;()&#x27;, n_estimators=120, n_jobs=0,\n",
       "              num_parallel_tree=1, predictor=&#x27;auto&#x27;, ...)</pre><b>In a Jupyter environment, please rerun this cell to show the HTML representation or trust the notebook. <br />On GitHub, the HTML representation is unable to render, please try loading this page with nbviewer.org.</b></div><div class=\"sk-container\" hidden><div class=\"sk-item\"><div class=\"sk-estimator sk-toggleable\"><input class=\"sk-toggleable__control sk-hidden--visually\" id=\"sk-estimator-id-14\" type=\"checkbox\" checked><label for=\"sk-estimator-id-14\" class=\"sk-toggleable__label sk-toggleable__label-arrow\">XGBClassifier</label><div class=\"sk-toggleable__content\"><pre>XGBClassifier(alpha=10, base_score=0.5, booster=&#x27;gbtree&#x27;, callbacks=None,\n",
       "              colsample_bylevel=1, colsample_bynode=1, colsample_bytree=0.3,\n",
       "              early_stopping_rounds=None, enable_categorical=False,\n",
       "              eval_metric=None, feature_types=None, gamma=0, gpu_id=-1,\n",
       "              grow_policy=&#x27;depthwise&#x27;, importance_type=None,\n",
       "              interaction_constraints=&#x27;&#x27;, learning_rate=0.1, max_bin=256,\n",
       "              max_cat_threshold=64, max_cat_to_onehot=4, max_delta_step=0,\n",
       "              max_depth=6, max_leaves=0, min_child_weight=1, missing=nan,\n",
       "              monotone_constraints=&#x27;()&#x27;, n_estimators=120, n_jobs=0,\n",
       "              num_parallel_tree=1, predictor=&#x27;auto&#x27;, ...)</pre></div></div></div></div></div>"
      ],
      "text/plain": [
       "XGBClassifier(alpha=10, base_score=0.5, booster='gbtree', callbacks=None,\n",
       "              colsample_bylevel=1, colsample_bynode=1, colsample_bytree=0.3,\n",
       "              early_stopping_rounds=None, enable_categorical=False,\n",
       "              eval_metric=None, feature_types=None, gamma=0, gpu_id=-1,\n",
       "              grow_policy='depthwise', importance_type=None,\n",
       "              interaction_constraints='', learning_rate=0.1, max_bin=256,\n",
       "              max_cat_threshold=64, max_cat_to_onehot=4, max_delta_step=0,\n",
       "              max_depth=6, max_leaves=0, min_child_weight=1, missing=nan,\n",
       "              monotone_constraints='()', n_estimators=120, n_jobs=0,\n",
       "              num_parallel_tree=1, predictor='auto', ...)"
      ]
     },
     "execution_count": 104,
     "metadata": {},
     "output_type": "execute_result"
    }
   ],
   "source": [
    "lrmodel.fit(sen_train_X,sen_train_y.values.ravel())\n",
    "lassomodel.fit(sen_train_X,sen_train_y.values.ravel())\n",
    "ridgemodel.fit(sen_train_X,sen_train_y.values.ravel())\n",
    "dtree.fit(sen_train_X,sen_train_y.values.ravel())\n",
    "forest.fit(sen_train_X,sen_train_y.values.ravel())\n",
    "xgboost1.fit(sen_train_X,sen_train_y.values.ravel())"
   ]
  },
  {
   "cell_type": "code",
   "execution_count": 105,
   "metadata": {
    "executionInfo": {
     "elapsed": 9,
     "status": "ok",
     "timestamp": 1654534575137,
     "user": {
      "displayName": "Darian Shane Martos",
      "userId": "04419166853444755059"
     },
     "user_tz": 420
    },
    "id": "lumDZcNnJINo"
   },
   "outputs": [],
   "source": [
    "## Form predictions over all models\n",
    "logpreds = lrmodel.predict(sen_test_X)\n",
    "lassopreds = lassomodel.predict(sen_test_X)\n",
    "ridgepreds = ridgemodel.predict(sen_test_X)\n",
    "treepreds = dtree.predict(sen_test_X)\n",
    "rfpreds = forest.predict(sen_test_X)\n",
    "xgbpreds = xgboost1.predict(sen_test_X)"
   ]
  },
  {
   "cell_type": "code",
   "execution_count": 106,
   "metadata": {
    "colab": {
     "base_uri": "https://localhost:8080/"
    },
    "executionInfo": {
     "elapsed": 9,
     "status": "ok",
     "timestamp": 1654534575138,
     "user": {
      "displayName": "Darian Shane Martos",
      "userId": "04419166853444755059"
     },
     "user_tz": 420
    },
    "id": "cn-I1RJdJNCt",
    "outputId": "287208c5-495b-4cb4-a472-0b0149d82a23"
   },
   "outputs": [
    {
     "name": "stdout",
     "output_type": "stream",
     "text": [
      "[0. 0. 1. 0. 0. 0. 1. 1. 0. 0. 0. 1. 1.]\n",
      "[0. 1. 1. 0. 0. 0. 1. 1. 0. 0. 0. 1. 0.]\n",
      "[0. 0. 1. 0. 0. 0. 1. 1. 0. 0. 0. 1. 1.]\n",
      "[0. 1. 1. 0. 1. 0. 1. 1. 0. 0. 0. 1. 0.]\n",
      "[0. 0. 1. 0. 0. 0. 1. 1. 0. 0. 0. 1. 0.]\n",
      "[0 0 0 0 0 0 0 0 0 0 0 0 0]\n"
     ]
    }
   ],
   "source": [
    "## Differences here!\n",
    "print(logpreds)\n",
    "print(lassopreds)\n",
    "print(ridgepreds)\n",
    "print(treepreds)\n",
    "print(rfpreds)\n",
    "print(xgbpreds)"
   ]
  },
  {
   "cell_type": "markdown",
   "metadata": {
    "id": "pnk0hngnJqSp"
   },
   "source": [
    "The indices above correspond to the following states: [Alaska, Arizona, Colorado, Florida, Georgia, Missouri, Nevada, New Hampshire, North Carolina, Ohio, Pennsylvania, Washington, Wisconsin]"
   ]
  },
  {
   "cell_type": "markdown",
   "metadata": {
    "id": "pvntI3_xc7jD"
   },
   "source": [
    "## More Inference for Senate Model"
   ]
  },
  {
   "cell_type": "code",
   "execution_count": 107,
   "metadata": {
    "colab": {
     "base_uri": "https://localhost:8080/"
    },
    "executionInfo": {
     "elapsed": 8,
     "status": "ok",
     "timestamp": 1654534575138,
     "user": {
      "displayName": "Darian Shane Martos",
      "userId": "04419166853444755059"
     },
     "user_tz": 420
    },
    "id": "r-mzDSdMc90N",
    "outputId": "8ffdf6a5-7038-43ad-d39d-c21d6a592384"
   },
   "outputs": [
    {
     "name": "stdout",
     "output_type": "stream",
     "text": [
      "[[-0.344335   -0.28817789 -0.27688123 -0.16632284 -0.10598584 -0.1050376\n",
      "  -0.08717437 -0.06235964 -0.05241035 -0.00602263  0.00893146  0.05773487\n",
      "   0.09565646  0.10926133  0.11212298  0.12259831  0.16082897  0.19165241\n",
      "   0.1977994   0.23104798  0.23388761  0.26079025  0.26079025  0.27561306\n",
      "   0.29714889  0.36170844  0.37538787  0.38381177  0.40167936  0.40500525\n",
      "   0.42878154  0.48156581  0.48156581  0.48690937  0.49803335  0.5228862\n",
      "   0.56563238  0.74696603  0.77140756]]\n",
      "[[27 15 31 17 30 35 37 16 20 21  0 29 25 14  1 18 24 23 26 33 22  6 36 10\n",
      "  32 19  4  2  8  3  5  7 34 12 38 28 13 11  9]]\n",
      "[[0.         0.         0.         0.         0.         0.\n",
      "  0.         0.         0.         0.         0.         0.\n",
      "  0.         0.         0.         0.         0.         0.\n",
      "  0.         0.         0.         0.         0.         0.\n",
      "  0.         0.         0.02299569 0.04589954 0.04589954 0.06459875\n",
      "  0.07700384 0.17379156 0.18806353 0.19299763 0.23595213 0.35857802\n",
      "  0.35857802 0.77133472 1.16171758]]\n",
      "[[ 0 27 26 25 24 23 22 21 20 37 18 17 16 15 14 31 12 32 10 33 35  3  2  1\n",
      "  30 29  4  6 36  8 19 38  5 28 13 34  7 11  9]]\n",
      "[[-0.19539141 -0.16284641 -0.1440011  -0.10769804 -0.10607286 -0.04115693\n",
      "  -0.04072296 -0.03204078 -0.02584025 -0.01602222 -0.01453794  0.02140146\n",
      "   0.0579237   0.06671213  0.0707574   0.07991627  0.09332973  0.09816439\n",
      "   0.09817922  0.10139705  0.11058705  0.1464589   0.1625544   0.1625544\n",
      "   0.22043481  0.2387355   0.24932308  0.25295758  0.25312381  0.26719691\n",
      "   0.27919304  0.28199036  0.31472901  0.31654039  0.31654039  0.35481535\n",
      "   0.38042289  0.47037631  0.49905095]]\n",
      "[[15 27 31 35 17 37 30 16  0 20 21 25 14  1 29 23 18 33 22 24 26 32  6 36\n",
      "  10 19  2  3  4 38  5  8 12  7 34 28 13 11  9]]\n"
     ]
    }
   ],
   "source": [
    "## Coefficients organized from least important to most important\n",
    "print(np.sort(lr.coef_))\n",
    "print(np.argsort(np.array(lr.coef_)))\n",
    "\n",
    "print(np.sort(lassor.coef_))\n",
    "print(np.argsort(np.array(lassor.coef_)))\n",
    "\n",
    "print(np.sort(ridger.coef_))\n",
    "print(np.argsort(np.array(ridger.coef_)))"
   ]
  },
  {
   "cell_type": "code",
   "execution_count": 108,
   "metadata": {
    "colab": {
     "base_uri": "https://localhost:8080/"
    },
    "executionInfo": {
     "elapsed": 147,
     "status": "ok",
     "timestamp": 1654535727435,
     "user": {
      "displayName": "Darian Shane Martos",
      "userId": "04419166853444755059"
     },
     "user_tz": 420
    },
    "id": "UFVKoDew49JA",
    "outputId": "bf0144b2-df3c-47ef-edc5-c975f94677a2"
   },
   "outputs": [
    {
     "name": "stdout",
     "output_type": "stream",
     "text": [
      "sen2-recent\n",
      "sen2-2ndrecent\n",
      "sen2-3rdrecent\n",
      "polling-party-lead\n",
      "inc-party\n",
      "pres2020\n",
      "some-college\n",
      "high-school-pop\n",
      "grad-professional\n",
      "urban-pct-2010\n"
     ]
    }
   ],
   "source": [
    "print(sen_train_X.columns[9])\n",
    "print(sen_train_X.columns[11])\n",
    "print(sen_train_X.columns[13])\n",
    "print(sen_train_X.columns[34])\n",
    "print(sen_train_X.columns[28])\n",
    "print(sen_train_X.columns[7])\n",
    "print(sen_train_X.columns[16])\n",
    "print(sen_train_X.columns[15])\n",
    "print(sen_train_X.columns[19])\n",
    "print(sen_train_X.columns[38])"
   ]
  },
  {
   "cell_type": "code",
   "execution_count": 109,
   "metadata": {
    "colab": {
     "base_uri": "https://localhost:8080/"
    },
    "executionInfo": {
     "elapsed": 8,
     "status": "ok",
     "timestamp": 1654534575363,
     "user": {
      "displayName": "Darian Shane Martos",
      "userId": "04419166853444755059"
     },
     "user_tz": 420
    },
    "id": "RAerbVTYdDrL",
    "outputId": "0ff9987b-f5e8-4ec8-8f86-ac24e19f6193"
   },
   "outputs": [
    {
     "name": "stdout",
     "output_type": "stream",
     "text": [
      "|--- feature_9 <= 0.50\n",
      "|   |--- class: 0.0\n",
      "|--- feature_9 >  0.50\n",
      "|   |--- class: 1.0\n",
      "\n"
     ]
    }
   ],
   "source": [
    "## Get Tree Representation\n",
    "text_representation = tree.export_text(dtree)\n",
    "print(text_representation)"
   ]
  },
  {
   "cell_type": "code",
   "execution_count": 110,
   "metadata": {
    "colab": {
     "base_uri": "https://localhost:8080/"
    },
    "executionInfo": {
     "elapsed": 6,
     "status": "ok",
     "timestamp": 1654534575364,
     "user": {
      "displayName": "Darian Shane Martos",
      "userId": "04419166853444755059"
     },
     "user_tz": 420
    },
    "id": "Hk2QtlrrdJiE",
    "outputId": "80159151-799c-4902-b186-32c85c5df29d"
   },
   "outputs": [
    {
     "name": "stdout",
     "output_type": "stream",
     "text": [
      "[0. 0. 0. 0. 0. 0. 0. 0. 0. 0. 0. 0. 0. 0. 0. 0. 0. 0. 0. 0. 0. 0. 0. 0.\n",
      " 0. 0. 0. 0. 0. 0. 0. 0. 0. 0. 0. 0. 0. 0. 1.]\n",
      "[ 0 21 22 23 24 25 26 27 20 28 30 31 32 33 34 35 36 29 37 19 17  1  2  3\n",
      "  4  5  6  7 18  8 10 11 12 13 14 15 16 38  9]\n",
      "[0.         0.         0.         0.         0.         0.00025305\n",
      " 0.00068519 0.00077083 0.00088916 0.00091766 0.00123467 0.00163139\n",
      " 0.00180508 0.00231108 0.002372   0.00280412 0.00404633 0.00504132\n",
      " 0.00644731 0.00691513 0.01043537 0.0111667  0.01175279 0.01782676\n",
      " 0.01998911 0.02058077 0.02112438 0.02780488 0.03595817 0.03722988\n",
      " 0.04234075 0.04881164 0.05141508 0.06861354 0.07005088 0.07988107\n",
      " 0.0875037  0.11174531 0.18764492]\n",
      "[24 21 18 26 29 16  0  1 35 25 23 27 37 14 12 17 30 33 15 10  3 20 31 13\n",
      "  4 38 28 32  8  2 19 22 36  6  5  7 34 11  9]\n",
      "[0. 0. 0. 0. 0. 0. 0. 0. 0. 0. 0. 0. 0. 0. 0. 0. 0. 0. 0. 0. 0. 0. 0. 0.\n",
      " 0. 0. 0. 0. 0. 0. 0. 0. 0. 0. 0. 0. 0. 0. 1.]\n",
      "[ 0 21 22 23 24 25 26 27 20 28 30 31 32 33 34 35 36 29 37 19 17  1  2  3\n",
      "  4  5  6  7 18  8 10 11 12 13 14 15 16 38  9]\n"
     ]
    }
   ],
   "source": [
    "## Feature Importances for Ensembles\n",
    "print(np.sort(dtree.feature_importances_))\n",
    "print(np.argsort(np.array(dtree.feature_importances_)))\n",
    "print(np.sort(forest.feature_importances_))\n",
    "print(np.argsort(np.array(forest.feature_importances_)))\n",
    "print(np.sort(xgboost1.feature_importances_))\n",
    "print(np.argsort(np.array(xgboost1.feature_importances_)))"
   ]
  }
 ],
 "metadata": {
  "colab": {
   "authorship_tag": "ABX9TyMZJCRI62Oh+47H9Kql9oSe",
   "collapsed_sections": [],
   "name": "final-results.ipynb",
   "provenance": []
  },
  "kernelspec": {
   "display_name": "Python 3 (ipykernel)",
   "language": "python",
   "name": "python3"
  },
  "language_info": {
   "codemirror_mode": {
    "name": "ipython",
    "version": 3
   },
   "file_extension": ".py",
   "mimetype": "text/x-python",
   "name": "python",
   "nbconvert_exporter": "python",
   "pygments_lexer": "ipython3",
   "version": "3.9.15"
  }
 },
 "nbformat": 4,
 "nbformat_minor": 1
}
